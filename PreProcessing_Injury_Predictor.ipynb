{
 "cells": [
  {
   "cell_type": "markdown",
   "metadata": {},
   "source": [
    "## Modeling"
   ]
  },
  {
   "cell_type": "code",
   "execution_count": null,
   "metadata": {},
   "outputs": [],
   "source": []
  },
  {
   "cell_type": "code",
   "execution_count": null,
   "metadata": {},
   "outputs": [],
   "source": []
  },
  {
   "cell_type": "code",
   "execution_count": 2,
   "metadata": {},
   "outputs": [],
   "source": [
    "#imports\n",
    "import pandas as pd\n",
    "import numpy as np \n",
    "import re\n",
    "import matplotlib.pyplot as plt\n",
    "import datetime\n",
    "\n",
    "\n",
    "#encoders\n",
    "from category_encoders import TargetEncoder\n",
    "import category_encoders as ce\n",
    "\n",
    "#sklearn\n",
    "import sklearn\n",
    "from sklearn.ensemble import RandomForestRegressor, AdaBoostRegressor\n",
    "from sklearn.linear_model import ElasticNet, ElasticNetCV\n",
    "from sklearn.metrics import mean_squared_log_error, mean_absolute_error, r2_score, explained_variance_score\n",
    "from sklearn.model_selection import RandomizedSearchCV, GridSearchCV, train_test_split, cross_val_score, RepeatedKFold\n",
    "\n",
    "#hyperparameter tuner\n",
    "import optuna\n"
   ]
  },
  {
   "cell_type": "code",
   "execution_count": 3,
   "metadata": {},
   "outputs": [],
   "source": [
    "df = pd.read_csv('Injury_BIO_2009-2020.csv', parse_dates=['Date_Injured'])"
   ]
  },
  {
   "cell_type": "markdown",
   "metadata": {},
   "source": [
    "### Preparing data for modeling"
   ]
  },
  {
   "cell_type": "markdown",
   "metadata": {},
   "source": [
    "####   Remove non categorical data and further redundencies.  Create Categorical data\n"
   ]
  },
  {
   "cell_type": "code",
   "execution_count": 4,
   "metadata": {},
   "outputs": [],
   "source": [
    "def extractMonth(dateObj):\n",
    "  return str(dateObj.month)\n",
    "\n",
    "def extractDayOfTeamYear(dateObj):\n",
    "  dateofyear = float(dateObj.strftime(\"%j\"))\n",
    "  dayOfTeamYear = ((dateofyear - 62) % 365)\n",
    "  return dayOfTeamYear"
   ]
  },
  {
   "cell_type": "code",
   "execution_count": 5,
   "metadata": {},
   "outputs": [],
   "source": [
    "def TransformDF(df):\n",
    "  \"\"\"Ensures the imported df is in the correct format to begin encoding\n",
    "\n",
    "  Args:\n",
    "      df ([df]): [imported df from csv]\n",
    "\n",
    "  Returns:\n",
    "      [df]: [df with additional cols in the correct data type also dropping the Date Injured col]\n",
    "  \"\"\"\n",
    "  df.Days_Missed = df.Days_Missed.astype(np.float64)\n",
    "  df.Year = df.Year.astype(np.float64)\n",
    "  df.Age = df.Age.astype(np.float64)\n",
    "  df['Month_Injured'] = df.Date_Injured.apply(extractMonth)\n",
    "  df['Day_Of_Team_Year'] = df.Date_Injured.apply(extractDayOfTeamYear)\n",
    "  df.drop(['Date_Injured'], axis=1, inplace=True)\n",
    "  return df"
   ]
  },
  {
   "cell_type": "code",
   "execution_count": 6,
   "metadata": {},
   "outputs": [
    {
     "data": {
      "text/html": [
       "<div>\n",
       "<style scoped>\n",
       "    .dataframe tbody tr th:only-of-type {\n",
       "        vertical-align: middle;\n",
       "    }\n",
       "\n",
       "    .dataframe tbody tr th {\n",
       "        vertical-align: top;\n",
       "    }\n",
       "\n",
       "    .dataframe thead th {\n",
       "        text-align: right;\n",
       "    }\n",
       "</style>\n",
       "<table border=\"1\" class=\"dataframe\">\n",
       "  <thead>\n",
       "    <tr style=\"text-align: right;\">\n",
       "      <th></th>\n",
       "      <th>Team</th>\n",
       "      <th>Year</th>\n",
       "      <th>Injury_Category</th>\n",
       "      <th>Age</th>\n",
       "      <th>Pos</th>\n",
       "      <th>Wt</th>\n",
       "      <th>Ht</th>\n",
       "      <th>Days_Missed</th>\n",
       "      <th>Month_Injured</th>\n",
       "      <th>Day_Of_Team_Year</th>\n",
       "    </tr>\n",
       "  </thead>\n",
       "  <tbody>\n",
       "    <tr>\n",
       "      <th>0</th>\n",
       "      <td>RAV</td>\n",
       "      <td>2009.0</td>\n",
       "      <td>Not Specified</td>\n",
       "      <td>9082.0</td>\n",
       "      <td>GC</td>\n",
       "      <td>305.0</td>\n",
       "      <td>75.0</td>\n",
       "      <td>3.0</td>\n",
       "      <td>7</td>\n",
       "      <td>147.0</td>\n",
       "    </tr>\n",
       "    <tr>\n",
       "      <th>1</th>\n",
       "      <td>OTI</td>\n",
       "      <td>2009.0</td>\n",
       "      <td>Hamstring</td>\n",
       "      <td>7622.0</td>\n",
       "      <td>WR</td>\n",
       "      <td>230.0</td>\n",
       "      <td>75.0</td>\n",
       "      <td>5.0</td>\n",
       "      <td>8</td>\n",
       "      <td>152.0</td>\n",
       "    </tr>\n",
       "    <tr>\n",
       "      <th>2</th>\n",
       "      <td>NWE</td>\n",
       "      <td>2009.0</td>\n",
       "      <td>Not Specified</td>\n",
       "      <td>8564.0</td>\n",
       "      <td>GC</td>\n",
       "      <td>291.0</td>\n",
       "      <td>74.0</td>\n",
       "      <td>14.0</td>\n",
       "      <td>7</td>\n",
       "      <td>146.0</td>\n",
       "    </tr>\n",
       "    <tr>\n",
       "      <th>3</th>\n",
       "      <td>NWE</td>\n",
       "      <td>2009.0</td>\n",
       "      <td>Knee</td>\n",
       "      <td>10398.0</td>\n",
       "      <td>DE</td>\n",
       "      <td>300.0</td>\n",
       "      <td>77.0</td>\n",
       "      <td>14.0</td>\n",
       "      <td>7</td>\n",
       "      <td>146.0</td>\n",
       "    </tr>\n",
       "    <tr>\n",
       "      <th>4</th>\n",
       "      <td>RAI</td>\n",
       "      <td>2009.0</td>\n",
       "      <td>Not Specified</td>\n",
       "      <td>10596.0</td>\n",
       "      <td>T</td>\n",
       "      <td>325.0</td>\n",
       "      <td>79.0</td>\n",
       "      <td>11.0</td>\n",
       "      <td>7</td>\n",
       "      <td>149.0</td>\n",
       "    </tr>\n",
       "  </tbody>\n",
       "</table>\n",
       "</div>"
      ],
      "text/plain": [
       "  Team    Year Injury_Category      Age Pos     Wt    Ht  Days_Missed  \\\n",
       "0  RAV  2009.0   Not Specified   9082.0  GC  305.0  75.0          3.0   \n",
       "1  OTI  2009.0       Hamstring   7622.0  WR  230.0  75.0          5.0   \n",
       "2  NWE  2009.0   Not Specified   8564.0  GC  291.0  74.0         14.0   \n",
       "3  NWE  2009.0            Knee  10398.0  DE  300.0  77.0         14.0   \n",
       "4  RAI  2009.0   Not Specified  10596.0   T  325.0  79.0         11.0   \n",
       "\n",
       "  Month_Injured  Day_Of_Team_Year  \n",
       "0             7             147.0  \n",
       "1             8             152.0  \n",
       "2             7             146.0  \n",
       "3             7             146.0  \n",
       "4             7             149.0  "
      ]
     },
     "execution_count": 6,
     "metadata": {},
     "output_type": "execute_result"
    }
   ],
   "source": [
    "TransformDF(df)\n",
    "df.head()\n"
   ]
  },
  {
   "cell_type": "code",
   "execution_count": 20,
   "metadata": {},
   "outputs": [
    {
     "data": {
      "image/png": "[encoded data removed]",
      "text/plain": [
       "<Figure size 432x288 with 1 Axes>"
      ]
     },
     "metadata": {},
     "output_type": "display_data"
    }
   ],
   "source": [
    "fig, ax = plt.subplots()\n",
    "ax.scatter(df['Age'][:200], df['Days_Missed'][:200]);"
   ]
  },
  {
   "cell_type": "markdown",
   "metadata": {},
   "source": [
    "#### The following two cells are for very rough inital modeling only, employs label encoding\n",
    "## Do not use on final models"
   ]
  },
  {
   "cell_type": "code",
   "execution_count": 24,
   "metadata": {},
   "outputs": [],
   "source": [
    "# convert string cols to category type\n",
    "for label, content in df.items():\n",
    "    if pd.api.types.is_string_dtype(content):\n",
    "        df[label] = content.astype(\"category\").cat.as_ordered()\n"
   ]
  },
  {
   "cell_type": "code",
   "execution_count": 165,
   "metadata": {},
   "outputs": [
    {
     "data": {
      "text/html": [
       "<div>\n",
       "<style scoped>\n",
       "    .dataframe tbody tr th:only-of-type {\n",
       "        vertical-align: middle;\n",
       "    }\n",
       "\n",
       "    .dataframe tbody tr th {\n",
       "        vertical-align: top;\n",
       "    }\n",
       "\n",
       "    .dataframe thead th {\n",
       "        text-align: right;\n",
       "    }\n",
       "</style>\n",
       "<table border=\"1\" class=\"dataframe\">\n",
       "  <thead>\n",
       "    <tr style=\"text-align: right;\">\n",
       "      <th></th>\n",
       "      <th>Team</th>\n",
       "      <th>Year</th>\n",
       "      <th>Injury_Category</th>\n",
       "      <th>Age(Days)</th>\n",
       "      <th>Pos</th>\n",
       "      <th>Wt</th>\n",
       "      <th>Ht</th>\n",
       "      <th>Days_Missed</th>\n",
       "    </tr>\n",
       "  </thead>\n",
       "  <tbody>\n",
       "    <tr>\n",
       "      <th>0</th>\n",
       "      <td>27</td>\n",
       "      <td>2009</td>\n",
       "      <td>23</td>\n",
       "      <td>9082</td>\n",
       "      <td>11</td>\n",
       "      <td>305.0</td>\n",
       "      <td>75.0</td>\n",
       "      <td>3</td>\n",
       "    </tr>\n",
       "    <tr>\n",
       "      <th>1</th>\n",
       "      <td>9</td>\n",
       "      <td>2009</td>\n",
       "      <td>19</td>\n",
       "      <td>11277</td>\n",
       "      <td>18</td>\n",
       "      <td>244.0</td>\n",
       "      <td>74.0</td>\n",
       "      <td>5</td>\n",
       "    </tr>\n",
       "    <tr>\n",
       "      <th>2</th>\n",
       "      <td>27</td>\n",
       "      <td>2009</td>\n",
       "      <td>23</td>\n",
       "      <td>8083</td>\n",
       "      <td>44</td>\n",
       "      <td>251.0</td>\n",
       "      <td>77.0</td>\n",
       "      <td>6</td>\n",
       "    </tr>\n",
       "    <tr>\n",
       "      <th>3</th>\n",
       "      <td>27</td>\n",
       "      <td>2009</td>\n",
       "      <td>23</td>\n",
       "      <td>9696</td>\n",
       "      <td>45</td>\n",
       "      <td>174.0</td>\n",
       "      <td>72.0</td>\n",
       "      <td>7</td>\n",
       "    </tr>\n",
       "    <tr>\n",
       "      <th>4</th>\n",
       "      <td>22</td>\n",
       "      <td>2009</td>\n",
       "      <td>16</td>\n",
       "      <td>7622</td>\n",
       "      <td>45</td>\n",
       "      <td>230.0</td>\n",
       "      <td>75.0</td>\n",
       "      <td>5</td>\n",
       "    </tr>\n",
       "  </tbody>\n",
       "</table>\n",
       "</div>"
      ],
      "text/plain": [
       "   Team  Year  Injury_Category  Age(Days)  Pos     Wt    Ht  Days_Missed\n",
       "0    27  2009               23       9082   11  305.0  75.0            3\n",
       "1     9  2009               19      11277   18  244.0  74.0            5\n",
       "2    27  2009               23       8083   44  251.0  77.0            6\n",
       "3    27  2009               23       9696   45  174.0  72.0            7\n",
       "4    22  2009               16       7622   45  230.0  75.0            5"
      ]
     },
     "execution_count": 165,
     "metadata": {},
     "output_type": "execute_result"
    }
   ],
   "source": [
    "#converts the category to an int value representing the category code + 1  \n",
    "for label, content in df.items():\n",
    "  if not pd.api.types.is_numeric_dtype(content):\n",
    "    df[label] = pd.Categorical(content).codes+1\n",
    "\n"
   ]
  },
  {
   "cell_type": "markdown",
   "metadata": {},
   "source": [
    "## Using target encoding\n"
   ]
  },
  {
   "cell_type": "code",
   "execution_count": 49,
   "metadata": {},
   "outputs": [],
   "source": [
    "\n",
    "def targetEncodeData(data):\n",
    "  \"\"\"Apply target encoding to data, data for quick, testing purposes only\n",
    "      for more accurate encoding data must be split into test train before applying\n",
    "      encoding.\n",
    "\n",
    "  Args:\n",
    "      data ([pd.DataFrame]): [dataframe to be encoded, ]\n",
    "\n",
    "  Returns:\n",
    "      [pd.DataFrame]: [df with additional encoded cols]\n",
    "  \"\"\"\n",
    "  df = data.copy()\n",
    "  # ensures cols are in type float\n",
    "  df.Days_Missed = df.Days_Missed.astype(np.float64)\n",
    "  df.Year = df.Year.astype(np.float64)\n",
    "  df.Age = df.Age.astype(np.float64)\n",
    "  # encodes the mean of data to cols\n",
    "  encoder = TargetEncoder()\n",
    "  df['Pos Encoded'] = encoder.fit_transform(X=df.Pos, y=df['Days_Missed'])\n",
    "  enc = TargetEncoder()\n",
    "  df['Team_Encoded'] = enc.fit_transform(df['Team'],df['Days_Missed'])\n",
    "  enc = TargetEncoder()\n",
    "  df['Month_Injured_Encoded'] = enc.fit_transform(df['Month_Injured'], df['Days_Missed'])\n",
    "  enc = TargetEncoder()\n",
    "  df['Injury_Category_Encoded'] = enc.fit_transform(df['Injury_Category'],df['Days_Missed'])\n",
    "  return df"
   ]
  },
  {
   "cell_type": "code",
   "execution_count": 38,
   "metadata": {},
   "outputs": [],
   "source": [
    "def splitData(data):\n",
    "  \"\"\"[create training, validation and test split for testing purposes only.  Encoding should be applied on training set before further split into valid set]\n",
    "\n",
    "  Args:\n",
    "      data ([df]): [dataframe of complete data]\n",
    "\n",
    "  Returns:\n",
    "      [type]: [a dictionary split into train test and validation sets]\n",
    "  \"\"\"\n",
    "  train_ratio = 0.75\n",
    "  validation_ratio = 0.15\n",
    "  test_ratio = 0.10\n",
    "  X = df.drop('Days_Missed', axis=1)\n",
    "  y = df.Days_Missed\n",
    "\n",
    "  # train is 75%\n",
    "  X_train, X_test, y_train, y_test = train_test_split(X, y, test_size=1 - train_ratio)\n",
    "\n",
    "  # further split test into validation and test (test is 10%, val is 15%)\n",
    "  X_valid, X_test, y_valid, y_test = train_test_split(X_test, y_test, test_size=test_ratio/(test_ratio + validation_ratio))\n",
    "\n",
    "\n",
    "  print(X_train.shape, X_test.shape, y_train.shape, y_test.shape, X_valid.shape, y_valid.shape)\n",
    "  #create validation set\n",
    "  return {\n",
    "    'X_train': X_train,\n",
    "    'X_test':X_test,\n",
    "     'y_train': y_train,\n",
    "    'y_test':y_test,\n",
    "     'X_valid': X_valid,\n",
    "    'y_valid':y_valid,\n",
    "  }"
   ]
  },
  {
   "cell_type": "code",
   "execution_count": null,
   "metadata": {},
   "outputs": [],
   "source": [
    "data = splitData(df)\n",
    "X_train = data['X_train']\n",
    "X_valid = data[\"X_valid\"]\n",
    "X_test = data['X_test']\n",
    "y_train = data['y_train']\n",
    "y_valid = data[\"y_valid\"]\n",
    "y_test = data['y_test']"
   ]
  },
  {
   "cell_type": "code",
   "execution_count": 16,
   "metadata": {},
   "outputs": [
    {
     "data": {
      "text/plain": [
       "['Team', 'Injury_Category', 'Pos', 'Month_Injured']"
      ]
     },
     "execution_count": 16,
     "metadata": {},
     "output_type": "execute_result"
    }
   ],
   "source": [
    "\n",
    "# identifies target col (y)\n",
    "target_col = ['Days_Missed']\n",
    "# identifies cols that are in numerical form\n",
    "numerical_cols = [\n",
    "  'Year', 'Age', 'Wt', 'Ht', 'Day_Of_Team_Year'\n",
    "  ]\n",
    "cols = list(df.columns)\n",
    "# identifies features that are non numerical and need to preprocesssing\n",
    "features = [feat for feat in cols if feat not in numerical_cols+target_col]\n",
    "features"
   ]
  },
  {
   "cell_type": "code",
   "execution_count": 23,
   "metadata": {},
   "outputs": [],
   "source": [
    "def target_enc(X_train, X_test, X_valid, features):\n",
    "  \"\"\"More Robust encoder for final modeling. Applies target encoding using the mean of the training data for all sets.\n",
    "\n",
    "  Args:\n",
    "      X_train ([df]): [training set]\n",
    "      X_test ([df]): [testing set]\n",
    "      X_valid ([df]): [validation set]\n",
    "      features ([list]): [list of features that need encoding]\n",
    "\n",
    "  Returns:\n",
    "      [list of dataframes]: [dataframes with additional cols for each feature with the suffix target added, also drops original col]\n",
    "  \"\"\"\n",
    "  targ_enc = ce.TargetEncoder(cols=features)\n",
    "  targ_enc.fit(X_train[features], y_train)\n",
    "  \n",
    "  train_df = X_train.join(targ_enc.transform(X_train[features]).add_suffix('_target'))\n",
    "  test_df = X_test.join(targ_enc.transform(X_test[features]).add_suffix('_target'))\n",
    "  valid_df = X_valid.join(targ_enc.transform(X_valid[features]).add_suffix('_target'))\n",
    "  \n",
    "  train_df = train_df.drop(features, axis=1)\n",
    "  test_df = test_df.drop(features, axis=1)\n",
    "  valid_df = valid_df.drop(features, axis=1)\n",
    "    \n",
    "  return train_df, test_df, valid_df"
   ]
  },
  {
   "cell_type": "code",
   "execution_count": 114,
   "metadata": {},
   "outputs": [],
   "source": [
    "data2 = target_enc(X_train=X_train, X_test=X_test, X_valid=X_valid, features=features)\n",
    "train_df = data2[0]\n",
    "test_df = data2[1]\n",
    "valid_df = data2[2]"
   ]
  },
  {
   "cell_type": "code",
   "execution_count": 115,
   "metadata": {},
   "outputs": [],
   "source": [
    "X_train = train_df\n",
    "X_test = test_df\n",
    "X_valid = valid_df"
   ]
  },
  {
   "cell_type": "markdown",
   "metadata": {},
   "source": [
    "## Begin Modeling with SciKit-Learn"
   ]
  },
  {
   "cell_type": "code",
   "execution_count": 31,
   "metadata": {},
   "outputs": [],
   "source": [
    "\n",
    "def display_scores(model):\n",
    "  \"\"\"Scoring function that generates Mean Absolute Error, R^2 and explained Variance for the train and validation sets\n",
    "\n",
    "  Args:\n",
    "      model (model/clf): [fitted model ready to be scored]\n",
    "\n",
    "  Returns:\n",
    "      [dict]: [returns a dictionary of scores]\n",
    "  \"\"\"\n",
    "  train_preds = model.predict(X_train)\n",
    "  val_preds = model.predict(X_valid)\n",
    "  scores = {\n",
    "      \"Taining MAE\": mean_absolute_error(y_train, train_preds),\n",
    "      \"Valid MAE\": mean_absolute_error(y_valid, val_preds),\n",
    "      \"Training R^2\": r2_score(y_train, train_preds),\n",
    "      \"Valid R^2\": r2_score(y_valid, val_preds),\n",
    "      \"Training Explained Variance\": explained_variance_score(y_train, train_preds),\n",
    "      \"Valid Explained Variance\": explained_variance_score(y_valid, val_preds)\n",
    "    }\n",
    "  return scores"
   ]
  },
  {
   "cell_type": "code",
   "execution_count": 108,
   "metadata": {},
   "outputs": [
    {
     "name": "stdout",
     "output_type": "stream",
     "text": [
      "(3055, 9) (408, 9) (3055,) (408,) (611, 9) (611,)\n"
     ]
    }
   ],
   "source": [
    "data = splitData(df)\n",
    "X_train = data['X_train']\n",
    "X_valid = data[\"X_valid\"]\n",
    "X_test = data['X_test']\n",
    "y_train = data['y_train']\n",
    "y_valid = data[\"y_valid\"]\n",
    "y_test = data['y_test']"
   ]
  },
  {
   "cell_type": "code",
   "execution_count": 109,
   "metadata": {},
   "outputs": [],
   "source": [
    "X_train, X_test, X_valid =  target_enc(X_train, X_test, X_valid, features)"
   ]
  },
  {
   "cell_type": "markdown",
   "metadata": {},
   "source": [
    "### Modeling with Random Forest Regressor from SciKit-Learn"
   ]
  },
  {
   "cell_type": "code",
   "execution_count": 110,
   "metadata": {},
   "outputs": [
    {
     "data": {
      "text/plain": [
       "RandomForestRegressor(n_jobs=-1, random_state=42)"
      ]
     },
     "execution_count": 110,
     "metadata": {},
     "output_type": "execute_result"
    }
   ],
   "source": [
    "model = RandomForestRegressor(n_jobs=-1, random_state=42)\n",
    "model.fit(X_train, y_train)"
   ]
  },
  {
   "cell_type": "code",
   "execution_count": 57,
   "metadata": {},
   "outputs": [],
   "source": [
    "cv = RepeatedKFold(n_splits=10, n_repeats=3, random_state=42)"
   ]
  },
  {
   "cell_type": "code",
   "execution_count": 111,
   "metadata": {},
   "outputs": [
    {
     "data": {
      "text/plain": [
       "{'Taining MAE': 4.2834870859636816,\n",
       " 'Valid MAE': 12.632351648351648,\n",
       " 'Training R^2': 0.957188221057296,\n",
       " 'Valid R^2': 0.6621225859378805,\n",
       " 'Training Explained Variance': 0.9571983634740817,\n",
       " 'Valid Explained Variance': 0.663411607842378}"
      ]
     },
     "execution_count": 111,
     "metadata": {},
     "output_type": "execute_result"
    }
   ],
   "source": [
    "display_scores(model)"
   ]
  },
  {
   "cell_type": "markdown",
   "metadata": {},
   "source": [
    "### Tuning hyperparameters "
   ]
  },
  {
   "cell_type": "code",
   "execution_count": 43,
   "metadata": {},
   "outputs": [],
   "source": [
    "rf_grid = {\"n_estimators\": np.arange(10, 100, 10),\n",
    "          \"max_depth\": [None, 3, 5, 10],\n",
    "          \"min_samples_split\": np.arange(2, 20, 2),\n",
    "          \"min_samples_leaf\": np.arange(1, 20, 2),\n",
    "          \"max_features\": [0.5, 1, \"sqrt\", \"auto\"]}"
   ]
  },
  {
   "cell_type": "code",
   "execution_count": 58,
   "metadata": {},
   "outputs": [
    {
     "name": "stdout",
     "output_type": "stream",
     "text": [
      "Fitting 30 folds for each of 30 candidates, totalling 900 fits\n"
     ]
    },
    {
     "data": {
      "text/plain": [
       "RandomizedSearchCV(cv=RepeatedKFold(n_repeats=3, n_splits=10, random_state=42),\n",
       "                   estimator=RandomForestRegressor(n_jobs=-1, random_state=33),\n",
       "                   n_iter=30,\n",
       "                   param_distributions={'max_depth': [None, 3, 5, 10],\n",
       "                                        'max_features': [0.5, 1, 'sqrt',\n",
       "                                                         'auto'],\n",
       "                                        'min_samples_leaf': array([ 1,  3,  5,  7,  9, 11, 13, 15, 17, 19]),\n",
       "                                        'min_samples_split': array([ 2,  4,  6,  8, 10, 12, 14, 16, 18]),\n",
       "                                        'n_estimators': array([10, 20, 30, 40, 50, 60, 70, 80, 90])},\n",
       "                   verbose=True)"
      ]
     },
     "execution_count": 58,
     "metadata": {},
     "output_type": "execute_result"
    }
   ],
   "source": [
    "rs_model2 = RandomizedSearchCV(RandomForestRegressor(n_jobs=-1, random_state=33),\n",
    "                                                   param_distributions=rf_grid,\n",
    "                                                   n_iter=30,\n",
    "                                                   cv=cv,\n",
    "                                                   verbose=True)\n",
    "\n",
    "rs_model2.fit(X_train, y_train)"
   ]
  },
  {
   "cell_type": "code",
   "execution_count": 62,
   "metadata": {},
   "outputs": [
    {
     "data": {
      "text/plain": [
       "{'n_estimators': 70,\n",
       " 'min_samples_split': 18,\n",
       " 'min_samples_leaf': 7,\n",
       " 'max_features': 'auto',\n",
       " 'max_depth': None}"
      ]
     },
     "execution_count": 62,
     "metadata": {},
     "output_type": "execute_result"
    }
   ],
   "source": [
    "rs_model2.best_params_"
   ]
  },
  {
   "cell_type": "code",
   "execution_count": 61,
   "metadata": {},
   "outputs": [
    {
     "data": {
      "text/plain": [
       "{'Taining MAE': 9.363803266180184,\n",
       " 'Valid MAE': 12.741956644399556,\n",
       " 'Training R^2': 0.8020382362664055,\n",
       " 'Valid R^2': 0.6631381809076764,\n",
       " 'Training Explained Variance': 0.8020389103993069,\n",
       " 'Valid Explained Variance': 0.6644622416213873}"
      ]
     },
     "execution_count": 61,
     "metadata": {},
     "output_type": "execute_result"
    }
   ],
   "source": [
    "display_scores(rs_model2)"
   ]
  },
  {
   "cell_type": "markdown",
   "metadata": {},
   "source": [
    "#### Observe feature importance for future data analysis"
   ]
  },
  {
   "cell_type": "code",
   "execution_count": 112,
   "metadata": {},
   "outputs": [
    {
     "data": {
      "text/plain": [
       "array([0.07633387, 0.04752538, 0.03501084, 0.02062307, 0.19010739,\n",
       "       0.02891911, 0.34639468, 0.02140056, 0.23368508])"
      ]
     },
     "execution_count": 112,
     "metadata": {},
     "output_type": "execute_result"
    }
   ],
   "source": [
    "model.feature_importances_"
   ]
  },
  {
   "cell_type": "code",
   "execution_count": 113,
   "metadata": {},
   "outputs": [],
   "source": [
    "def plot_feature_Importance(columns, importances, n=10):\n",
    "  \"\"\"[creates a horizontal bar graph visualizing the importance of each feature col]\n",
    "\n",
    "  Args:\n",
    "      columns ([list]): [columns in df]\n",
    "      importances ([array]): [array with numerical importance of each col, 1 being most significant, 0 being insignificant]\n",
    "      n (int, optional): [no of features to chart]. Defaults to 10.\n",
    "  \"\"\"\n",
    "  df = (pd.DataFrame({\"features\": columns,\n",
    "                      \"feature_importances\": importances})\n",
    "        .sort_values(\"feature_importances\", ascending=False)\n",
    "        .reset_index(drop=True))\n",
    "  \n",
    "  #plot the df\n",
    "  fig, ax = plt.subplots()\n",
    "  ax.barh(df[\"features\"][:n], df[\"feature_importances\"][:n])\n",
    "  ax.set_ylabel(\"Features\")\n",
    "  ax.set_xlabel(\"Feature importance\")\n",
    "  ax.invert_yaxis()"
   ]
  },
  {
   "cell_type": "code",
   "execution_count": 114,
   "metadata": {},
   "outputs": [
    {
     "data": {
      "image/png": "[encoded data removed]",
      "text/plain": [
       "<Figure size 432x288 with 1 Axes>"
      ]
     },
     "metadata": {},
     "output_type": "display_data"
    }
   ],
   "source": [
    "plot_feature_Importance(X_train.columns, model.feature_importances_)"
   ]
  },
  {
   "cell_type": "markdown",
   "metadata": {},
   "source": [
    "### Modeling with ElasticNet (performed worse than randomforest)"
   ]
  },
  {
   "cell_type": "code",
   "execution_count": 54,
   "metadata": {},
   "outputs": [
    {
     "name": "stdout",
     "output_type": "stream",
     "text": [
      "Mean MAE: 19.809 (0.749)\n"
     ]
    }
   ],
   "source": [
    "# define model\n",
    "elasticModel = ElasticNet(alpha=1.0, l1_ratio=0.5)\n",
    "# define model evaluation method\n",
    "cv = RepeatedKFold(n_splits=10, n_repeats=3, random_state=42)\n",
    "# evaluate model\n",
    "scores = cross_val_score(elasticModel, X_train, y_train, scoring='neg_mean_absolute_error', cv=cv, n_jobs=-1)\n",
    "# force scores to be positive\n",
    "scores = np.absolute(scores)\n",
    "print('Mean MAE: %.3f (%.3f)' % (np.mean(scores), np.std(scores)))"
   ]
  },
  {
   "cell_type": "code",
   "execution_count": 55,
   "metadata": {},
   "outputs": [
    {
     "data": {
      "text/plain": [
       "{'Taining MAE': 19.746586685944663,\n",
       " 'Valid MAE': 20.59924173084098,\n",
       " 'Training R^2': 0.5490441105549329,\n",
       " 'Valid R^2': 0.5019753387795843,\n",
       " 'Training Explained Variance': 0.5490441105549329,\n",
       " 'Valid Explained Variance': 0.5033346080703844}"
      ]
     },
     "execution_count": 55,
     "metadata": {},
     "output_type": "execute_result"
    }
   ],
   "source": [
    "elasticModel.fit(X_train, y_train)\n",
    "display_scores(elasticModel)"
   ]
  },
  {
   "cell_type": "markdown",
   "metadata": {},
   "source": [
    "#### elasic model performed significantly worse than RandomForestRegressor, hypertuning will not be performed"
   ]
  },
  {
   "cell_type": "markdown",
   "metadata": {},
   "source": [
    "### Implement AdaBoost"
   ]
  },
  {
   "cell_type": "code",
   "execution_count": 59,
   "metadata": {},
   "outputs": [
    {
     "data": {
      "text/plain": [
       "{'Taining MAE': 20.74683289912267,\n",
       " 'Valid MAE': 21.775154893641258,\n",
       " 'Training R^2': 0.5210053798291066,\n",
       " 'Valid R^2': 0.4382830555685754,\n",
       " 'Training Explained Variance': 0.5211219462014641,\n",
       " 'Valid Explained Variance': 0.4389137614150198}"
      ]
     },
     "execution_count": 59,
     "metadata": {},
     "output_type": "execute_result"
    }
   ],
   "source": [
    "\n",
    "\n",
    "clf = AdaBoostRegressor(n_estimators=100)\n",
    "clf.fit(X_train, y_train)\n",
    "# scores = cross_val_score(clf, X_train, y_train, cv=5)\n",
    "# scores.mean()\n",
    "\n",
    "display_scores(clf)"
   ]
  },
  {
   "cell_type": "markdown",
   "metadata": {},
   "source": [
    "##### AdaBoost performed worse than RandomForestRegressor no hyperparameter tuning was performed"
   ]
  },
  {
   "cell_type": "markdown",
   "metadata": {},
   "source": [
    "### Implement CatBoost"
   ]
  },
  {
   "cell_type": "code",
   "execution_count": 65,
   "metadata": {},
   "outputs": [],
   "source": [
    "from catboost import CatBoostRegressor, Pool, metrics, cv\n",
    "from sklearn.metrics import mean_squared_log_error, mean_absolute_error, r2_score, explained_variance_score, accuracy_score, mean_squared_error\n",
    "from sklearn.model_selection import RandomizedSearchCV, GridSearchCV, train_test_split, cross_val_score, RepeatedKFold\n",
    "\n",
    "import numpy as np  \n",
    "import pandas as pd\n",
    "import matplotlib.pyplot as plt"
   ]
  },
  {
   "cell_type": "code",
   "execution_count": 28,
   "metadata": {},
   "outputs": [],
   "source": [
    "df = pd.read_csv('Injury_BIO_2009-2020.csv', parse_dates=['Date_Injured'])\n",
    "df = TransformDF(df)"
   ]
  },
  {
   "cell_type": "code",
   "execution_count": 22,
   "metadata": {},
   "outputs": [
    {
     "data": {
      "text/html": [
       "<div>\n",
       "<style scoped>\n",
       "    .dataframe tbody tr th:only-of-type {\n",
       "        vertical-align: middle;\n",
       "    }\n",
       "\n",
       "    .dataframe tbody tr th {\n",
       "        vertical-align: top;\n",
       "    }\n",
       "\n",
       "    .dataframe thead th {\n",
       "        text-align: right;\n",
       "    }\n",
       "</style>\n",
       "<table border=\"1\" class=\"dataframe\">\n",
       "  <thead>\n",
       "    <tr style=\"text-align: right;\">\n",
       "      <th></th>\n",
       "      <th>Team</th>\n",
       "      <th>Year</th>\n",
       "      <th>Injury_Category</th>\n",
       "      <th>Age</th>\n",
       "      <th>Pos</th>\n",
       "      <th>Wt</th>\n",
       "      <th>Ht</th>\n",
       "      <th>Days_Missed</th>\n",
       "      <th>Month_Injured</th>\n",
       "      <th>Day_Of_Team_Year</th>\n",
       "    </tr>\n",
       "  </thead>\n",
       "  <tbody>\n",
       "    <tr>\n",
       "      <th>0</th>\n",
       "      <td>RAV</td>\n",
       "      <td>2009.0</td>\n",
       "      <td>Not Specified</td>\n",
       "      <td>9082.0</td>\n",
       "      <td>GC</td>\n",
       "      <td>305.0</td>\n",
       "      <td>75.0</td>\n",
       "      <td>3.0</td>\n",
       "      <td>7</td>\n",
       "      <td>147.0</td>\n",
       "    </tr>\n",
       "    <tr>\n",
       "      <th>1</th>\n",
       "      <td>OTI</td>\n",
       "      <td>2009.0</td>\n",
       "      <td>Hamstring</td>\n",
       "      <td>7622.0</td>\n",
       "      <td>WR</td>\n",
       "      <td>230.0</td>\n",
       "      <td>75.0</td>\n",
       "      <td>5.0</td>\n",
       "      <td>8</td>\n",
       "      <td>152.0</td>\n",
       "    </tr>\n",
       "    <tr>\n",
       "      <th>2</th>\n",
       "      <td>NWE</td>\n",
       "      <td>2009.0</td>\n",
       "      <td>Not Specified</td>\n",
       "      <td>8564.0</td>\n",
       "      <td>GC</td>\n",
       "      <td>291.0</td>\n",
       "      <td>74.0</td>\n",
       "      <td>14.0</td>\n",
       "      <td>7</td>\n",
       "      <td>146.0</td>\n",
       "    </tr>\n",
       "    <tr>\n",
       "      <th>3</th>\n",
       "      <td>NWE</td>\n",
       "      <td>2009.0</td>\n",
       "      <td>Knee</td>\n",
       "      <td>10398.0</td>\n",
       "      <td>DE</td>\n",
       "      <td>300.0</td>\n",
       "      <td>77.0</td>\n",
       "      <td>14.0</td>\n",
       "      <td>7</td>\n",
       "      <td>146.0</td>\n",
       "    </tr>\n",
       "    <tr>\n",
       "      <th>4</th>\n",
       "      <td>RAI</td>\n",
       "      <td>2009.0</td>\n",
       "      <td>Not Specified</td>\n",
       "      <td>10596.0</td>\n",
       "      <td>T</td>\n",
       "      <td>325.0</td>\n",
       "      <td>79.0</td>\n",
       "      <td>11.0</td>\n",
       "      <td>7</td>\n",
       "      <td>149.0</td>\n",
       "    </tr>\n",
       "  </tbody>\n",
       "</table>\n",
       "</div>"
      ],
      "text/plain": [
       "  Team    Year Injury_Category      Age Pos     Wt    Ht  Days_Missed  \\\n",
       "0  RAV  2009.0   Not Specified   9082.0  GC  305.0  75.0          3.0   \n",
       "1  OTI  2009.0       Hamstring   7622.0  WR  230.0  75.0          5.0   \n",
       "2  NWE  2009.0   Not Specified   8564.0  GC  291.0  74.0         14.0   \n",
       "3  NWE  2009.0            Knee  10398.0  DE  300.0  77.0         14.0   \n",
       "4  RAI  2009.0   Not Specified  10596.0   T  325.0  79.0         11.0   \n",
       "\n",
       "  Month_Injured  Day_Of_Team_Year  \n",
       "0             7             147.0  \n",
       "1             8             152.0  \n",
       "2             7             146.0  \n",
       "3             7             146.0  \n",
       "4             7             149.0  "
      ]
     },
     "execution_count": 22,
     "metadata": {},
     "output_type": "execute_result"
    }
   ],
   "source": [
    "df.head()"
   ]
  },
  {
   "cell_type": "code",
   "execution_count": 23,
   "metadata": {},
   "outputs": [],
   "source": [
    "\n",
    "RANDOM_SEED = 42"
   ]
  },
  {
   "cell_type": "code",
   "execution_count": 29,
   "metadata": {},
   "outputs": [],
   "source": [
    "# split data into training and test\n",
    "X = df.drop('Days_Missed', axis=1)\n",
    "y = df.Days_Missed\n",
    "X_train, X_test, y_train, y_test = train_test_split(X, y, test_size=.15, random_state=RANDOM_SEED)"
   ]
  },
  {
   "cell_type": "code",
   "execution_count": 30,
   "metadata": {},
   "outputs": [],
   "source": [
    "#save training data for training model, used for encoding future data\n",
    "X_train.to_csv('X_train.csv', index=False)\n",
    "y_train.to_csv('y_train.csv', index=False)"
   ]
  },
  {
   "cell_type": "code",
   "execution_count": 25,
   "metadata": {},
   "outputs": [],
   "source": [
    "def catboost_split_enc(X_train,y_train,X_test, features, rs):\n",
    "    # encode nonnumerical cols listed in features using training data\n",
    "    cb_enc = ce.CatBoostEncoder(cols=features)\n",
    "    cb_enc.fit(X_train[features], y_train)\n",
    "    # add columns for encoded data and join them to the correct col\n",
    "    X_train = X_train.join(cb_enc.transform(X_train[features]).add_suffix('_cb'))\n",
    "    X_test = X_test.join(cb_enc.transform(X_test[features]).add_suffix('_cb'))\n",
    "    # split training into train and valid after encoding\n",
    "    X_train, X_valid, y_train, y_valid = train_test_split(X_train, y_train, test_size=.18, random_state=rs)\n",
    "    # drop categorical cols\n",
    "    X_train.drop(features, axis=1, inplace=True)\n",
    "    X_valid.drop(features, axis=1, inplace=True)\n",
    "    X_test.drop(features, axis=1, inplace=True)\n",
    "    # return X and y sets\n",
    "    return X_train, X_valid, X_test, y_train, y_valid"
   ]
  },
  {
   "cell_type": "code",
   "execution_count": 26,
   "metadata": {},
   "outputs": [],
   "source": [
    "X_train, X_valid, X_test, y_train, y_valid = catboost_split_enc(X_train,y_train, X_test, features, RANDOM_SEED)"
   ]
  },
  {
   "cell_type": "code",
   "execution_count": null,
   "metadata": {},
   "outputs": [],
   "source": []
  },
  {
   "cell_type": "code",
   "execution_count": 121,
   "metadata": {},
   "outputs": [],
   "source": [
    "catboostModel = CatBoostRegressor(random_seed=RANDOM_SEED)\n"
   ]
  },
  {
   "cell_type": "code",
   "execution_count": 122,
   "metadata": {},
   "outputs": [
    {
     "data": {
      "application/vnd.jupyter.widget-view+json": {
       "model_id": "201610d1a74d4d0bbb346dfea6e3524c",
       "version_major": 2,
       "version_minor": 0
      },
      "text/plain": [
       "MetricVisualizer(layout=Layout(align_self='stretch', height='500px'))"
      ]
     },
     "metadata": {},
     "output_type": "display_data"
    },
    {
     "name": "stdout",
     "output_type": "stream",
     "text": [
      "Learning rate set to 0.059982\n",
      "0:\tlearn: 37.4157659\ttest: 37.3371241\tbest: 37.3371241 (0)\ttotal: 17.1ms\tremaining: 17.1s\n",
      "1:\tlearn: 36.2485343\ttest: 36.1874629\tbest: 36.1874629 (1)\ttotal: 19.1ms\tremaining: 9.52s\n",
      "2:\tlearn: 35.1196337\ttest: 35.0737271\tbest: 35.0737271 (2)\ttotal: 20.9ms\tremaining: 6.93s\n",
      "3:\tlearn: 34.1181595\ttest: 34.0844630\tbest: 34.0844630 (3)\ttotal: 22.4ms\tremaining: 5.59s\n",
      "4:\tlearn: 33.1761256\ttest: 33.1926988\tbest: 33.1926988 (4)\ttotal: 24.2ms\tremaining: 4.82s\n",
      "5:\tlearn: 32.2788853\ttest: 32.3124692\tbest: 32.3124692 (5)\ttotal: 26.1ms\tremaining: 4.32s\n",
      "6:\tlearn: 31.5409814\ttest: 31.5901650\tbest: 31.5901650 (6)\ttotal: 28.1ms\tremaining: 3.98s\n",
      "7:\tlearn: 30.6812919\ttest: 30.7779595\tbest: 30.7779595 (7)\ttotal: 29.9ms\tremaining: 3.71s\n",
      "8:\tlearn: 29.9922784\ttest: 30.1161915\tbest: 30.1161915 (8)\ttotal: 31.7ms\tremaining: 3.49s\n",
      "9:\tlearn: 29.3191116\ttest: 29.4752112\tbest: 29.4752112 (9)\ttotal: 33.5ms\tremaining: 3.32s\n",
      "10:\tlearn: 28.6483206\ttest: 28.8251394\tbest: 28.8251394 (10)\ttotal: 35.2ms\tremaining: 3.16s\n",
      "11:\tlearn: 28.0909058\ttest: 28.2985728\tbest: 28.2985728 (11)\ttotal: 36.9ms\tremaining: 3.04s\n",
      "12:\tlearn: 27.5646560\ttest: 27.7969454\tbest: 27.7969454 (12)\ttotal: 39.3ms\tremaining: 2.98s\n",
      "13:\tlearn: 27.1337219\ttest: 27.4072414\tbest: 27.4072414 (13)\ttotal: 41.3ms\tremaining: 2.91s\n",
      "14:\tlearn: 26.7162000\ttest: 27.0134313\tbest: 27.0134313 (14)\ttotal: 43.1ms\tremaining: 2.83s\n",
      "15:\tlearn: 26.3388080\ttest: 26.6604402\tbest: 26.6604402 (15)\ttotal: 45.2ms\tremaining: 2.78s\n",
      "16:\tlearn: 25.9667677\ttest: 26.3112153\tbest: 26.3112153 (16)\ttotal: 47.2ms\tremaining: 2.73s\n",
      "17:\tlearn: 25.5814619\ttest: 25.9797705\tbest: 25.9797705 (17)\ttotal: 48.9ms\tremaining: 2.67s\n",
      "18:\tlearn: 25.2811583\ttest: 25.7256882\tbest: 25.7256882 (18)\ttotal: 50.5ms\tremaining: 2.61s\n",
      "19:\tlearn: 25.0172443\ttest: 25.4817675\tbest: 25.4817675 (19)\ttotal: 52.3ms\tremaining: 2.56s\n",
      "20:\tlearn: 24.7299544\ttest: 25.2489430\tbest: 25.2489430 (20)\ttotal: 54.2ms\tremaining: 2.53s\n",
      "21:\tlearn: 24.4460675\ttest: 25.0010461\tbest: 25.0010461 (21)\ttotal: 56ms\tremaining: 2.49s\n",
      "22:\tlearn: 24.1644054\ttest: 24.7672145\tbest: 24.7672145 (22)\ttotal: 57.9ms\tremaining: 2.46s\n",
      "23:\tlearn: 23.8861616\ttest: 24.5550833\tbest: 24.5550833 (23)\ttotal: 59.8ms\tremaining: 2.43s\n",
      "24:\tlearn: 23.7114721\ttest: 24.3966323\tbest: 24.3966323 (24)\ttotal: 61.6ms\tremaining: 2.4s\n",
      "25:\tlearn: 23.4784440\ttest: 24.1968975\tbest: 24.1968975 (25)\ttotal: 64ms\tremaining: 2.4s\n",
      "26:\tlearn: 23.3312828\ttest: 24.0824792\tbest: 24.0824792 (26)\ttotal: 66ms\tremaining: 2.38s\n",
      "27:\tlearn: 23.1901457\ttest: 23.9422212\tbest: 23.9422212 (27)\ttotal: 67.8ms\tremaining: 2.35s\n",
      "28:\tlearn: 23.0068934\ttest: 23.8151410\tbest: 23.8151410 (28)\ttotal: 69.6ms\tremaining: 2.33s\n",
      "29:\tlearn: 22.8297548\ttest: 23.7016031\tbest: 23.7016031 (29)\ttotal: 71.4ms\tremaining: 2.31s\n",
      "30:\tlearn: 22.7020059\ttest: 23.5997741\tbest: 23.5997741 (30)\ttotal: 73.2ms\tremaining: 2.29s\n",
      "31:\tlearn: 22.5700938\ttest: 23.5194695\tbest: 23.5194695 (31)\ttotal: 75ms\tremaining: 2.27s\n",
      "32:\tlearn: 22.4631244\ttest: 23.4455177\tbest: 23.4455177 (32)\ttotal: 76.9ms\tremaining: 2.25s\n",
      "33:\tlearn: 22.3861805\ttest: 23.3741307\tbest: 23.3741307 (33)\ttotal: 78.3ms\tremaining: 2.23s\n",
      "34:\tlearn: 22.2685380\ttest: 23.3137813\tbest: 23.3137813 (34)\ttotal: 79.9ms\tremaining: 2.2s\n",
      "35:\tlearn: 22.1948192\ttest: 23.2562219\tbest: 23.2562219 (35)\ttotal: 81.4ms\tremaining: 2.18s\n",
      "36:\tlearn: 22.0993772\ttest: 23.1950595\tbest: 23.1950595 (36)\ttotal: 83ms\tremaining: 2.16s\n",
      "37:\tlearn: 21.9965856\ttest: 23.1275449\tbest: 23.1275449 (37)\ttotal: 85ms\tremaining: 2.15s\n",
      "38:\tlearn: 21.9209896\ttest: 23.0806116\tbest: 23.0806116 (38)\ttotal: 86.7ms\tremaining: 2.14s\n",
      "39:\tlearn: 21.8453276\ttest: 23.0350509\tbest: 23.0350509 (39)\ttotal: 88.5ms\tremaining: 2.12s\n",
      "40:\tlearn: 21.7996506\ttest: 22.9910019\tbest: 22.9910019 (40)\ttotal: 90.3ms\tremaining: 2.11s\n",
      "41:\tlearn: 21.7084553\ttest: 22.9614380\tbest: 22.9614380 (41)\ttotal: 92.6ms\tremaining: 2.11s\n",
      "42:\tlearn: 21.6873693\ttest: 22.9521855\tbest: 22.9521855 (42)\ttotal: 94.3ms\tremaining: 2.1s\n",
      "43:\tlearn: 21.6427325\ttest: 22.9198298\tbest: 22.9198298 (43)\ttotal: 96.1ms\tremaining: 2.09s\n",
      "44:\tlearn: 21.5885114\ttest: 22.8791516\tbest: 22.8791516 (44)\ttotal: 97.8ms\tremaining: 2.07s\n",
      "45:\tlearn: 21.5393263\ttest: 22.8466201\tbest: 22.8466201 (45)\ttotal: 99.6ms\tremaining: 2.06s\n",
      "46:\tlearn: 21.5062873\ttest: 22.8251213\tbest: 22.8251213 (46)\ttotal: 101ms\tremaining: 2.06s\n",
      "47:\tlearn: 21.4694604\ttest: 22.7830306\tbest: 22.7830306 (47)\ttotal: 103ms\tremaining: 2.05s\n",
      "48:\tlearn: 21.4229099\ttest: 22.7531695\tbest: 22.7531695 (48)\ttotal: 105ms\tremaining: 2.04s\n",
      "49:\tlearn: 21.3913897\ttest: 22.7335359\tbest: 22.7335359 (49)\ttotal: 107ms\tremaining: 2.03s\n",
      "50:\tlearn: 21.3395632\ttest: 22.7097468\tbest: 22.7097468 (50)\ttotal: 109ms\tremaining: 2.02s\n",
      "51:\tlearn: 21.3283623\ttest: 22.7067021\tbest: 22.7067021 (51)\ttotal: 110ms\tremaining: 2.01s\n",
      "52:\tlearn: 21.2986847\ttest: 22.6810132\tbest: 22.6810132 (52)\ttotal: 112ms\tremaining: 2s\n",
      "53:\tlearn: 21.2596445\ttest: 22.6564420\tbest: 22.6564420 (53)\ttotal: 113ms\tremaining: 1.99s\n",
      "54:\tlearn: 21.2455764\ttest: 22.6473847\tbest: 22.6473847 (54)\ttotal: 115ms\tremaining: 1.98s\n",
      "55:\tlearn: 21.2165189\ttest: 22.6362019\tbest: 22.6362019 (55)\ttotal: 117ms\tremaining: 1.97s\n",
      "56:\tlearn: 21.1942004\ttest: 22.6147021\tbest: 22.6147021 (56)\ttotal: 120ms\tremaining: 1.98s\n",
      "57:\tlearn: 21.1577467\ttest: 22.5946643\tbest: 22.5946643 (57)\ttotal: 122ms\tremaining: 1.98s\n",
      "58:\tlearn: 21.1186189\ttest: 22.5708870\tbest: 22.5708870 (58)\ttotal: 123ms\tremaining: 1.97s\n",
      "59:\tlearn: 21.1010380\ttest: 22.5755802\tbest: 22.5708870 (58)\ttotal: 125ms\tremaining: 1.96s\n",
      "60:\tlearn: 21.0807991\ttest: 22.5664141\tbest: 22.5664141 (60)\ttotal: 127ms\tremaining: 1.95s\n",
      "61:\tlearn: 21.0653529\ttest: 22.5652743\tbest: 22.5652743 (61)\ttotal: 128ms\tremaining: 1.94s\n",
      "62:\tlearn: 21.0567568\ttest: 22.5662989\tbest: 22.5652743 (61)\ttotal: 130ms\tremaining: 1.93s\n",
      "63:\tlearn: 21.0431572\ttest: 22.5553671\tbest: 22.5553671 (63)\ttotal: 132ms\tremaining: 1.93s\n",
      "64:\tlearn: 21.0329329\ttest: 22.5586521\tbest: 22.5553671 (63)\ttotal: 134ms\tremaining: 1.92s\n",
      "65:\tlearn: 21.0209997\ttest: 22.5474781\tbest: 22.5474781 (65)\ttotal: 135ms\tremaining: 1.91s\n",
      "66:\tlearn: 20.9876154\ttest: 22.5158640\tbest: 22.5158640 (66)\ttotal: 137ms\tremaining: 1.9s\n",
      "67:\tlearn: 20.9629466\ttest: 22.4851405\tbest: 22.4851405 (67)\ttotal: 138ms\tremaining: 1.9s\n",
      "68:\tlearn: 20.9363302\ttest: 22.4815118\tbest: 22.4815118 (68)\ttotal: 140ms\tremaining: 1.89s\n",
      "69:\tlearn: 20.8952543\ttest: 22.4818956\tbest: 22.4815118 (68)\ttotal: 141ms\tremaining: 1.88s\n",
      "70:\tlearn: 20.8873274\ttest: 22.4849569\tbest: 22.4815118 (68)\ttotal: 143ms\tremaining: 1.87s\n",
      "71:\tlearn: 20.8817469\ttest: 22.4845588\tbest: 22.4815118 (68)\ttotal: 145ms\tremaining: 1.87s\n",
      "72:\tlearn: 20.8530966\ttest: 22.4714749\tbest: 22.4714749 (72)\ttotal: 146ms\tremaining: 1.86s\n",
      "73:\tlearn: 20.8433175\ttest: 22.4639094\tbest: 22.4639094 (73)\ttotal: 148ms\tremaining: 1.86s\n",
      "74:\tlearn: 20.8121524\ttest: 22.4522976\tbest: 22.4522976 (74)\ttotal: 150ms\tremaining: 1.85s\n",
      "75:\tlearn: 20.7767674\ttest: 22.4194687\tbest: 22.4194687 (75)\ttotal: 152ms\tremaining: 1.85s\n",
      "76:\tlearn: 20.7612345\ttest: 22.4118549\tbest: 22.4118549 (76)\ttotal: 154ms\tremaining: 1.84s\n",
      "77:\tlearn: 20.7460399\ttest: 22.4131611\tbest: 22.4118549 (76)\ttotal: 155ms\tremaining: 1.84s\n",
      "78:\tlearn: 20.7078611\ttest: 22.4042120\tbest: 22.4042120 (78)\ttotal: 157ms\tremaining: 1.83s\n",
      "79:\tlearn: 20.6528280\ttest: 22.3774316\tbest: 22.3774316 (79)\ttotal: 159ms\tremaining: 1.83s\n",
      "80:\tlearn: 20.6301532\ttest: 22.3537174\tbest: 22.3537174 (80)\ttotal: 161ms\tremaining: 1.82s\n",
      "81:\tlearn: 20.5943052\ttest: 22.3366641\tbest: 22.3366641 (81)\ttotal: 162ms\tremaining: 1.82s\n",
      "82:\tlearn: 20.5925706\ttest: 22.3336797\tbest: 22.3336797 (82)\ttotal: 163ms\tremaining: 1.8s\n",
      "83:\tlearn: 20.5562702\ttest: 22.3220830\tbest: 22.3220830 (83)\ttotal: 165ms\tremaining: 1.8s\n",
      "84:\tlearn: 20.5363592\ttest: 22.3104742\tbest: 22.3104742 (84)\ttotal: 167ms\tremaining: 1.79s\n",
      "85:\tlearn: 20.5257338\ttest: 22.3149133\tbest: 22.3104742 (84)\ttotal: 168ms\tremaining: 1.79s\n",
      "86:\tlearn: 20.5204214\ttest: 22.3150295\tbest: 22.3104742 (84)\ttotal: 170ms\tremaining: 1.78s\n",
      "87:\tlearn: 20.4979880\ttest: 22.3108690\tbest: 22.3104742 (84)\ttotal: 172ms\tremaining: 1.78s\n",
      "88:\tlearn: 20.4702105\ttest: 22.3134727\tbest: 22.3104742 (84)\ttotal: 173ms\tremaining: 1.77s\n",
      "89:\tlearn: 20.4532774\ttest: 22.3161910\tbest: 22.3104742 (84)\ttotal: 176ms\tremaining: 1.78s\n",
      "90:\tlearn: 20.4454032\ttest: 22.3122758\tbest: 22.3104742 (84)\ttotal: 178ms\tremaining: 1.78s\n",
      "91:\tlearn: 20.4178624\ttest: 22.2898640\tbest: 22.2898640 (91)\ttotal: 180ms\tremaining: 1.77s\n",
      "92:\tlearn: 20.4019240\ttest: 22.2891995\tbest: 22.2891995 (92)\ttotal: 181ms\tremaining: 1.77s\n",
      "93:\tlearn: 20.3815889\ttest: 22.2804512\tbest: 22.2804512 (93)\ttotal: 183ms\tremaining: 1.76s\n",
      "94:\tlearn: 20.3726293\ttest: 22.2779941\tbest: 22.2779941 (94)\ttotal: 185ms\tremaining: 1.76s\n",
      "95:\tlearn: 20.3381814\ttest: 22.2962457\tbest: 22.2779941 (94)\ttotal: 186ms\tremaining: 1.75s\n",
      "96:\tlearn: 20.3197964\ttest: 22.2887010\tbest: 22.2779941 (94)\ttotal: 188ms\tremaining: 1.75s\n",
      "97:\tlearn: 20.2946902\ttest: 22.2965351\tbest: 22.2779941 (94)\ttotal: 190ms\tremaining: 1.75s\n",
      "98:\tlearn: 20.2864293\ttest: 22.2944268\tbest: 22.2779941 (94)\ttotal: 192ms\tremaining: 1.75s\n",
      "99:\tlearn: 20.2524500\ttest: 22.2855282\tbest: 22.2779941 (94)\ttotal: 194ms\tremaining: 1.74s\n",
      "100:\tlearn: 20.2247003\ttest: 22.2728484\tbest: 22.2728484 (100)\ttotal: 195ms\tremaining: 1.74s\n",
      "101:\tlearn: 20.2115942\ttest: 22.2680292\tbest: 22.2680292 (101)\ttotal: 197ms\tremaining: 1.73s\n",
      "102:\tlearn: 20.2035600\ttest: 22.2685612\tbest: 22.2680292 (101)\ttotal: 198ms\tremaining: 1.73s\n",
      "103:\tlearn: 20.1748453\ttest: 22.2675930\tbest: 22.2675930 (103)\ttotal: 200ms\tremaining: 1.72s\n",
      "104:\tlearn: 20.1673967\ttest: 22.2663130\tbest: 22.2663130 (104)\ttotal: 201ms\tremaining: 1.72s\n",
      "105:\tlearn: 20.1476721\ttest: 22.2523881\tbest: 22.2523881 (105)\ttotal: 203ms\tremaining: 1.71s\n",
      "106:\tlearn: 20.1365338\ttest: 22.2522365\tbest: 22.2522365 (106)\ttotal: 205ms\tremaining: 1.71s\n",
      "107:\tlearn: 20.1017677\ttest: 22.2653054\tbest: 22.2522365 (106)\ttotal: 207ms\tremaining: 1.71s\n",
      "108:\tlearn: 20.0595526\ttest: 22.2659495\tbest: 22.2522365 (106)\ttotal: 209ms\tremaining: 1.71s\n",
      "109:\tlearn: 20.0379233\ttest: 22.2571728\tbest: 22.2522365 (106)\ttotal: 211ms\tremaining: 1.7s\n",
      "110:\tlearn: 20.0136464\ttest: 22.2450008\tbest: 22.2450008 (110)\ttotal: 212ms\tremaining: 1.7s\n",
      "111:\tlearn: 20.0079774\ttest: 22.2461108\tbest: 22.2450008 (110)\ttotal: 213ms\tremaining: 1.69s\n",
      "112:\tlearn: 19.9925905\ttest: 22.2270142\tbest: 22.2270142 (112)\ttotal: 215ms\tremaining: 1.69s\n",
      "113:\tlearn: 19.9747024\ttest: 22.2398598\tbest: 22.2270142 (112)\ttotal: 216ms\tremaining: 1.68s\n",
      "114:\tlearn: 19.9559556\ttest: 22.2216207\tbest: 22.2216207 (114)\ttotal: 218ms\tremaining: 1.68s\n",
      "115:\tlearn: 19.9363137\ttest: 22.2226453\tbest: 22.2216207 (114)\ttotal: 220ms\tremaining: 1.67s\n",
      "116:\tlearn: 19.9197320\ttest: 22.2211433\tbest: 22.2211433 (116)\ttotal: 221ms\tremaining: 1.67s\n",
      "117:\tlearn: 19.9047857\ttest: 22.2101588\tbest: 22.2101588 (117)\ttotal: 223ms\tremaining: 1.67s\n",
      "118:\tlearn: 19.8918178\ttest: 22.2042004\tbest: 22.2042004 (118)\ttotal: 225ms\tremaining: 1.67s\n",
      "119:\tlearn: 19.8859259\ttest: 22.2066782\tbest: 22.2042004 (118)\ttotal: 227ms\tremaining: 1.66s\n",
      "120:\tlearn: 19.8673661\ttest: 22.2022866\tbest: 22.2022866 (120)\ttotal: 229ms\tremaining: 1.66s\n",
      "121:\tlearn: 19.8581364\ttest: 22.1989446\tbest: 22.1989446 (121)\ttotal: 230ms\tremaining: 1.66s\n",
      "122:\tlearn: 19.8270754\ttest: 22.2082138\tbest: 22.1989446 (121)\ttotal: 232ms\tremaining: 1.65s\n",
      "123:\tlearn: 19.8103392\ttest: 22.2160039\tbest: 22.1989446 (121)\ttotal: 233ms\tremaining: 1.65s\n",
      "124:\tlearn: 19.8045822\ttest: 22.2169626\tbest: 22.1989446 (121)\ttotal: 235ms\tremaining: 1.65s\n",
      "125:\tlearn: 19.7848582\ttest: 22.2169872\tbest: 22.1989446 (121)\ttotal: 237ms\tremaining: 1.64s\n",
      "126:\tlearn: 19.7487099\ttest: 22.2272159\tbest: 22.1989446 (121)\ttotal: 239ms\tremaining: 1.64s\n",
      "127:\tlearn: 19.7323457\ttest: 22.2316014\tbest: 22.1989446 (121)\ttotal: 240ms\tremaining: 1.64s\n",
      "128:\tlearn: 19.7251931\ttest: 22.2323994\tbest: 22.1989446 (121)\ttotal: 242ms\tremaining: 1.63s\n",
      "129:\tlearn: 19.7121643\ttest: 22.2320480\tbest: 22.1989446 (121)\ttotal: 244ms\tremaining: 1.63s\n",
      "130:\tlearn: 19.7048922\ttest: 22.2358835\tbest: 22.1989446 (121)\ttotal: 245ms\tremaining: 1.63s\n",
      "131:\tlearn: 19.6911229\ttest: 22.2341712\tbest: 22.1989446 (121)\ttotal: 247ms\tremaining: 1.62s\n",
      "132:\tlearn: 19.6703361\ttest: 22.2357028\tbest: 22.1989446 (121)\ttotal: 249ms\tremaining: 1.62s\n",
      "133:\tlearn: 19.6603809\ttest: 22.2339783\tbest: 22.1989446 (121)\ttotal: 251ms\tremaining: 1.62s\n",
      "134:\tlearn: 19.6459938\ttest: 22.2220592\tbest: 22.1989446 (121)\ttotal: 253ms\tremaining: 1.62s\n",
      "135:\tlearn: 19.6406180\ttest: 22.2235792\tbest: 22.1989446 (121)\ttotal: 255ms\tremaining: 1.62s\n",
      "136:\tlearn: 19.6223063\ttest: 22.2162938\tbest: 22.1989446 (121)\ttotal: 257ms\tremaining: 1.62s\n",
      "137:\tlearn: 19.6060081\ttest: 22.2196339\tbest: 22.1989446 (121)\ttotal: 258ms\tremaining: 1.61s\n",
      "138:\tlearn: 19.5874117\ttest: 22.2084731\tbest: 22.1989446 (121)\ttotal: 260ms\tremaining: 1.61s\n",
      "139:\tlearn: 19.5698050\ttest: 22.2074200\tbest: 22.1989446 (121)\ttotal: 262ms\tremaining: 1.61s\n",
      "140:\tlearn: 19.5532413\ttest: 22.2080626\tbest: 22.1989446 (121)\ttotal: 263ms\tremaining: 1.6s\n",
      "141:\tlearn: 19.5478241\ttest: 22.2103801\tbest: 22.1989446 (121)\ttotal: 265ms\tremaining: 1.6s\n",
      "142:\tlearn: 19.5280442\ttest: 22.2206728\tbest: 22.1989446 (121)\ttotal: 267ms\tremaining: 1.6s\n",
      "143:\tlearn: 19.5088118\ttest: 22.2295874\tbest: 22.1989446 (121)\ttotal: 269ms\tremaining: 1.6s\n",
      "144:\tlearn: 19.4666289\ttest: 22.2204943\tbest: 22.1989446 (121)\ttotal: 270ms\tremaining: 1.59s\n",
      "145:\tlearn: 19.4555259\ttest: 22.2274138\tbest: 22.1989446 (121)\ttotal: 272ms\tremaining: 1.59s\n",
      "146:\tlearn: 19.4518656\ttest: 22.2279257\tbest: 22.1989446 (121)\ttotal: 274ms\tremaining: 1.59s\n",
      "147:\tlearn: 19.4278985\ttest: 22.2347563\tbest: 22.1989446 (121)\ttotal: 275ms\tremaining: 1.58s\n",
      "148:\tlearn: 19.3953610\ttest: 22.2161370\tbest: 22.1989446 (121)\ttotal: 277ms\tremaining: 1.58s\n",
      "149:\tlearn: 19.3864203\ttest: 22.2180684\tbest: 22.1989446 (121)\ttotal: 278ms\tremaining: 1.58s\n",
      "150:\tlearn: 19.3736588\ttest: 22.2101564\tbest: 22.1989446 (121)\ttotal: 280ms\tremaining: 1.57s\n",
      "151:\tlearn: 19.3611308\ttest: 22.1996101\tbest: 22.1989446 (121)\ttotal: 282ms\tremaining: 1.57s\n",
      "152:\tlearn: 19.3442868\ttest: 22.2068907\tbest: 22.1989446 (121)\ttotal: 284ms\tremaining: 1.57s\n",
      "153:\tlearn: 19.3248556\ttest: 22.2200966\tbest: 22.1989446 (121)\ttotal: 285ms\tremaining: 1.57s\n",
      "154:\tlearn: 19.3047208\ttest: 22.2184757\tbest: 22.1989446 (121)\ttotal: 287ms\tremaining: 1.56s\n",
      "155:\tlearn: 19.2830833\ttest: 22.2022027\tbest: 22.1989446 (121)\ttotal: 289ms\tremaining: 1.56s\n",
      "156:\tlearn: 19.2751293\ttest: 22.2045527\tbest: 22.1989446 (121)\ttotal: 290ms\tremaining: 1.56s\n",
      "157:\tlearn: 19.2706904\ttest: 22.2070162\tbest: 22.1989446 (121)\ttotal: 292ms\tremaining: 1.55s\n",
      "158:\tlearn: 19.2419097\ttest: 22.1955067\tbest: 22.1955067 (158)\ttotal: 293ms\tremaining: 1.55s\n",
      "159:\tlearn: 19.2241576\ttest: 22.1788228\tbest: 22.1788228 (159)\ttotal: 295ms\tremaining: 1.55s\n",
      "160:\tlearn: 19.2030020\ttest: 22.1901553\tbest: 22.1788228 (159)\ttotal: 297ms\tremaining: 1.55s\n",
      "161:\tlearn: 19.1875941\ttest: 22.1945172\tbest: 22.1788228 (159)\ttotal: 299ms\tremaining: 1.54s\n",
      "162:\tlearn: 19.1598384\ttest: 22.1797102\tbest: 22.1788228 (159)\ttotal: 301ms\tremaining: 1.54s\n",
      "163:\tlearn: 19.1429188\ttest: 22.1725030\tbest: 22.1725030 (163)\ttotal: 302ms\tremaining: 1.54s\n",
      "164:\tlearn: 19.1323117\ttest: 22.1749377\tbest: 22.1725030 (163)\ttotal: 304ms\tremaining: 1.54s\n",
      "165:\tlearn: 19.0979498\ttest: 22.1467960\tbest: 22.1467960 (165)\ttotal: 306ms\tremaining: 1.53s\n",
      "166:\tlearn: 19.0650903\ttest: 22.1302531\tbest: 22.1302531 (166)\ttotal: 307ms\tremaining: 1.53s\n",
      "167:\tlearn: 19.0420304\ttest: 22.1339305\tbest: 22.1302531 (166)\ttotal: 309ms\tremaining: 1.53s\n",
      "168:\tlearn: 19.0148489\ttest: 22.1311305\tbest: 22.1302531 (166)\ttotal: 311ms\tremaining: 1.53s\n",
      "169:\tlearn: 18.9835589\ttest: 22.1455625\tbest: 22.1302531 (166)\ttotal: 312ms\tremaining: 1.52s\n",
      "170:\tlearn: 18.9687109\ttest: 22.1303372\tbest: 22.1302531 (166)\ttotal: 314ms\tremaining: 1.52s\n",
      "171:\tlearn: 18.9243518\ttest: 22.1283315\tbest: 22.1283315 (171)\ttotal: 316ms\tremaining: 1.52s\n",
      "172:\tlearn: 18.9196415\ttest: 22.1286830\tbest: 22.1283315 (171)\ttotal: 317ms\tremaining: 1.52s\n",
      "173:\tlearn: 18.8705335\ttest: 22.1013866\tbest: 22.1013866 (173)\ttotal: 319ms\tremaining: 1.51s\n",
      "174:\tlearn: 18.8460810\ttest: 22.1169202\tbest: 22.1013866 (173)\ttotal: 320ms\tremaining: 1.51s\n",
      "175:\tlearn: 18.8365550\ttest: 22.1112637\tbest: 22.1013866 (173)\ttotal: 322ms\tremaining: 1.51s\n",
      "176:\tlearn: 18.8208403\ttest: 22.1152042\tbest: 22.1013866 (173)\ttotal: 324ms\tremaining: 1.5s\n",
      "177:\tlearn: 18.8074322\ttest: 22.1152281\tbest: 22.1013866 (173)\ttotal: 325ms\tremaining: 1.5s\n",
      "178:\tlearn: 18.8030580\ttest: 22.1156483\tbest: 22.1013866 (173)\ttotal: 327ms\tremaining: 1.5s\n",
      "179:\tlearn: 18.7959832\ttest: 22.1151919\tbest: 22.1013866 (173)\ttotal: 329ms\tremaining: 1.5s\n",
      "180:\tlearn: 18.7758970\ttest: 22.1056065\tbest: 22.1013866 (173)\ttotal: 331ms\tremaining: 1.5s\n",
      "181:\tlearn: 18.7477968\ttest: 22.1228386\tbest: 22.1013866 (173)\ttotal: 333ms\tremaining: 1.49s\n",
      "182:\tlearn: 18.7374471\ttest: 22.1245404\tbest: 22.1013866 (173)\ttotal: 334ms\tremaining: 1.49s\n",
      "183:\tlearn: 18.7114824\ttest: 22.1178990\tbest: 22.1013866 (173)\ttotal: 336ms\tremaining: 1.49s\n",
      "184:\tlearn: 18.6994184\ttest: 22.1005832\tbest: 22.1005832 (184)\ttotal: 338ms\tremaining: 1.49s\n",
      "185:\tlearn: 18.6767689\ttest: 22.0978259\tbest: 22.0978259 (185)\ttotal: 340ms\tremaining: 1.49s\n",
      "186:\tlearn: 18.6728162\ttest: 22.0986546\tbest: 22.0978259 (185)\ttotal: 341ms\tremaining: 1.48s\n",
      "187:\tlearn: 18.6550456\ttest: 22.0991053\tbest: 22.0978259 (185)\ttotal: 343ms\tremaining: 1.48s\n",
      "188:\tlearn: 18.6384806\ttest: 22.1127733\tbest: 22.0978259 (185)\ttotal: 344ms\tremaining: 1.48s\n",
      "189:\tlearn: 18.6151381\ttest: 22.1181149\tbest: 22.0978259 (185)\ttotal: 346ms\tremaining: 1.47s\n",
      "190:\tlearn: 18.5826025\ttest: 22.0956161\tbest: 22.0956161 (190)\ttotal: 347ms\tremaining: 1.47s\n",
      "191:\tlearn: 18.5689255\ttest: 22.0985117\tbest: 22.0956161 (190)\ttotal: 349ms\tremaining: 1.47s\n",
      "192:\tlearn: 18.5441486\ttest: 22.1154450\tbest: 22.0956161 (190)\ttotal: 350ms\tremaining: 1.47s\n",
      "193:\tlearn: 18.5198878\ttest: 22.1222004\tbest: 22.0956161 (190)\ttotal: 352ms\tremaining: 1.46s\n",
      "194:\tlearn: 18.4720132\ttest: 22.1338041\tbest: 22.0956161 (190)\ttotal: 354ms\tremaining: 1.46s\n",
      "195:\tlearn: 18.4356642\ttest: 22.1430938\tbest: 22.0956161 (190)\ttotal: 355ms\tremaining: 1.46s\n",
      "196:\tlearn: 18.4300353\ttest: 22.1417339\tbest: 22.0956161 (190)\ttotal: 357ms\tremaining: 1.46s\n",
      "197:\tlearn: 18.4219125\ttest: 22.1445707\tbest: 22.0956161 (190)\ttotal: 359ms\tremaining: 1.45s\n",
      "198:\tlearn: 18.4162632\ttest: 22.1458463\tbest: 22.0956161 (190)\ttotal: 361ms\tremaining: 1.45s\n",
      "199:\tlearn: 18.3896009\ttest: 22.1425826\tbest: 22.0956161 (190)\ttotal: 363ms\tremaining: 1.45s\n",
      "200:\tlearn: 18.3833212\ttest: 22.1434672\tbest: 22.0956161 (190)\ttotal: 364ms\tremaining: 1.45s\n",
      "201:\tlearn: 18.3679210\ttest: 22.1456848\tbest: 22.0956161 (190)\ttotal: 366ms\tremaining: 1.44s\n",
      "202:\tlearn: 18.3450970\ttest: 22.1468426\tbest: 22.0956161 (190)\ttotal: 367ms\tremaining: 1.44s\n",
      "203:\tlearn: 18.3239303\ttest: 22.1364678\tbest: 22.0956161 (190)\ttotal: 369ms\tremaining: 1.44s\n",
      "204:\tlearn: 18.3117763\ttest: 22.1337315\tbest: 22.0956161 (190)\ttotal: 371ms\tremaining: 1.44s\n",
      "205:\tlearn: 18.2870357\ttest: 22.1208628\tbest: 22.0956161 (190)\ttotal: 372ms\tremaining: 1.44s\n",
      "206:\tlearn: 18.2712144\ttest: 22.1178264\tbest: 22.0956161 (190)\ttotal: 374ms\tremaining: 1.43s\n",
      "207:\tlearn: 18.2559153\ttest: 22.1120037\tbest: 22.0956161 (190)\ttotal: 376ms\tremaining: 1.43s\n",
      "208:\tlearn: 18.2328602\ttest: 22.1019078\tbest: 22.0956161 (190)\ttotal: 377ms\tremaining: 1.43s\n",
      "209:\tlearn: 18.2055467\ttest: 22.0914857\tbest: 22.0914857 (209)\ttotal: 379ms\tremaining: 1.43s\n",
      "210:\tlearn: 18.1761098\ttest: 22.0838371\tbest: 22.0838371 (210)\ttotal: 380ms\tremaining: 1.42s\n",
      "211:\tlearn: 18.1583063\ttest: 22.0830500\tbest: 22.0830500 (211)\ttotal: 382ms\tremaining: 1.42s\n",
      "212:\tlearn: 18.1383211\ttest: 22.0802347\tbest: 22.0802347 (212)\ttotal: 384ms\tremaining: 1.42s\n",
      "213:\tlearn: 18.1143589\ttest: 22.0805720\tbest: 22.0802347 (212)\ttotal: 385ms\tremaining: 1.41s\n",
      "214:\tlearn: 18.0888947\ttest: 22.0938916\tbest: 22.0802347 (212)\ttotal: 387ms\tremaining: 1.41s\n",
      "215:\tlearn: 18.0673473\ttest: 22.0965197\tbest: 22.0802347 (212)\ttotal: 389ms\tremaining: 1.41s\n",
      "216:\tlearn: 18.0564954\ttest: 22.0908484\tbest: 22.0802347 (212)\ttotal: 391ms\tremaining: 1.41s\n",
      "217:\tlearn: 18.0374749\ttest: 22.1045627\tbest: 22.0802347 (212)\ttotal: 393ms\tremaining: 1.41s\n",
      "218:\tlearn: 18.0323758\ttest: 22.1045161\tbest: 22.0802347 (212)\ttotal: 394ms\tremaining: 1.41s\n",
      "219:\tlearn: 18.0212526\ttest: 22.1038237\tbest: 22.0802347 (212)\ttotal: 396ms\tremaining: 1.4s\n",
      "220:\tlearn: 18.0052096\ttest: 22.0995061\tbest: 22.0802347 (212)\ttotal: 397ms\tremaining: 1.4s\n",
      "221:\tlearn: 17.9843495\ttest: 22.0954486\tbest: 22.0802347 (212)\ttotal: 399ms\tremaining: 1.4s\n",
      "222:\tlearn: 17.9787740\ttest: 22.0928238\tbest: 22.0802347 (212)\ttotal: 401ms\tremaining: 1.4s\n",
      "223:\tlearn: 17.9645326\ttest: 22.0897356\tbest: 22.0802347 (212)\ttotal: 403ms\tremaining: 1.39s\n",
      "224:\tlearn: 17.9280210\ttest: 22.0691946\tbest: 22.0691946 (224)\ttotal: 404ms\tremaining: 1.39s\n",
      "225:\tlearn: 17.9133538\ttest: 22.0657001\tbest: 22.0657001 (225)\ttotal: 406ms\tremaining: 1.39s\n",
      "226:\tlearn: 17.8899608\ttest: 22.0757542\tbest: 22.0657001 (225)\ttotal: 408ms\tremaining: 1.39s\n",
      "227:\tlearn: 17.8679004\ttest: 22.0772726\tbest: 22.0657001 (225)\ttotal: 409ms\tremaining: 1.39s\n",
      "228:\tlearn: 17.8485781\ttest: 22.0894251\tbest: 22.0657001 (225)\ttotal: 411ms\tremaining: 1.38s\n",
      "229:\tlearn: 17.8435849\ttest: 22.0901277\tbest: 22.0657001 (225)\ttotal: 413ms\tremaining: 1.38s\n",
      "230:\tlearn: 17.8299710\ttest: 22.0872675\tbest: 22.0657001 (225)\ttotal: 414ms\tremaining: 1.38s\n",
      "231:\tlearn: 17.8077214\ttest: 22.0895562\tbest: 22.0657001 (225)\ttotal: 416ms\tremaining: 1.38s\n",
      "232:\tlearn: 17.7836045\ttest: 22.0843626\tbest: 22.0657001 (225)\ttotal: 418ms\tremaining: 1.38s\n",
      "233:\tlearn: 17.7692551\ttest: 22.0879627\tbest: 22.0657001 (225)\ttotal: 420ms\tremaining: 1.37s\n",
      "234:\tlearn: 17.7382524\ttest: 22.0805122\tbest: 22.0657001 (225)\ttotal: 421ms\tremaining: 1.37s\n",
      "235:\tlearn: 17.7163454\ttest: 22.0958335\tbest: 22.0657001 (225)\ttotal: 423ms\tremaining: 1.37s\n",
      "236:\tlearn: 17.6862402\ttest: 22.0909086\tbest: 22.0657001 (225)\ttotal: 424ms\tremaining: 1.37s\n",
      "237:\tlearn: 17.6723363\ttest: 22.0908585\tbest: 22.0657001 (225)\ttotal: 426ms\tremaining: 1.36s\n",
      "238:\tlearn: 17.6640483\ttest: 22.0900797\tbest: 22.0657001 (225)\ttotal: 428ms\tremaining: 1.36s\n",
      "239:\tlearn: 17.6542098\ttest: 22.0872032\tbest: 22.0657001 (225)\ttotal: 429ms\tremaining: 1.36s\n",
      "240:\tlearn: 17.6395686\ttest: 22.0785146\tbest: 22.0657001 (225)\ttotal: 431ms\tremaining: 1.36s\n",
      "241:\tlearn: 17.6242259\ttest: 22.0807157\tbest: 22.0657001 (225)\ttotal: 433ms\tremaining: 1.35s\n",
      "242:\tlearn: 17.6126289\ttest: 22.0791101\tbest: 22.0657001 (225)\ttotal: 435ms\tremaining: 1.35s\n",
      "243:\tlearn: 17.6004231\ttest: 22.0843457\tbest: 22.0657001 (225)\ttotal: 436ms\tremaining: 1.35s\n",
      "244:\tlearn: 17.5769144\ttest: 22.0922193\tbest: 22.0657001 (225)\ttotal: 438ms\tremaining: 1.35s\n",
      "245:\tlearn: 17.5645445\ttest: 22.0879737\tbest: 22.0657001 (225)\ttotal: 440ms\tremaining: 1.35s\n",
      "246:\tlearn: 17.5558914\ttest: 22.0880138\tbest: 22.0657001 (225)\ttotal: 441ms\tremaining: 1.34s\n",
      "247:\tlearn: 17.5501411\ttest: 22.0905677\tbest: 22.0657001 (225)\ttotal: 443ms\tremaining: 1.34s\n",
      "248:\tlearn: 17.5379980\ttest: 22.0919745\tbest: 22.0657001 (225)\ttotal: 444ms\tremaining: 1.34s\n",
      "249:\tlearn: 17.5327855\ttest: 22.0851920\tbest: 22.0657001 (225)\ttotal: 446ms\tremaining: 1.34s\n",
      "250:\tlearn: 17.5216324\ttest: 22.0824439\tbest: 22.0657001 (225)\ttotal: 448ms\tremaining: 1.34s\n",
      "251:\tlearn: 17.5156280\ttest: 22.0785655\tbest: 22.0657001 (225)\ttotal: 450ms\tremaining: 1.33s\n",
      "252:\tlearn: 17.4795360\ttest: 22.0959036\tbest: 22.0657001 (225)\ttotal: 451ms\tremaining: 1.33s\n",
      "253:\tlearn: 17.4561104\ttest: 22.0895203\tbest: 22.0657001 (225)\ttotal: 453ms\tremaining: 1.33s\n",
      "254:\tlearn: 17.4443199\ttest: 22.0818949\tbest: 22.0657001 (225)\ttotal: 454ms\tremaining: 1.33s\n",
      "255:\tlearn: 17.4212585\ttest: 22.0908142\tbest: 22.0657001 (225)\ttotal: 456ms\tremaining: 1.32s\n",
      "256:\tlearn: 17.4019731\ttest: 22.0861115\tbest: 22.0657001 (225)\ttotal: 458ms\tremaining: 1.32s\n",
      "257:\tlearn: 17.3878009\ttest: 22.0869094\tbest: 22.0657001 (225)\ttotal: 459ms\tremaining: 1.32s\n",
      "258:\tlearn: 17.3822864\ttest: 22.0832464\tbest: 22.0657001 (225)\ttotal: 461ms\tremaining: 1.32s\n",
      "259:\tlearn: 17.3619003\ttest: 22.0841369\tbest: 22.0657001 (225)\ttotal: 463ms\tremaining: 1.32s\n",
      "260:\tlearn: 17.3467336\ttest: 22.0825204\tbest: 22.0657001 (225)\ttotal: 464ms\tremaining: 1.31s\n",
      "261:\tlearn: 17.3254543\ttest: 22.0755418\tbest: 22.0657001 (225)\ttotal: 466ms\tremaining: 1.31s\n",
      "262:\tlearn: 17.3119211\ttest: 22.0647381\tbest: 22.0647381 (262)\ttotal: 468ms\tremaining: 1.31s\n",
      "263:\tlearn: 17.3018120\ttest: 22.0631566\tbest: 22.0631566 (263)\ttotal: 469ms\tremaining: 1.31s\n",
      "264:\tlearn: 17.2793133\ttest: 22.0820185\tbest: 22.0631566 (263)\ttotal: 471ms\tremaining: 1.3s\n",
      "265:\tlearn: 17.2474990\ttest: 22.0687516\tbest: 22.0631566 (263)\ttotal: 472ms\tremaining: 1.3s\n",
      "266:\tlearn: 17.2322594\ttest: 22.0662069\tbest: 22.0631566 (263)\ttotal: 474ms\tremaining: 1.3s\n",
      "267:\tlearn: 17.2305556\ttest: 22.0673148\tbest: 22.0631566 (263)\ttotal: 476ms\tremaining: 1.3s\n",
      "268:\tlearn: 17.2196318\ttest: 22.0580499\tbest: 22.0580499 (268)\ttotal: 477ms\tremaining: 1.3s\n",
      "269:\tlearn: 17.2105459\ttest: 22.0582072\tbest: 22.0580499 (268)\ttotal: 479ms\tremaining: 1.29s\n",
      "270:\tlearn: 17.2001016\ttest: 22.0584013\tbest: 22.0580499 (268)\ttotal: 481ms\tremaining: 1.29s\n",
      "271:\tlearn: 17.1899386\ttest: 22.0558956\tbest: 22.0558956 (271)\ttotal: 482ms\tremaining: 1.29s\n",
      "272:\tlearn: 17.1804660\ttest: 22.0531613\tbest: 22.0531613 (272)\ttotal: 484ms\tremaining: 1.29s\n",
      "273:\tlearn: 17.1494072\ttest: 22.0596168\tbest: 22.0531613 (272)\ttotal: 486ms\tremaining: 1.29s\n",
      "274:\tlearn: 17.1351010\ttest: 22.0660369\tbest: 22.0531613 (272)\ttotal: 487ms\tremaining: 1.28s\n",
      "275:\tlearn: 17.1217428\ttest: 22.0717072\tbest: 22.0531613 (272)\ttotal: 489ms\tremaining: 1.28s\n",
      "276:\tlearn: 17.1129341\ttest: 22.0780462\tbest: 22.0531613 (272)\ttotal: 490ms\tremaining: 1.28s\n",
      "277:\tlearn: 17.1007853\ttest: 22.0768220\tbest: 22.0531613 (272)\ttotal: 492ms\tremaining: 1.28s\n",
      "278:\tlearn: 17.0920203\ttest: 22.0762836\tbest: 22.0531613 (272)\ttotal: 494ms\tremaining: 1.27s\n",
      "279:\tlearn: 17.0742872\ttest: 22.0729668\tbest: 22.0531613 (272)\ttotal: 495ms\tremaining: 1.27s\n",
      "280:\tlearn: 17.0682372\ttest: 22.0765956\tbest: 22.0531613 (272)\ttotal: 497ms\tremaining: 1.27s\n",
      "281:\tlearn: 17.0518626\ttest: 22.0644714\tbest: 22.0531613 (272)\ttotal: 498ms\tremaining: 1.27s\n",
      "282:\tlearn: 17.0421916\ttest: 22.0627822\tbest: 22.0531613 (272)\ttotal: 500ms\tremaining: 1.27s\n",
      "283:\tlearn: 17.0369716\ttest: 22.0618118\tbest: 22.0531613 (272)\ttotal: 501ms\tremaining: 1.26s\n",
      "284:\tlearn: 17.0281825\ttest: 22.0625407\tbest: 22.0531613 (272)\ttotal: 503ms\tremaining: 1.26s\n",
      "285:\tlearn: 17.0111036\ttest: 22.0712498\tbest: 22.0531613 (272)\ttotal: 504ms\tremaining: 1.26s\n",
      "286:\tlearn: 16.9888896\ttest: 22.0887063\tbest: 22.0531613 (272)\ttotal: 507ms\tremaining: 1.26s\n",
      "287:\tlearn: 16.9788472\ttest: 22.0884066\tbest: 22.0531613 (272)\ttotal: 508ms\tremaining: 1.26s\n",
      "288:\tlearn: 16.9707467\ttest: 22.0864508\tbest: 22.0531613 (272)\ttotal: 510ms\tremaining: 1.25s\n",
      "289:\tlearn: 16.9670498\ttest: 22.0862368\tbest: 22.0531613 (272)\ttotal: 512ms\tremaining: 1.25s\n",
      "290:\tlearn: 16.9527664\ttest: 22.0786137\tbest: 22.0531613 (272)\ttotal: 514ms\tremaining: 1.25s\n",
      "291:\tlearn: 16.9423005\ttest: 22.0842044\tbest: 22.0531613 (272)\ttotal: 515ms\tremaining: 1.25s\n",
      "292:\tlearn: 16.9262925\ttest: 22.0938563\tbest: 22.0531613 (272)\ttotal: 517ms\tremaining: 1.25s\n",
      "293:\tlearn: 16.9231318\ttest: 22.0940196\tbest: 22.0531613 (272)\ttotal: 518ms\tremaining: 1.24s\n",
      "294:\tlearn: 16.9137223\ttest: 22.0851613\tbest: 22.0531613 (272)\ttotal: 520ms\tremaining: 1.24s\n",
      "295:\tlearn: 16.9006243\ttest: 22.0822691\tbest: 22.0531613 (272)\ttotal: 522ms\tremaining: 1.24s\n",
      "296:\tlearn: 16.8884243\ttest: 22.0887674\tbest: 22.0531613 (272)\ttotal: 524ms\tremaining: 1.24s\n",
      "297:\tlearn: 16.8788576\ttest: 22.0964578\tbest: 22.0531613 (272)\ttotal: 525ms\tremaining: 1.24s\n",
      "298:\tlearn: 16.8657987\ttest: 22.0971134\tbest: 22.0531613 (272)\ttotal: 527ms\tremaining: 1.23s\n",
      "299:\tlearn: 16.8573890\ttest: 22.1006078\tbest: 22.0531613 (272)\ttotal: 528ms\tremaining: 1.23s\n",
      "300:\tlearn: 16.8434747\ttest: 22.0979356\tbest: 22.0531613 (272)\ttotal: 530ms\tremaining: 1.23s\n",
      "301:\tlearn: 16.8324814\ttest: 22.1010288\tbest: 22.0531613 (272)\ttotal: 532ms\tremaining: 1.23s\n",
      "302:\tlearn: 16.8202325\ttest: 22.0977379\tbest: 22.0531613 (272)\ttotal: 534ms\tremaining: 1.23s\n",
      "303:\tlearn: 16.7834220\ttest: 22.1074125\tbest: 22.0531613 (272)\ttotal: 535ms\tremaining: 1.23s\n",
      "304:\tlearn: 16.7713857\ttest: 22.1040531\tbest: 22.0531613 (272)\ttotal: 537ms\tremaining: 1.22s\n",
      "305:\tlearn: 16.7419638\ttest: 22.1211116\tbest: 22.0531613 (272)\ttotal: 539ms\tremaining: 1.22s\n",
      "306:\tlearn: 16.7285246\ttest: 22.1173104\tbest: 22.0531613 (272)\ttotal: 540ms\tremaining: 1.22s\n",
      "307:\tlearn: 16.7166038\ttest: 22.1222410\tbest: 22.0531613 (272)\ttotal: 542ms\tremaining: 1.22s\n",
      "308:\tlearn: 16.7066558\ttest: 22.1193014\tbest: 22.0531613 (272)\ttotal: 544ms\tremaining: 1.22s\n",
      "309:\tlearn: 16.6915165\ttest: 22.1135467\tbest: 22.0531613 (272)\ttotal: 545ms\tremaining: 1.21s\n",
      "310:\tlearn: 16.6873449\ttest: 22.1165018\tbest: 22.0531613 (272)\ttotal: 547ms\tremaining: 1.21s\n",
      "311:\tlearn: 16.6616710\ttest: 22.1156658\tbest: 22.0531613 (272)\ttotal: 549ms\tremaining: 1.21s\n",
      "312:\tlearn: 16.6502153\ttest: 22.1194313\tbest: 22.0531613 (272)\ttotal: 551ms\tremaining: 1.21s\n",
      "313:\tlearn: 16.6390217\ttest: 22.1217531\tbest: 22.0531613 (272)\ttotal: 553ms\tremaining: 1.21s\n",
      "314:\tlearn: 16.6349764\ttest: 22.1214461\tbest: 22.0531613 (272)\ttotal: 554ms\tremaining: 1.21s\n",
      "315:\tlearn: 16.6081292\ttest: 22.1198287\tbest: 22.0531613 (272)\ttotal: 556ms\tremaining: 1.2s\n",
      "316:\tlearn: 16.5975862\ttest: 22.1192717\tbest: 22.0531613 (272)\ttotal: 558ms\tremaining: 1.2s\n",
      "317:\tlearn: 16.5869759\ttest: 22.1168600\tbest: 22.0531613 (272)\ttotal: 559ms\tremaining: 1.2s\n",
      "318:\tlearn: 16.5705206\ttest: 22.1152729\tbest: 22.0531613 (272)\ttotal: 561ms\tremaining: 1.2s\n",
      "319:\tlearn: 16.5586745\ttest: 22.1197925\tbest: 22.0531613 (272)\ttotal: 563ms\tremaining: 1.2s\n",
      "320:\tlearn: 16.5500022\ttest: 22.1171202\tbest: 22.0531613 (272)\ttotal: 564ms\tremaining: 1.19s\n",
      "321:\tlearn: 16.5342896\ttest: 22.1164011\tbest: 22.0531613 (272)\ttotal: 566ms\tremaining: 1.19s\n",
      "322:\tlearn: 16.5263016\ttest: 22.1148159\tbest: 22.0531613 (272)\ttotal: 568ms\tremaining: 1.19s\n",
      "323:\tlearn: 16.5238618\ttest: 22.1147060\tbest: 22.0531613 (272)\ttotal: 569ms\tremaining: 1.19s\n",
      "324:\tlearn: 16.5125044\ttest: 22.1206348\tbest: 22.0531613 (272)\ttotal: 571ms\tremaining: 1.19s\n",
      "325:\tlearn: 16.5056767\ttest: 22.1236115\tbest: 22.0531613 (272)\ttotal: 572ms\tremaining: 1.18s\n",
      "326:\tlearn: 16.4927858\ttest: 22.1295966\tbest: 22.0531613 (272)\ttotal: 574ms\tremaining: 1.18s\n",
      "327:\tlearn: 16.4746531\ttest: 22.1177875\tbest: 22.0531613 (272)\ttotal: 575ms\tremaining: 1.18s\n",
      "328:\tlearn: 16.4682555\ttest: 22.1164957\tbest: 22.0531613 (272)\ttotal: 577ms\tremaining: 1.18s\n",
      "329:\tlearn: 16.4521023\ttest: 22.1286084\tbest: 22.0531613 (272)\ttotal: 578ms\tremaining: 1.17s\n",
      "330:\tlearn: 16.4397804\ttest: 22.1316179\tbest: 22.0531613 (272)\ttotal: 580ms\tremaining: 1.17s\n",
      "331:\tlearn: 16.4242538\ttest: 22.1334924\tbest: 22.0531613 (272)\ttotal: 582ms\tremaining: 1.17s\n",
      "332:\tlearn: 16.4185145\ttest: 22.1323707\tbest: 22.0531613 (272)\ttotal: 583ms\tremaining: 1.17s\n",
      "333:\tlearn: 16.4111269\ttest: 22.1370289\tbest: 22.0531613 (272)\ttotal: 585ms\tremaining: 1.17s\n",
      "334:\tlearn: 16.4000773\ttest: 22.1312807\tbest: 22.0531613 (272)\ttotal: 587ms\tremaining: 1.17s\n",
      "335:\tlearn: 16.3760105\ttest: 22.1307631\tbest: 22.0531613 (272)\ttotal: 589ms\tremaining: 1.16s\n",
      "336:\tlearn: 16.3580897\ttest: 22.1258875\tbest: 22.0531613 (272)\ttotal: 590ms\tremaining: 1.16s\n",
      "337:\tlearn: 16.3491216\ttest: 22.1127640\tbest: 22.0531613 (272)\ttotal: 592ms\tremaining: 1.16s\n",
      "338:\tlearn: 16.3416009\ttest: 22.1111996\tbest: 22.0531613 (272)\ttotal: 593ms\tremaining: 1.16s\n",
      "339:\tlearn: 16.3398138\ttest: 22.1118156\tbest: 22.0531613 (272)\ttotal: 595ms\tremaining: 1.16s\n",
      "340:\tlearn: 16.3246790\ttest: 22.1242635\tbest: 22.0531613 (272)\ttotal: 597ms\tremaining: 1.15s\n",
      "341:\tlearn: 16.2973036\ttest: 22.1499889\tbest: 22.0531613 (272)\ttotal: 599ms\tremaining: 1.15s\n",
      "342:\tlearn: 16.2952384\ttest: 22.1510239\tbest: 22.0531613 (272)\ttotal: 600ms\tremaining: 1.15s\n",
      "343:\tlearn: 16.2882907\ttest: 22.1554049\tbest: 22.0531613 (272)\ttotal: 602ms\tremaining: 1.15s\n",
      "344:\tlearn: 16.2744327\ttest: 22.1622846\tbest: 22.0531613 (272)\ttotal: 604ms\tremaining: 1.15s\n",
      "345:\tlearn: 16.2423889\ttest: 22.1363498\tbest: 22.0531613 (272)\ttotal: 605ms\tremaining: 1.14s\n",
      "346:\tlearn: 16.2183618\ttest: 22.1365500\tbest: 22.0531613 (272)\ttotal: 607ms\tremaining: 1.14s\n",
      "347:\tlearn: 16.2062323\ttest: 22.1347293\tbest: 22.0531613 (272)\ttotal: 608ms\tremaining: 1.14s\n",
      "348:\tlearn: 16.1913025\ttest: 22.1260397\tbest: 22.0531613 (272)\ttotal: 610ms\tremaining: 1.14s\n",
      "349:\tlearn: 16.1869090\ttest: 22.1275796\tbest: 22.0531613 (272)\ttotal: 612ms\tremaining: 1.14s\n",
      "350:\tlearn: 16.1646761\ttest: 22.1385226\tbest: 22.0531613 (272)\ttotal: 613ms\tremaining: 1.13s\n",
      "351:\tlearn: 16.1532593\ttest: 22.1374801\tbest: 22.0531613 (272)\ttotal: 615ms\tremaining: 1.13s\n",
      "352:\tlearn: 16.1368828\ttest: 22.1271359\tbest: 22.0531613 (272)\ttotal: 616ms\tremaining: 1.13s\n",
      "353:\tlearn: 16.1236819\ttest: 22.1345849\tbest: 22.0531613 (272)\ttotal: 618ms\tremaining: 1.13s\n",
      "354:\tlearn: 16.0923955\ttest: 22.1453811\tbest: 22.0531613 (272)\ttotal: 620ms\tremaining: 1.13s\n",
      "355:\tlearn: 16.0824542\ttest: 22.1471477\tbest: 22.0531613 (272)\ttotal: 621ms\tremaining: 1.12s\n",
      "356:\tlearn: 16.0666490\ttest: 22.1588526\tbest: 22.0531613 (272)\ttotal: 623ms\tremaining: 1.12s\n",
      "357:\tlearn: 16.0629066\ttest: 22.1581715\tbest: 22.0531613 (272)\ttotal: 624ms\tremaining: 1.12s\n",
      "358:\tlearn: 16.0466851\ttest: 22.1542618\tbest: 22.0531613 (272)\ttotal: 626ms\tremaining: 1.12s\n",
      "359:\tlearn: 16.0315378\ttest: 22.1560308\tbest: 22.0531613 (272)\ttotal: 628ms\tremaining: 1.12s\n",
      "360:\tlearn: 16.0249467\ttest: 22.1595787\tbest: 22.0531613 (272)\ttotal: 630ms\tremaining: 1.11s\n",
      "361:\tlearn: 16.0134342\ttest: 22.1668497\tbest: 22.0531613 (272)\ttotal: 631ms\tremaining: 1.11s\n",
      "362:\tlearn: 15.9981487\ttest: 22.1746177\tbest: 22.0531613 (272)\ttotal: 633ms\tremaining: 1.11s\n",
      "363:\tlearn: 15.9717800\ttest: 22.1695614\tbest: 22.0531613 (272)\ttotal: 634ms\tremaining: 1.11s\n",
      "364:\tlearn: 15.9607246\ttest: 22.1783330\tbest: 22.0531613 (272)\ttotal: 636ms\tremaining: 1.11s\n",
      "365:\tlearn: 15.9504114\ttest: 22.1697246\tbest: 22.0531613 (272)\ttotal: 637ms\tremaining: 1.1s\n",
      "366:\tlearn: 15.9440897\ttest: 22.1722271\tbest: 22.0531613 (272)\ttotal: 639ms\tremaining: 1.1s\n",
      "367:\tlearn: 15.9323403\ttest: 22.1715668\tbest: 22.0531613 (272)\ttotal: 640ms\tremaining: 1.1s\n",
      "368:\tlearn: 15.9183083\ttest: 22.1718237\tbest: 22.0531613 (272)\ttotal: 642ms\tremaining: 1.1s\n",
      "369:\tlearn: 15.8993120\ttest: 22.1862986\tbest: 22.0531613 (272)\ttotal: 644ms\tremaining: 1.1s\n",
      "370:\tlearn: 15.8873206\ttest: 22.1929787\tbest: 22.0531613 (272)\ttotal: 645ms\tremaining: 1.09s\n",
      "371:\tlearn: 15.8799511\ttest: 22.1947500\tbest: 22.0531613 (272)\ttotal: 647ms\tremaining: 1.09s\n",
      "372:\tlearn: 15.8603772\ttest: 22.1933294\tbest: 22.0531613 (272)\ttotal: 648ms\tremaining: 1.09s\n",
      "373:\tlearn: 15.8475813\ttest: 22.1939172\tbest: 22.0531613 (272)\ttotal: 650ms\tremaining: 1.09s\n",
      "374:\tlearn: 15.8316248\ttest: 22.1908981\tbest: 22.0531613 (272)\ttotal: 651ms\tremaining: 1.08s\n",
      "375:\tlearn: 15.8125338\ttest: 22.1953827\tbest: 22.0531613 (272)\ttotal: 653ms\tremaining: 1.08s\n",
      "376:\tlearn: 15.8093020\ttest: 22.1947964\tbest: 22.0531613 (272)\ttotal: 654ms\tremaining: 1.08s\n",
      "377:\tlearn: 15.8014799\ttest: 22.1947605\tbest: 22.0531613 (272)\ttotal: 656ms\tremaining: 1.08s\n",
      "378:\tlearn: 15.7864351\ttest: 22.1816089\tbest: 22.0531613 (272)\ttotal: 658ms\tremaining: 1.08s\n",
      "379:\tlearn: 15.7786345\ttest: 22.1838079\tbest: 22.0531613 (272)\ttotal: 659ms\tremaining: 1.07s\n",
      "380:\tlearn: 15.7656709\ttest: 22.1863991\tbest: 22.0531613 (272)\ttotal: 661ms\tremaining: 1.07s\n",
      "381:\tlearn: 15.7547768\ttest: 22.1776966\tbest: 22.0531613 (272)\ttotal: 663ms\tremaining: 1.07s\n",
      "382:\tlearn: 15.7437212\ttest: 22.1777758\tbest: 22.0531613 (272)\ttotal: 664ms\tremaining: 1.07s\n",
      "383:\tlearn: 15.7329919\ttest: 22.1793321\tbest: 22.0531613 (272)\ttotal: 666ms\tremaining: 1.07s\n",
      "384:\tlearn: 15.7156849\ttest: 22.1844853\tbest: 22.0531613 (272)\ttotal: 667ms\tremaining: 1.06s\n",
      "385:\tlearn: 15.7128311\ttest: 22.1856461\tbest: 22.0531613 (272)\ttotal: 669ms\tremaining: 1.06s\n",
      "386:\tlearn: 15.7091338\ttest: 22.1854318\tbest: 22.0531613 (272)\ttotal: 670ms\tremaining: 1.06s\n",
      "387:\tlearn: 15.6976161\ttest: 22.1874866\tbest: 22.0531613 (272)\ttotal: 672ms\tremaining: 1.06s\n",
      "388:\tlearn: 15.6816261\ttest: 22.1936224\tbest: 22.0531613 (272)\ttotal: 674ms\tremaining: 1.06s\n",
      "389:\tlearn: 15.6650967\ttest: 22.1952457\tbest: 22.0531613 (272)\ttotal: 675ms\tremaining: 1.06s\n",
      "390:\tlearn: 15.6499608\ttest: 22.1958064\tbest: 22.0531613 (272)\ttotal: 677ms\tremaining: 1.05s\n",
      "391:\tlearn: 15.6441441\ttest: 22.2002836\tbest: 22.0531613 (272)\ttotal: 679ms\tremaining: 1.05s\n",
      "392:\tlearn: 15.6353551\ttest: 22.1918430\tbest: 22.0531613 (272)\ttotal: 680ms\tremaining: 1.05s\n",
      "393:\tlearn: 15.6190521\ttest: 22.1987591\tbest: 22.0531613 (272)\ttotal: 682ms\tremaining: 1.05s\n",
      "394:\tlearn: 15.6046950\ttest: 22.2043342\tbest: 22.0531613 (272)\ttotal: 683ms\tremaining: 1.05s\n",
      "395:\tlearn: 15.5986517\ttest: 22.2045692\tbest: 22.0531613 (272)\ttotal: 685ms\tremaining: 1.04s\n",
      "396:\tlearn: 15.5699121\ttest: 22.2125623\tbest: 22.0531613 (272)\ttotal: 687ms\tremaining: 1.04s\n",
      "397:\tlearn: 15.5653961\ttest: 22.2130273\tbest: 22.0531613 (272)\ttotal: 688ms\tremaining: 1.04s\n",
      "398:\tlearn: 15.5514659\ttest: 22.2100943\tbest: 22.0531613 (272)\ttotal: 690ms\tremaining: 1.04s\n",
      "399:\tlearn: 15.5350951\ttest: 22.1964846\tbest: 22.0531613 (272)\ttotal: 691ms\tremaining: 1.04s\n",
      "400:\tlearn: 15.5199188\ttest: 22.1961070\tbest: 22.0531613 (272)\ttotal: 693ms\tremaining: 1.03s\n",
      "401:\tlearn: 15.5145631\ttest: 22.1982326\tbest: 22.0531613 (272)\ttotal: 695ms\tremaining: 1.03s\n",
      "402:\tlearn: 15.5019495\ttest: 22.1975912\tbest: 22.0531613 (272)\ttotal: 696ms\tremaining: 1.03s\n",
      "403:\tlearn: 15.4887825\ttest: 22.1991970\tbest: 22.0531613 (272)\ttotal: 698ms\tremaining: 1.03s\n",
      "404:\tlearn: 15.4837309\ttest: 22.2024766\tbest: 22.0531613 (272)\ttotal: 699ms\tremaining: 1.03s\n",
      "405:\tlearn: 15.4774905\ttest: 22.1981721\tbest: 22.0531613 (272)\ttotal: 701ms\tremaining: 1.02s\n",
      "406:\tlearn: 15.4628396\ttest: 22.1844161\tbest: 22.0531613 (272)\ttotal: 703ms\tremaining: 1.02s\n",
      "407:\tlearn: 15.4480906\ttest: 22.1867565\tbest: 22.0531613 (272)\ttotal: 704ms\tremaining: 1.02s\n",
      "408:\tlearn: 15.4369468\ttest: 22.1904356\tbest: 22.0531613 (272)\ttotal: 706ms\tremaining: 1.02s\n",
      "409:\tlearn: 15.4205215\ttest: 22.1998722\tbest: 22.0531613 (272)\ttotal: 707ms\tremaining: 1.02s\n",
      "410:\tlearn: 15.4105863\ttest: 22.2014888\tbest: 22.0531613 (272)\ttotal: 709ms\tremaining: 1.01s\n",
      "411:\tlearn: 15.4080082\ttest: 22.2000279\tbest: 22.0531613 (272)\ttotal: 710ms\tremaining: 1.01s\n",
      "412:\tlearn: 15.4041255\ttest: 22.2005732\tbest: 22.0531613 (272)\ttotal: 712ms\tremaining: 1.01s\n",
      "413:\tlearn: 15.3978646\ttest: 22.2056892\tbest: 22.0531613 (272)\ttotal: 713ms\tremaining: 1.01s\n",
      "414:\tlearn: 15.3906020\ttest: 22.2061796\tbest: 22.0531613 (272)\ttotal: 715ms\tremaining: 1.01s\n",
      "415:\tlearn: 15.3801791\ttest: 22.2072037\tbest: 22.0531613 (272)\ttotal: 716ms\tremaining: 1s\n",
      "416:\tlearn: 15.3661373\ttest: 22.1981388\tbest: 22.0531613 (272)\ttotal: 718ms\tremaining: 1s\n",
      "417:\tlearn: 15.3564669\ttest: 22.2029576\tbest: 22.0531613 (272)\ttotal: 720ms\tremaining: 1s\n",
      "418:\tlearn: 15.3348380\ttest: 22.1947381\tbest: 22.0531613 (272)\ttotal: 721ms\tremaining: 1000ms\n",
      "419:\tlearn: 15.3196314\ttest: 22.1993772\tbest: 22.0531613 (272)\ttotal: 723ms\tremaining: 998ms\n",
      "420:\tlearn: 15.3165317\ttest: 22.2025593\tbest: 22.0531613 (272)\ttotal: 724ms\tremaining: 996ms\n",
      "421:\tlearn: 15.3026261\ttest: 22.2086426\tbest: 22.0531613 (272)\ttotal: 726ms\tremaining: 994ms\n",
      "422:\tlearn: 15.2874025\ttest: 22.2019534\tbest: 22.0531613 (272)\ttotal: 727ms\tremaining: 992ms\n",
      "423:\tlearn: 15.2839164\ttest: 22.2056504\tbest: 22.0531613 (272)\ttotal: 729ms\tremaining: 990ms\n",
      "424:\tlearn: 15.2803258\ttest: 22.2039424\tbest: 22.0531613 (272)\ttotal: 730ms\tremaining: 988ms\n",
      "425:\tlearn: 15.2678197\ttest: 22.1977955\tbest: 22.0531613 (272)\ttotal: 732ms\tremaining: 987ms\n",
      "426:\tlearn: 15.2649560\ttest: 22.1991823\tbest: 22.0531613 (272)\ttotal: 734ms\tremaining: 985ms\n",
      "427:\tlearn: 15.2514388\ttest: 22.1993046\tbest: 22.0531613 (272)\ttotal: 735ms\tremaining: 983ms\n",
      "428:\tlearn: 15.2344340\ttest: 22.1897449\tbest: 22.0531613 (272)\ttotal: 737ms\tremaining: 981ms\n",
      "429:\tlearn: 15.2242360\ttest: 22.1917496\tbest: 22.0531613 (272)\ttotal: 738ms\tremaining: 979ms\n",
      "430:\tlearn: 15.2014168\ttest: 22.1934206\tbest: 22.0531613 (272)\ttotal: 740ms\tremaining: 977ms\n",
      "431:\tlearn: 15.1872180\ttest: 22.1979853\tbest: 22.0531613 (272)\ttotal: 741ms\tremaining: 975ms\n",
      "432:\tlearn: 15.1720380\ttest: 22.1918913\tbest: 22.0531613 (272)\ttotal: 743ms\tremaining: 973ms\n",
      "433:\tlearn: 15.1603251\ttest: 22.1981253\tbest: 22.0531613 (272)\ttotal: 744ms\tremaining: 971ms\n",
      "434:\tlearn: 15.1465105\ttest: 22.1999348\tbest: 22.0531613 (272)\ttotal: 746ms\tremaining: 969ms\n",
      "435:\tlearn: 15.1356709\ttest: 22.1927945\tbest: 22.0531613 (272)\ttotal: 748ms\tremaining: 967ms\n",
      "436:\tlearn: 15.1206882\ttest: 22.1956326\tbest: 22.0531613 (272)\ttotal: 749ms\tremaining: 965ms\n",
      "437:\tlearn: 15.1065985\ttest: 22.2088292\tbest: 22.0531613 (272)\ttotal: 751ms\tremaining: 963ms\n",
      "438:\tlearn: 15.0977278\ttest: 22.2097833\tbest: 22.0531613 (272)\ttotal: 752ms\tremaining: 961ms\n",
      "439:\tlearn: 15.0864489\ttest: 22.2084995\tbest: 22.0531613 (272)\ttotal: 754ms\tremaining: 959ms\n",
      "440:\tlearn: 15.0731236\ttest: 22.2138078\tbest: 22.0531613 (272)\ttotal: 755ms\tremaining: 957ms\n",
      "441:\tlearn: 15.0633231\ttest: 22.2164374\tbest: 22.0531613 (272)\ttotal: 757ms\tremaining: 955ms\n",
      "442:\tlearn: 15.0526665\ttest: 22.2174530\tbest: 22.0531613 (272)\ttotal: 758ms\tremaining: 954ms\n",
      "443:\tlearn: 15.0354031\ttest: 22.2198677\tbest: 22.0531613 (272)\ttotal: 760ms\tremaining: 952ms\n",
      "444:\tlearn: 15.0255100\ttest: 22.2084839\tbest: 22.0531613 (272)\ttotal: 762ms\tremaining: 950ms\n",
      "445:\tlearn: 15.0115093\ttest: 22.2008460\tbest: 22.0531613 (272)\ttotal: 763ms\tremaining: 948ms\n",
      "446:\tlearn: 15.0100183\ttest: 22.1982888\tbest: 22.0531613 (272)\ttotal: 765ms\tremaining: 946ms\n",
      "447:\tlearn: 15.0013049\ttest: 22.1992417\tbest: 22.0531613 (272)\ttotal: 767ms\tremaining: 944ms\n",
      "448:\tlearn: 14.9918488\ttest: 22.1981393\tbest: 22.0531613 (272)\ttotal: 768ms\tremaining: 943ms\n",
      "449:\tlearn: 14.9819975\ttest: 22.1996255\tbest: 22.0531613 (272)\ttotal: 770ms\tremaining: 941ms\n",
      "450:\tlearn: 14.9657907\ttest: 22.1948662\tbest: 22.0531613 (272)\ttotal: 771ms\tremaining: 939ms\n",
      "451:\tlearn: 14.9543090\ttest: 22.1945900\tbest: 22.0531613 (272)\ttotal: 773ms\tremaining: 937ms\n",
      "452:\tlearn: 14.9458699\ttest: 22.1950167\tbest: 22.0531613 (272)\ttotal: 774ms\tremaining: 935ms\n",
      "453:\tlearn: 14.9244935\ttest: 22.2184456\tbest: 22.0531613 (272)\ttotal: 776ms\tremaining: 933ms\n",
      "454:\tlearn: 14.9126549\ttest: 22.2184148\tbest: 22.0531613 (272)\ttotal: 778ms\tremaining: 932ms\n",
      "455:\tlearn: 14.8948906\ttest: 22.2357071\tbest: 22.0531613 (272)\ttotal: 779ms\tremaining: 930ms\n",
      "456:\tlearn: 14.8794035\ttest: 22.2430800\tbest: 22.0531613 (272)\ttotal: 781ms\tremaining: 928ms\n",
      "457:\tlearn: 14.8670879\ttest: 22.2452960\tbest: 22.0531613 (272)\ttotal: 783ms\tremaining: 926ms\n",
      "458:\tlearn: 14.8569552\ttest: 22.2445672\tbest: 22.0531613 (272)\ttotal: 784ms\tremaining: 924ms\n",
      "459:\tlearn: 14.8416623\ttest: 22.2450077\tbest: 22.0531613 (272)\ttotal: 786ms\tremaining: 922ms\n",
      "460:\tlearn: 14.8323964\ttest: 22.2486824\tbest: 22.0531613 (272)\ttotal: 787ms\tremaining: 920ms\n",
      "461:\tlearn: 14.8205487\ttest: 22.2402875\tbest: 22.0531613 (272)\ttotal: 789ms\tremaining: 918ms\n",
      "462:\tlearn: 14.8152709\ttest: 22.2367550\tbest: 22.0531613 (272)\ttotal: 790ms\tremaining: 916ms\n",
      "463:\tlearn: 14.7920420\ttest: 22.2215312\tbest: 22.0531613 (272)\ttotal: 792ms\tremaining: 914ms\n",
      "464:\tlearn: 14.7795335\ttest: 22.2151067\tbest: 22.0531613 (272)\ttotal: 793ms\tremaining: 913ms\n",
      "465:\tlearn: 14.7656457\ttest: 22.2043691\tbest: 22.0531613 (272)\ttotal: 795ms\tremaining: 911ms\n",
      "466:\tlearn: 14.7570152\ttest: 22.2012256\tbest: 22.0531613 (272)\ttotal: 797ms\tremaining: 909ms\n",
      "467:\tlearn: 14.7494449\ttest: 22.2005626\tbest: 22.0531613 (272)\ttotal: 798ms\tremaining: 907ms\n",
      "468:\tlearn: 14.7442602\ttest: 22.1975520\tbest: 22.0531613 (272)\ttotal: 800ms\tremaining: 905ms\n",
      "469:\tlearn: 14.7363453\ttest: 22.1985738\tbest: 22.0531613 (272)\ttotal: 801ms\tremaining: 903ms\n",
      "470:\tlearn: 14.7294299\ttest: 22.2026220\tbest: 22.0531613 (272)\ttotal: 803ms\tremaining: 901ms\n",
      "471:\tlearn: 14.7205408\ttest: 22.2071677\tbest: 22.0531613 (272)\ttotal: 804ms\tremaining: 900ms\n",
      "472:\tlearn: 14.7078116\ttest: 22.2046637\tbest: 22.0531613 (272)\ttotal: 806ms\tremaining: 898ms\n",
      "473:\tlearn: 14.6980797\ttest: 22.2149057\tbest: 22.0531613 (272)\ttotal: 807ms\tremaining: 896ms\n",
      "474:\tlearn: 14.6895372\ttest: 22.2224905\tbest: 22.0531613 (272)\ttotal: 809ms\tremaining: 894ms\n",
      "475:\tlearn: 14.6772064\ttest: 22.2115469\tbest: 22.0531613 (272)\ttotal: 810ms\tremaining: 892ms\n",
      "476:\tlearn: 14.6633943\ttest: 22.2067025\tbest: 22.0531613 (272)\ttotal: 812ms\tremaining: 890ms\n",
      "477:\tlearn: 14.6622053\ttest: 22.2043958\tbest: 22.0531613 (272)\ttotal: 813ms\tremaining: 888ms\n",
      "478:\tlearn: 14.6557978\ttest: 22.2042386\tbest: 22.0531613 (272)\ttotal: 815ms\tremaining: 887ms\n",
      "479:\tlearn: 14.6469417\ttest: 22.2049066\tbest: 22.0531613 (272)\ttotal: 817ms\tremaining: 885ms\n",
      "480:\tlearn: 14.6455094\ttest: 22.2044523\tbest: 22.0531613 (272)\ttotal: 818ms\tremaining: 883ms\n",
      "481:\tlearn: 14.6326875\ttest: 22.2082948\tbest: 22.0531613 (272)\ttotal: 819ms\tremaining: 881ms\n",
      "482:\tlearn: 14.6257464\ttest: 22.2070887\tbest: 22.0531613 (272)\ttotal: 821ms\tremaining: 879ms\n",
      "483:\tlearn: 14.6169927\ttest: 22.1985547\tbest: 22.0531613 (272)\ttotal: 823ms\tremaining: 877ms\n",
      "484:\tlearn: 14.6069437\ttest: 22.1914824\tbest: 22.0531613 (272)\ttotal: 824ms\tremaining: 875ms\n",
      "485:\tlearn: 14.5991692\ttest: 22.1960749\tbest: 22.0531613 (272)\ttotal: 826ms\tremaining: 873ms\n",
      "486:\tlearn: 14.5857722\ttest: 22.1955443\tbest: 22.0531613 (272)\ttotal: 827ms\tremaining: 872ms\n",
      "487:\tlearn: 14.5688993\ttest: 22.1979944\tbest: 22.0531613 (272)\ttotal: 829ms\tremaining: 870ms\n",
      "488:\tlearn: 14.5606823\ttest: 22.2009272\tbest: 22.0531613 (272)\ttotal: 831ms\tremaining: 868ms\n",
      "489:\tlearn: 14.5453948\ttest: 22.2039589\tbest: 22.0531613 (272)\ttotal: 832ms\tremaining: 866ms\n",
      "490:\tlearn: 14.5353160\ttest: 22.2050695\tbest: 22.0531613 (272)\ttotal: 834ms\tremaining: 864ms\n",
      "491:\tlearn: 14.5225496\ttest: 22.2063621\tbest: 22.0531613 (272)\ttotal: 835ms\tremaining: 862ms\n",
      "492:\tlearn: 14.5163155\ttest: 22.2084258\tbest: 22.0531613 (272)\ttotal: 837ms\tremaining: 861ms\n",
      "493:\tlearn: 14.5057936\ttest: 22.2079404\tbest: 22.0531613 (272)\ttotal: 838ms\tremaining: 859ms\n",
      "494:\tlearn: 14.4859624\ttest: 22.2134549\tbest: 22.0531613 (272)\ttotal: 840ms\tremaining: 857ms\n",
      "495:\tlearn: 14.4764165\ttest: 22.2100552\tbest: 22.0531613 (272)\ttotal: 842ms\tremaining: 855ms\n",
      "496:\tlearn: 14.4682604\ttest: 22.2215952\tbest: 22.0531613 (272)\ttotal: 843ms\tremaining: 853ms\n",
      "497:\tlearn: 14.4604323\ttest: 22.2188635\tbest: 22.0531613 (272)\ttotal: 845ms\tremaining: 852ms\n",
      "498:\tlearn: 14.4530804\ttest: 22.2206531\tbest: 22.0531613 (272)\ttotal: 846ms\tremaining: 850ms\n",
      "499:\tlearn: 14.4427952\ttest: 22.2111506\tbest: 22.0531613 (272)\ttotal: 848ms\tremaining: 848ms\n",
      "500:\tlearn: 14.4303060\ttest: 22.2197055\tbest: 22.0531613 (272)\ttotal: 850ms\tremaining: 846ms\n",
      "501:\tlearn: 14.4164479\ttest: 22.2187524\tbest: 22.0531613 (272)\ttotal: 851ms\tremaining: 845ms\n",
      "502:\tlearn: 14.3988122\ttest: 22.2172591\tbest: 22.0531613 (272)\ttotal: 853ms\tremaining: 843ms\n",
      "503:\tlearn: 14.3778086\ttest: 22.2218023\tbest: 22.0531613 (272)\ttotal: 855ms\tremaining: 841ms\n",
      "504:\tlearn: 14.3749121\ttest: 22.2229816\tbest: 22.0531613 (272)\ttotal: 857ms\tremaining: 840ms\n",
      "505:\tlearn: 14.3690342\ttest: 22.2226129\tbest: 22.0531613 (272)\ttotal: 858ms\tremaining: 838ms\n",
      "506:\tlearn: 14.3607173\ttest: 22.2205849\tbest: 22.0531613 (272)\ttotal: 860ms\tremaining: 836ms\n",
      "507:\tlearn: 14.3490948\ttest: 22.2241151\tbest: 22.0531613 (272)\ttotal: 861ms\tremaining: 834ms\n",
      "508:\tlearn: 14.3484669\ttest: 22.2258015\tbest: 22.0531613 (272)\ttotal: 863ms\tremaining: 832ms\n",
      "509:\tlearn: 14.3236501\ttest: 22.2240873\tbest: 22.0531613 (272)\ttotal: 864ms\tremaining: 831ms\n",
      "510:\tlearn: 14.3076399\ttest: 22.2303983\tbest: 22.0531613 (272)\ttotal: 866ms\tremaining: 829ms\n",
      "511:\tlearn: 14.3022623\ttest: 22.2299064\tbest: 22.0531613 (272)\ttotal: 868ms\tremaining: 827ms\n",
      "512:\tlearn: 14.2939720\ttest: 22.2313380\tbest: 22.0531613 (272)\ttotal: 869ms\tremaining: 825ms\n",
      "513:\tlearn: 14.2853974\ttest: 22.2330237\tbest: 22.0531613 (272)\ttotal: 871ms\tremaining: 824ms\n",
      "514:\tlearn: 14.2676406\ttest: 22.2331655\tbest: 22.0531613 (272)\ttotal: 873ms\tremaining: 822ms\n",
      "515:\tlearn: 14.2591470\ttest: 22.2360640\tbest: 22.0531613 (272)\ttotal: 874ms\tremaining: 820ms\n",
      "516:\tlearn: 14.2432455\ttest: 22.2435659\tbest: 22.0531613 (272)\ttotal: 876ms\tremaining: 818ms\n",
      "517:\tlearn: 14.2351973\ttest: 22.2446187\tbest: 22.0531613 (272)\ttotal: 878ms\tremaining: 817ms\n",
      "518:\tlearn: 14.2065878\ttest: 22.2421364\tbest: 22.0531613 (272)\ttotal: 880ms\tremaining: 815ms\n",
      "519:\tlearn: 14.1976735\ttest: 22.2416939\tbest: 22.0531613 (272)\ttotal: 881ms\tremaining: 813ms\n",
      "520:\tlearn: 14.1907719\ttest: 22.2448277\tbest: 22.0531613 (272)\ttotal: 883ms\tremaining: 812ms\n",
      "521:\tlearn: 14.1719094\ttest: 22.2442460\tbest: 22.0531613 (272)\ttotal: 885ms\tremaining: 810ms\n",
      "522:\tlearn: 14.1606849\ttest: 22.2523752\tbest: 22.0531613 (272)\ttotal: 886ms\tremaining: 809ms\n",
      "523:\tlearn: 14.1517623\ttest: 22.2529129\tbest: 22.0531613 (272)\ttotal: 888ms\tremaining: 807ms\n",
      "524:\tlearn: 14.1347787\ttest: 22.2482590\tbest: 22.0531613 (272)\ttotal: 890ms\tremaining: 805ms\n",
      "525:\tlearn: 14.1291717\ttest: 22.2479499\tbest: 22.0531613 (272)\ttotal: 891ms\tremaining: 803ms\n",
      "526:\tlearn: 14.1202774\ttest: 22.2478785\tbest: 22.0531613 (272)\ttotal: 893ms\tremaining: 802ms\n",
      "527:\tlearn: 14.1178457\ttest: 22.2543616\tbest: 22.0531613 (272)\ttotal: 895ms\tremaining: 800ms\n",
      "528:\tlearn: 14.1111789\ttest: 22.2555883\tbest: 22.0531613 (272)\ttotal: 896ms\tremaining: 798ms\n",
      "529:\tlearn: 14.1019381\ttest: 22.2628358\tbest: 22.0531613 (272)\ttotal: 898ms\tremaining: 796ms\n",
      "530:\tlearn: 14.0927169\ttest: 22.2718894\tbest: 22.0531613 (272)\ttotal: 899ms\tremaining: 794ms\n",
      "531:\tlearn: 14.0915486\ttest: 22.2722422\tbest: 22.0531613 (272)\ttotal: 901ms\tremaining: 793ms\n",
      "532:\tlearn: 14.0749388\ttest: 22.2831220\tbest: 22.0531613 (272)\ttotal: 903ms\tremaining: 791ms\n",
      "533:\tlearn: 14.0665420\ttest: 22.2855054\tbest: 22.0531613 (272)\ttotal: 905ms\tremaining: 790ms\n",
      "534:\tlearn: 14.0631668\ttest: 22.2882092\tbest: 22.0531613 (272)\ttotal: 907ms\tremaining: 788ms\n",
      "535:\tlearn: 14.0529041\ttest: 22.2900410\tbest: 22.0531613 (272)\ttotal: 908ms\tremaining: 786ms\n",
      "536:\tlearn: 14.0448397\ttest: 22.2892131\tbest: 22.0531613 (272)\ttotal: 920ms\tremaining: 793ms\n",
      "537:\tlearn: 14.0290080\ttest: 22.2931711\tbest: 22.0531613 (272)\ttotal: 922ms\tremaining: 792ms\n",
      "538:\tlearn: 14.0198826\ttest: 22.2908856\tbest: 22.0531613 (272)\ttotal: 923ms\tremaining: 790ms\n",
      "539:\tlearn: 14.0106764\ttest: 22.2823818\tbest: 22.0531613 (272)\ttotal: 925ms\tremaining: 788ms\n",
      "540:\tlearn: 13.9984079\ttest: 22.2772331\tbest: 22.0531613 (272)\ttotal: 927ms\tremaining: 786ms\n",
      "541:\tlearn: 13.9833318\ttest: 22.2779332\tbest: 22.0531613 (272)\ttotal: 928ms\tremaining: 784ms\n",
      "542:\tlearn: 13.9695114\ttest: 22.2759900\tbest: 22.0531613 (272)\ttotal: 930ms\tremaining: 783ms\n",
      "543:\tlearn: 13.9512603\ttest: 22.2897782\tbest: 22.0531613 (272)\ttotal: 932ms\tremaining: 781ms\n",
      "544:\tlearn: 13.9495346\ttest: 22.2912671\tbest: 22.0531613 (272)\ttotal: 933ms\tremaining: 779ms\n",
      "545:\tlearn: 13.9394010\ttest: 22.2952497\tbest: 22.0531613 (272)\ttotal: 935ms\tremaining: 777ms\n",
      "546:\tlearn: 13.9321306\ttest: 22.2955119\tbest: 22.0531613 (272)\ttotal: 937ms\tremaining: 776ms\n",
      "547:\tlearn: 13.9255083\ttest: 22.2891425\tbest: 22.0531613 (272)\ttotal: 938ms\tremaining: 774ms\n",
      "548:\tlearn: 13.9213639\ttest: 22.2885688\tbest: 22.0531613 (272)\ttotal: 940ms\tremaining: 772ms\n",
      "549:\tlearn: 13.9097170\ttest: 22.2925496\tbest: 22.0531613 (272)\ttotal: 942ms\tremaining: 770ms\n",
      "550:\tlearn: 13.9012286\ttest: 22.2872002\tbest: 22.0531613 (272)\ttotal: 943ms\tremaining: 769ms\n",
      "551:\tlearn: 13.8873750\ttest: 22.2837854\tbest: 22.0531613 (272)\ttotal: 945ms\tremaining: 767ms\n",
      "552:\tlearn: 13.8799586\ttest: 22.2828320\tbest: 22.0531613 (272)\ttotal: 947ms\tremaining: 765ms\n",
      "553:\tlearn: 13.8705864\ttest: 22.2823435\tbest: 22.0531613 (272)\ttotal: 949ms\tremaining: 764ms\n",
      "554:\tlearn: 13.8702348\ttest: 22.2824367\tbest: 22.0531613 (272)\ttotal: 951ms\tremaining: 763ms\n",
      "555:\tlearn: 13.8556638\ttest: 22.2858510\tbest: 22.0531613 (272)\ttotal: 953ms\tremaining: 761ms\n",
      "556:\tlearn: 13.8467391\ttest: 22.2839189\tbest: 22.0531613 (272)\ttotal: 955ms\tremaining: 759ms\n",
      "557:\tlearn: 13.8335127\ttest: 22.2829214\tbest: 22.0531613 (272)\ttotal: 957ms\tremaining: 758ms\n",
      "558:\tlearn: 13.8192279\ttest: 22.2783209\tbest: 22.0531613 (272)\ttotal: 958ms\tremaining: 756ms\n",
      "559:\tlearn: 13.8034426\ttest: 22.2714171\tbest: 22.0531613 (272)\ttotal: 960ms\tremaining: 754ms\n",
      "560:\tlearn: 13.7953593\ttest: 22.2746651\tbest: 22.0531613 (272)\ttotal: 962ms\tremaining: 752ms\n",
      "561:\tlearn: 13.7793021\ttest: 22.2769933\tbest: 22.0531613 (272)\ttotal: 963ms\tremaining: 751ms\n",
      "562:\tlearn: 13.7683524\ttest: 22.2831682\tbest: 22.0531613 (272)\ttotal: 965ms\tremaining: 749ms\n",
      "563:\tlearn: 13.7498257\ttest: 22.2796520\tbest: 22.0531613 (272)\ttotal: 967ms\tremaining: 747ms\n",
      "564:\tlearn: 13.7473347\ttest: 22.2809920\tbest: 22.0531613 (272)\ttotal: 968ms\tremaining: 746ms\n",
      "565:\tlearn: 13.7408294\ttest: 22.2801586\tbest: 22.0531613 (272)\ttotal: 970ms\tremaining: 744ms\n",
      "566:\tlearn: 13.7280395\ttest: 22.2807195\tbest: 22.0531613 (272)\ttotal: 972ms\tremaining: 742ms\n",
      "567:\tlearn: 13.7199197\ttest: 22.2845556\tbest: 22.0531613 (272)\ttotal: 973ms\tremaining: 740ms\n",
      "568:\tlearn: 13.7165477\ttest: 22.2866727\tbest: 22.0531613 (272)\ttotal: 975ms\tremaining: 738ms\n",
      "569:\tlearn: 13.7099533\ttest: 22.2863392\tbest: 22.0531613 (272)\ttotal: 977ms\tremaining: 737ms\n",
      "570:\tlearn: 13.7016877\ttest: 22.2816682\tbest: 22.0531613 (272)\ttotal: 979ms\tremaining: 735ms\n",
      "571:\tlearn: 13.6942216\ttest: 22.2775560\tbest: 22.0531613 (272)\ttotal: 980ms\tremaining: 734ms\n",
      "572:\tlearn: 13.6862030\ttest: 22.2808329\tbest: 22.0531613 (272)\ttotal: 982ms\tremaining: 732ms\n",
      "573:\tlearn: 13.6782574\ttest: 22.2869188\tbest: 22.0531613 (272)\ttotal: 984ms\tremaining: 730ms\n",
      "574:\tlearn: 13.6620377\ttest: 22.2867555\tbest: 22.0531613 (272)\ttotal: 986ms\tremaining: 728ms\n",
      "575:\tlearn: 13.6549531\ttest: 22.2864413\tbest: 22.0531613 (272)\ttotal: 987ms\tremaining: 727ms\n",
      "576:\tlearn: 13.6389955\ttest: 22.2928149\tbest: 22.0531613 (272)\ttotal: 989ms\tremaining: 725ms\n",
      "577:\tlearn: 13.6279132\ttest: 22.2973608\tbest: 22.0531613 (272)\ttotal: 991ms\tremaining: 723ms\n",
      "578:\tlearn: 13.6234582\ttest: 22.2964230\tbest: 22.0531613 (272)\ttotal: 992ms\tremaining: 721ms\n",
      "579:\tlearn: 13.6170035\ttest: 22.2959547\tbest: 22.0531613 (272)\ttotal: 994ms\tremaining: 720ms\n",
      "580:\tlearn: 13.6016832\ttest: 22.2987440\tbest: 22.0531613 (272)\ttotal: 995ms\tremaining: 718ms\n",
      "581:\tlearn: 13.5909850\ttest: 22.2937160\tbest: 22.0531613 (272)\ttotal: 997ms\tremaining: 716ms\n",
      "582:\tlearn: 13.5754215\ttest: 22.2809087\tbest: 22.0531613 (272)\ttotal: 999ms\tremaining: 714ms\n",
      "583:\tlearn: 13.5734837\ttest: 22.2834512\tbest: 22.0531613 (272)\ttotal: 1000ms\tremaining: 712ms\n",
      "584:\tlearn: 13.5665066\ttest: 22.2818089\tbest: 22.0531613 (272)\ttotal: 1s\tremaining: 710ms\n",
      "585:\tlearn: 13.5639127\ttest: 22.2858546\tbest: 22.0531613 (272)\ttotal: 1s\tremaining: 709ms\n",
      "586:\tlearn: 13.5619450\ttest: 22.2915237\tbest: 22.0531613 (272)\ttotal: 1s\tremaining: 707ms\n",
      "587:\tlearn: 13.5532199\ttest: 22.2889497\tbest: 22.0531613 (272)\ttotal: 1.01s\tremaining: 705ms\n",
      "588:\tlearn: 13.5479423\ttest: 22.2917055\tbest: 22.0531613 (272)\ttotal: 1.01s\tremaining: 703ms\n",
      "589:\tlearn: 13.5456404\ttest: 22.2956701\tbest: 22.0531613 (272)\ttotal: 1.01s\tremaining: 702ms\n",
      "590:\tlearn: 13.5227463\ttest: 22.2943062\tbest: 22.0531613 (272)\ttotal: 1.01s\tremaining: 700ms\n",
      "591:\tlearn: 13.5219257\ttest: 22.2967043\tbest: 22.0531613 (272)\ttotal: 1.01s\tremaining: 699ms\n",
      "592:\tlearn: 13.5064644\ttest: 22.2990746\tbest: 22.0531613 (272)\ttotal: 1.01s\tremaining: 697ms\n",
      "593:\tlearn: 13.4926088\ttest: 22.3047448\tbest: 22.0531613 (272)\ttotal: 1.02s\tremaining: 695ms\n",
      "594:\tlearn: 13.4784329\ttest: 22.3081297\tbest: 22.0531613 (272)\ttotal: 1.02s\tremaining: 694ms\n",
      "595:\tlearn: 13.4765560\ttest: 22.3136796\tbest: 22.0531613 (272)\ttotal: 1.02s\tremaining: 692ms\n",
      "596:\tlearn: 13.4620702\ttest: 22.3044804\tbest: 22.0531613 (272)\ttotal: 1.02s\tremaining: 690ms\n",
      "597:\tlearn: 13.4587876\ttest: 22.3051849\tbest: 22.0531613 (272)\ttotal: 1.02s\tremaining: 688ms\n",
      "598:\tlearn: 13.4549561\ttest: 22.3072456\tbest: 22.0531613 (272)\ttotal: 1.02s\tremaining: 687ms\n",
      "599:\tlearn: 13.4474802\ttest: 22.3044441\tbest: 22.0531613 (272)\ttotal: 1.03s\tremaining: 685ms\n",
      "600:\tlearn: 13.4409187\ttest: 22.3052015\tbest: 22.0531613 (272)\ttotal: 1.03s\tremaining: 683ms\n",
      "601:\tlearn: 13.4311385\ttest: 22.3126113\tbest: 22.0531613 (272)\ttotal: 1.03s\tremaining: 681ms\n",
      "602:\tlearn: 13.4210481\ttest: 22.3134335\tbest: 22.0531613 (272)\ttotal: 1.03s\tremaining: 679ms\n",
      "603:\tlearn: 13.4125142\ttest: 22.3105463\tbest: 22.0531613 (272)\ttotal: 1.03s\tremaining: 677ms\n",
      "604:\tlearn: 13.4014069\ttest: 22.3056846\tbest: 22.0531613 (272)\ttotal: 1.03s\tremaining: 676ms\n",
      "605:\tlearn: 13.3998857\ttest: 22.3111470\tbest: 22.0531613 (272)\ttotal: 1.04s\tremaining: 674ms\n",
      "606:\tlearn: 13.3865125\ttest: 22.3216153\tbest: 22.0531613 (272)\ttotal: 1.04s\tremaining: 672ms\n",
      "607:\tlearn: 13.3849148\ttest: 22.3247722\tbest: 22.0531613 (272)\ttotal: 1.04s\tremaining: 671ms\n",
      "608:\tlearn: 13.3685420\ttest: 22.3255965\tbest: 22.0531613 (272)\ttotal: 1.04s\tremaining: 669ms\n",
      "609:\tlearn: 13.3589317\ttest: 22.3226349\tbest: 22.0531613 (272)\ttotal: 1.04s\tremaining: 667ms\n",
      "610:\tlearn: 13.3529747\ttest: 22.3245219\tbest: 22.0531613 (272)\ttotal: 1.04s\tremaining: 666ms\n",
      "611:\tlearn: 13.3408688\ttest: 22.3335652\tbest: 22.0531613 (272)\ttotal: 1.05s\tremaining: 664ms\n",
      "612:\tlearn: 13.3314919\ttest: 22.3295016\tbest: 22.0531613 (272)\ttotal: 1.05s\tremaining: 662ms\n",
      "613:\tlearn: 13.3203303\ttest: 22.3229566\tbest: 22.0531613 (272)\ttotal: 1.05s\tremaining: 661ms\n",
      "614:\tlearn: 13.3064777\ttest: 22.3315008\tbest: 22.0531613 (272)\ttotal: 1.05s\tremaining: 659ms\n",
      "615:\tlearn: 13.2931388\ttest: 22.3326000\tbest: 22.0531613 (272)\ttotal: 1.05s\tremaining: 658ms\n",
      "616:\tlearn: 13.2884506\ttest: 22.3338756\tbest: 22.0531613 (272)\ttotal: 1.06s\tremaining: 656ms\n",
      "617:\tlearn: 13.2852635\ttest: 22.3350380\tbest: 22.0531613 (272)\ttotal: 1.06s\tremaining: 654ms\n",
      "618:\tlearn: 13.2827813\ttest: 22.3377417\tbest: 22.0531613 (272)\ttotal: 1.06s\tremaining: 652ms\n",
      "619:\tlearn: 13.2758453\ttest: 22.3430471\tbest: 22.0531613 (272)\ttotal: 1.06s\tremaining: 651ms\n",
      "620:\tlearn: 13.2683155\ttest: 22.3451109\tbest: 22.0531613 (272)\ttotal: 1.06s\tremaining: 649ms\n",
      "621:\tlearn: 13.2577635\ttest: 22.3412663\tbest: 22.0531613 (272)\ttotal: 1.06s\tremaining: 648ms\n",
      "622:\tlearn: 13.2469156\ttest: 22.3367675\tbest: 22.0531613 (272)\ttotal: 1.07s\tremaining: 646ms\n",
      "623:\tlearn: 13.2400816\ttest: 22.3364213\tbest: 22.0531613 (272)\ttotal: 1.07s\tremaining: 645ms\n",
      "624:\tlearn: 13.2319996\ttest: 22.3318770\tbest: 22.0531613 (272)\ttotal: 1.07s\tremaining: 643ms\n",
      "625:\tlearn: 13.2217458\ttest: 22.3335975\tbest: 22.0531613 (272)\ttotal: 1.07s\tremaining: 641ms\n",
      "626:\tlearn: 13.2126630\ttest: 22.3334684\tbest: 22.0531613 (272)\ttotal: 1.07s\tremaining: 640ms\n",
      "627:\tlearn: 13.2109506\ttest: 22.3373281\tbest: 22.0531613 (272)\ttotal: 1.08s\tremaining: 638ms\n",
      "628:\tlearn: 13.2028617\ttest: 22.3454461\tbest: 22.0531613 (272)\ttotal: 1.08s\tremaining: 636ms\n",
      "629:\tlearn: 13.1919623\ttest: 22.3432942\tbest: 22.0531613 (272)\ttotal: 1.08s\tremaining: 634ms\n",
      "630:\tlearn: 13.1798982\ttest: 22.3467373\tbest: 22.0531613 (272)\ttotal: 1.08s\tremaining: 632ms\n",
      "631:\tlearn: 13.1743318\ttest: 22.3478277\tbest: 22.0531613 (272)\ttotal: 1.08s\tremaining: 631ms\n",
      "632:\tlearn: 13.1569918\ttest: 22.3427428\tbest: 22.0531613 (272)\ttotal: 1.08s\tremaining: 629ms\n",
      "633:\tlearn: 13.1462291\ttest: 22.3425832\tbest: 22.0531613 (272)\ttotal: 1.09s\tremaining: 627ms\n",
      "634:\tlearn: 13.1352997\ttest: 22.3461100\tbest: 22.0531613 (272)\ttotal: 1.09s\tremaining: 626ms\n",
      "635:\tlearn: 13.1219760\ttest: 22.3484378\tbest: 22.0531613 (272)\ttotal: 1.09s\tremaining: 624ms\n",
      "636:\tlearn: 13.1197977\ttest: 22.3481670\tbest: 22.0531613 (272)\ttotal: 1.09s\tremaining: 622ms\n",
      "637:\tlearn: 13.1114267\ttest: 22.3498692\tbest: 22.0531613 (272)\ttotal: 1.09s\tremaining: 620ms\n",
      "638:\tlearn: 13.0969418\ttest: 22.3457096\tbest: 22.0531613 (272)\ttotal: 1.09s\tremaining: 619ms\n",
      "639:\tlearn: 13.0911593\ttest: 22.3501787\tbest: 22.0531613 (272)\ttotal: 1.1s\tremaining: 617ms\n",
      "640:\tlearn: 13.0840044\ttest: 22.3467276\tbest: 22.0531613 (272)\ttotal: 1.1s\tremaining: 615ms\n",
      "641:\tlearn: 13.0660619\ttest: 22.3537851\tbest: 22.0531613 (272)\ttotal: 1.1s\tremaining: 614ms\n",
      "642:\tlearn: 13.0604430\ttest: 22.3483853\tbest: 22.0531613 (272)\ttotal: 1.1s\tremaining: 612ms\n",
      "643:\tlearn: 13.0392123\ttest: 22.3566046\tbest: 22.0531613 (272)\ttotal: 1.1s\tremaining: 610ms\n",
      "644:\tlearn: 13.0383607\ttest: 22.3541196\tbest: 22.0531613 (272)\ttotal: 1.1s\tremaining: 609ms\n",
      "645:\tlearn: 13.0309365\ttest: 22.3487937\tbest: 22.0531613 (272)\ttotal: 1.11s\tremaining: 607ms\n",
      "646:\tlearn: 13.0210701\ttest: 22.3514252\tbest: 22.0531613 (272)\ttotal: 1.11s\tremaining: 605ms\n",
      "647:\tlearn: 13.0165537\ttest: 22.3543857\tbest: 22.0531613 (272)\ttotal: 1.11s\tremaining: 603ms\n",
      "648:\tlearn: 13.0095964\ttest: 22.3585154\tbest: 22.0531613 (272)\ttotal: 1.11s\tremaining: 602ms\n",
      "649:\tlearn: 13.0051423\ttest: 22.3580522\tbest: 22.0531613 (272)\ttotal: 1.11s\tremaining: 600ms\n",
      "650:\tlearn: 13.0001291\ttest: 22.3560203\tbest: 22.0531613 (272)\ttotal: 1.12s\tremaining: 598ms\n",
      "651:\tlearn: 12.9904807\ttest: 22.3570269\tbest: 22.0531613 (272)\ttotal: 1.12s\tremaining: 597ms\n",
      "652:\tlearn: 12.9758042\ttest: 22.3673040\tbest: 22.0531613 (272)\ttotal: 1.12s\tremaining: 595ms\n",
      "653:\tlearn: 12.9669427\ttest: 22.3693143\tbest: 22.0531613 (272)\ttotal: 1.12s\tremaining: 593ms\n",
      "654:\tlearn: 12.9583368\ttest: 22.3745713\tbest: 22.0531613 (272)\ttotal: 1.12s\tremaining: 592ms\n",
      "655:\tlearn: 12.9519916\ttest: 22.3756936\tbest: 22.0531613 (272)\ttotal: 1.12s\tremaining: 590ms\n",
      "656:\tlearn: 12.9423406\ttest: 22.3769039\tbest: 22.0531613 (272)\ttotal: 1.13s\tremaining: 588ms\n",
      "657:\tlearn: 12.9329297\ttest: 22.3812957\tbest: 22.0531613 (272)\ttotal: 1.13s\tremaining: 586ms\n",
      "658:\tlearn: 12.9246237\ttest: 22.3757864\tbest: 22.0531613 (272)\ttotal: 1.13s\tremaining: 585ms\n",
      "659:\tlearn: 12.9163774\ttest: 22.3774573\tbest: 22.0531613 (272)\ttotal: 1.13s\tremaining: 583ms\n",
      "660:\tlearn: 12.9070937\ttest: 22.3687682\tbest: 22.0531613 (272)\ttotal: 1.13s\tremaining: 581ms\n",
      "661:\tlearn: 12.8976404\ttest: 22.3623168\tbest: 22.0531613 (272)\ttotal: 1.14s\tremaining: 580ms\n",
      "662:\tlearn: 12.8906211\ttest: 22.3624946\tbest: 22.0531613 (272)\ttotal: 1.14s\tremaining: 579ms\n",
      "663:\tlearn: 12.8842006\ttest: 22.3666117\tbest: 22.0531613 (272)\ttotal: 1.14s\tremaining: 578ms\n",
      "664:\tlearn: 12.8679201\ttest: 22.3735541\tbest: 22.0531613 (272)\ttotal: 1.14s\tremaining: 576ms\n",
      "665:\tlearn: 12.8589812\ttest: 22.3720045\tbest: 22.0531613 (272)\ttotal: 1.14s\tremaining: 574ms\n",
      "666:\tlearn: 12.8550505\ttest: 22.3717485\tbest: 22.0531613 (272)\ttotal: 1.15s\tremaining: 572ms\n",
      "667:\tlearn: 12.8471786\ttest: 22.3630234\tbest: 22.0531613 (272)\ttotal: 1.15s\tremaining: 571ms\n",
      "668:\tlearn: 12.8410982\ttest: 22.3668025\tbest: 22.0531613 (272)\ttotal: 1.15s\tremaining: 569ms\n",
      "669:\tlearn: 12.8401526\ttest: 22.3649031\tbest: 22.0531613 (272)\ttotal: 1.15s\tremaining: 567ms\n",
      "670:\tlearn: 12.8353436\ttest: 22.3657752\tbest: 22.0531613 (272)\ttotal: 1.15s\tremaining: 565ms\n",
      "671:\tlearn: 12.8213707\ttest: 22.3632556\tbest: 22.0531613 (272)\ttotal: 1.15s\tremaining: 564ms\n",
      "672:\tlearn: 12.8105209\ttest: 22.3556732\tbest: 22.0531613 (272)\ttotal: 1.16s\tremaining: 562ms\n",
      "673:\tlearn: 12.8042718\ttest: 22.3599751\tbest: 22.0531613 (272)\ttotal: 1.16s\tremaining: 560ms\n",
      "674:\tlearn: 12.7956088\ttest: 22.3616983\tbest: 22.0531613 (272)\ttotal: 1.16s\tremaining: 559ms\n",
      "675:\tlearn: 12.7921366\ttest: 22.3651199\tbest: 22.0531613 (272)\ttotal: 1.16s\tremaining: 557ms\n",
      "676:\tlearn: 12.7918682\ttest: 22.3647189\tbest: 22.0531613 (272)\ttotal: 1.16s\tremaining: 555ms\n",
      "677:\tlearn: 12.7811169\ttest: 22.3623755\tbest: 22.0531613 (272)\ttotal: 1.17s\tremaining: 553ms\n",
      "678:\tlearn: 12.7760034\ttest: 22.3582824\tbest: 22.0531613 (272)\ttotal: 1.17s\tremaining: 552ms\n",
      "679:\tlearn: 12.7636683\ttest: 22.3567746\tbest: 22.0531613 (272)\ttotal: 1.17s\tremaining: 550ms\n",
      "680:\tlearn: 12.7578828\ttest: 22.3643186\tbest: 22.0531613 (272)\ttotal: 1.17s\tremaining: 548ms\n",
      "681:\tlearn: 12.7473510\ttest: 22.3649147\tbest: 22.0531613 (272)\ttotal: 1.17s\tremaining: 546ms\n",
      "682:\tlearn: 12.7391579\ttest: 22.3639761\tbest: 22.0531613 (272)\ttotal: 1.17s\tremaining: 545ms\n",
      "683:\tlearn: 12.7379379\ttest: 22.3629961\tbest: 22.0531613 (272)\ttotal: 1.17s\tremaining: 543ms\n",
      "684:\tlearn: 12.7306753\ttest: 22.3656299\tbest: 22.0531613 (272)\ttotal: 1.18s\tremaining: 541ms\n",
      "685:\tlearn: 12.7294872\ttest: 22.3658050\tbest: 22.0531613 (272)\ttotal: 1.18s\tremaining: 539ms\n",
      "686:\tlearn: 12.7209419\ttest: 22.3697299\tbest: 22.0531613 (272)\ttotal: 1.18s\tremaining: 537ms\n",
      "687:\tlearn: 12.7142162\ttest: 22.3754167\tbest: 22.0531613 (272)\ttotal: 1.18s\tremaining: 536ms\n",
      "688:\tlearn: 12.7098711\ttest: 22.3762860\tbest: 22.0531613 (272)\ttotal: 1.18s\tremaining: 534ms\n",
      "689:\tlearn: 12.7000868\ttest: 22.3739701\tbest: 22.0531613 (272)\ttotal: 1.18s\tremaining: 532ms\n",
      "690:\tlearn: 12.6900367\ttest: 22.3704312\tbest: 22.0531613 (272)\ttotal: 1.19s\tremaining: 530ms\n",
      "691:\tlearn: 12.6877149\ttest: 22.3690969\tbest: 22.0531613 (272)\ttotal: 1.19s\tremaining: 529ms\n",
      "692:\tlearn: 12.6850404\ttest: 22.3725672\tbest: 22.0531613 (272)\ttotal: 1.19s\tremaining: 527ms\n",
      "693:\tlearn: 12.6777248\ttest: 22.3719784\tbest: 22.0531613 (272)\ttotal: 1.19s\tremaining: 525ms\n",
      "694:\tlearn: 12.6750819\ttest: 22.3724695\tbest: 22.0531613 (272)\ttotal: 1.19s\tremaining: 524ms\n",
      "695:\tlearn: 12.6720565\ttest: 22.3720200\tbest: 22.0531613 (272)\ttotal: 1.19s\tremaining: 522ms\n",
      "696:\tlearn: 12.6628054\ttest: 22.3749606\tbest: 22.0531613 (272)\ttotal: 1.2s\tremaining: 520ms\n",
      "697:\tlearn: 12.6539091\ttest: 22.3729096\tbest: 22.0531613 (272)\ttotal: 1.2s\tremaining: 518ms\n",
      "698:\tlearn: 12.6504881\ttest: 22.3706272\tbest: 22.0531613 (272)\ttotal: 1.2s\tremaining: 517ms\n",
      "699:\tlearn: 12.6423797\ttest: 22.3767268\tbest: 22.0531613 (272)\ttotal: 1.2s\tremaining: 515ms\n",
      "700:\tlearn: 12.6300223\ttest: 22.3682149\tbest: 22.0531613 (272)\ttotal: 1.2s\tremaining: 513ms\n",
      "701:\tlearn: 12.6195679\ttest: 22.3714167\tbest: 22.0531613 (272)\ttotal: 1.2s\tremaining: 512ms\n",
      "702:\tlearn: 12.6093261\ttest: 22.3744634\tbest: 22.0531613 (272)\ttotal: 1.21s\tremaining: 510ms\n",
      "703:\tlearn: 12.6047832\ttest: 22.3752270\tbest: 22.0531613 (272)\ttotal: 1.21s\tremaining: 508ms\n",
      "704:\tlearn: 12.5982483\ttest: 22.3723176\tbest: 22.0531613 (272)\ttotal: 1.21s\tremaining: 507ms\n",
      "705:\tlearn: 12.5932000\ttest: 22.3736202\tbest: 22.0531613 (272)\ttotal: 1.21s\tremaining: 505ms\n",
      "706:\tlearn: 12.5872923\ttest: 22.3735413\tbest: 22.0531613 (272)\ttotal: 1.21s\tremaining: 503ms\n",
      "707:\tlearn: 12.5796186\ttest: 22.3728746\tbest: 22.0531613 (272)\ttotal: 1.22s\tremaining: 501ms\n",
      "708:\tlearn: 12.5686990\ttest: 22.3768070\tbest: 22.0531613 (272)\ttotal: 1.22s\tremaining: 499ms\n",
      "709:\tlearn: 12.5621508\ttest: 22.3780325\tbest: 22.0531613 (272)\ttotal: 1.22s\tremaining: 498ms\n",
      "710:\tlearn: 12.5593504\ttest: 22.3797213\tbest: 22.0531613 (272)\ttotal: 1.22s\tremaining: 496ms\n",
      "711:\tlearn: 12.5504383\ttest: 22.3814678\tbest: 22.0531613 (272)\ttotal: 1.22s\tremaining: 494ms\n",
      "712:\tlearn: 12.5453502\ttest: 22.3809440\tbest: 22.0531613 (272)\ttotal: 1.22s\tremaining: 493ms\n",
      "713:\tlearn: 12.5345912\ttest: 22.3840802\tbest: 22.0531613 (272)\ttotal: 1.23s\tremaining: 491ms\n",
      "714:\tlearn: 12.5233127\ttest: 22.3807011\tbest: 22.0531613 (272)\ttotal: 1.23s\tremaining: 489ms\n",
      "715:\tlearn: 12.5157161\ttest: 22.3752471\tbest: 22.0531613 (272)\ttotal: 1.23s\tremaining: 488ms\n",
      "716:\tlearn: 12.5056713\ttest: 22.3760374\tbest: 22.0531613 (272)\ttotal: 1.23s\tremaining: 486ms\n",
      "717:\tlearn: 12.4901080\ttest: 22.3742705\tbest: 22.0531613 (272)\ttotal: 1.23s\tremaining: 484ms\n",
      "718:\tlearn: 12.4791715\ttest: 22.3803993\tbest: 22.0531613 (272)\ttotal: 1.23s\tremaining: 483ms\n",
      "719:\tlearn: 12.4765344\ttest: 22.3810738\tbest: 22.0531613 (272)\ttotal: 1.24s\tremaining: 481ms\n",
      "720:\tlearn: 12.4701857\ttest: 22.3807527\tbest: 22.0531613 (272)\ttotal: 1.24s\tremaining: 479ms\n",
      "721:\tlearn: 12.4538013\ttest: 22.3789371\tbest: 22.0531613 (272)\ttotal: 1.24s\tremaining: 477ms\n",
      "722:\tlearn: 12.4492140\ttest: 22.3798174\tbest: 22.0531613 (272)\ttotal: 1.24s\tremaining: 476ms\n",
      "723:\tlearn: 12.4434780\ttest: 22.3813758\tbest: 22.0531613 (272)\ttotal: 1.24s\tremaining: 474ms\n",
      "724:\tlearn: 12.4330875\ttest: 22.3796854\tbest: 22.0531613 (272)\ttotal: 1.25s\tremaining: 472ms\n",
      "725:\tlearn: 12.4282005\ttest: 22.3783036\tbest: 22.0531613 (272)\ttotal: 1.25s\tremaining: 470ms\n",
      "726:\tlearn: 12.4225223\ttest: 22.3805408\tbest: 22.0531613 (272)\ttotal: 1.25s\tremaining: 469ms\n",
      "727:\tlearn: 12.4150280\ttest: 22.3869357\tbest: 22.0531613 (272)\ttotal: 1.25s\tremaining: 467ms\n",
      "728:\tlearn: 12.4080024\ttest: 22.3886771\tbest: 22.0531613 (272)\ttotal: 1.25s\tremaining: 465ms\n",
      "729:\tlearn: 12.3986099\ttest: 22.3924278\tbest: 22.0531613 (272)\ttotal: 1.25s\tremaining: 464ms\n",
      "730:\tlearn: 12.3872488\ttest: 22.3939217\tbest: 22.0531613 (272)\ttotal: 1.25s\tremaining: 462ms\n",
      "731:\tlearn: 12.3870485\ttest: 22.3936549\tbest: 22.0531613 (272)\ttotal: 1.26s\tremaining: 460ms\n",
      "732:\tlearn: 12.3825105\ttest: 22.3962589\tbest: 22.0531613 (272)\ttotal: 1.26s\tremaining: 459ms\n",
      "733:\tlearn: 12.3643126\ttest: 22.3998604\tbest: 22.0531613 (272)\ttotal: 1.26s\tremaining: 457ms\n",
      "734:\tlearn: 12.3548022\ttest: 22.4048771\tbest: 22.0531613 (272)\ttotal: 1.26s\tremaining: 455ms\n",
      "735:\tlearn: 12.3432895\ttest: 22.4024230\tbest: 22.0531613 (272)\ttotal: 1.26s\tremaining: 454ms\n",
      "736:\tlearn: 12.3390419\ttest: 22.4034794\tbest: 22.0531613 (272)\ttotal: 1.27s\tremaining: 452ms\n",
      "737:\tlearn: 12.3317982\ttest: 22.4059345\tbest: 22.0531613 (272)\ttotal: 1.27s\tremaining: 450ms\n",
      "738:\tlearn: 12.3280391\ttest: 22.4058592\tbest: 22.0531613 (272)\ttotal: 1.27s\tremaining: 448ms\n",
      "739:\tlearn: 12.3196304\ttest: 22.4045410\tbest: 22.0531613 (272)\ttotal: 1.27s\tremaining: 447ms\n",
      "740:\tlearn: 12.3107625\ttest: 22.4105117\tbest: 22.0531613 (272)\ttotal: 1.27s\tremaining: 445ms\n",
      "741:\tlearn: 12.2987595\ttest: 22.4064019\tbest: 22.0531613 (272)\ttotal: 1.27s\tremaining: 443ms\n",
      "742:\tlearn: 12.2936730\ttest: 22.4059419\tbest: 22.0531613 (272)\ttotal: 1.28s\tremaining: 442ms\n",
      "743:\tlearn: 12.2836719\ttest: 22.4028046\tbest: 22.0531613 (272)\ttotal: 1.28s\tremaining: 440ms\n",
      "744:\tlearn: 12.2764792\ttest: 22.4013932\tbest: 22.0531613 (272)\ttotal: 1.28s\tremaining: 438ms\n",
      "745:\tlearn: 12.2686440\ttest: 22.4019378\tbest: 22.0531613 (272)\ttotal: 1.28s\tremaining: 437ms\n",
      "746:\tlearn: 12.2628499\ttest: 22.4038563\tbest: 22.0531613 (272)\ttotal: 1.28s\tremaining: 435ms\n",
      "747:\tlearn: 12.2563229\ttest: 22.4074113\tbest: 22.0531613 (272)\ttotal: 1.29s\tremaining: 433ms\n",
      "748:\tlearn: 12.2480897\ttest: 22.4080155\tbest: 22.0531613 (272)\ttotal: 1.29s\tremaining: 432ms\n",
      "749:\tlearn: 12.2393541\ttest: 22.4106797\tbest: 22.0531613 (272)\ttotal: 1.29s\tremaining: 430ms\n",
      "750:\tlearn: 12.2346352\ttest: 22.4143119\tbest: 22.0531613 (272)\ttotal: 1.29s\tremaining: 428ms\n",
      "751:\tlearn: 12.2310008\ttest: 22.4142847\tbest: 22.0531613 (272)\ttotal: 1.29s\tremaining: 426ms\n",
      "752:\tlearn: 12.2153378\ttest: 22.4099660\tbest: 22.0531613 (272)\ttotal: 1.29s\tremaining: 425ms\n",
      "753:\tlearn: 12.2065034\ttest: 22.4069867\tbest: 22.0531613 (272)\ttotal: 1.3s\tremaining: 423ms\n",
      "754:\tlearn: 12.2033717\ttest: 22.4073877\tbest: 22.0531613 (272)\ttotal: 1.3s\tremaining: 422ms\n",
      "755:\tlearn: 12.1960222\ttest: 22.4080757\tbest: 22.0531613 (272)\ttotal: 1.3s\tremaining: 420ms\n",
      "756:\tlearn: 12.1901765\ttest: 22.4087749\tbest: 22.0531613 (272)\ttotal: 1.3s\tremaining: 418ms\n",
      "757:\tlearn: 12.1809477\ttest: 22.4166768\tbest: 22.0531613 (272)\ttotal: 1.3s\tremaining: 416ms\n",
      "758:\tlearn: 12.1739125\ttest: 22.4163504\tbest: 22.0531613 (272)\ttotal: 1.31s\tremaining: 415ms\n",
      "759:\tlearn: 12.1675104\ttest: 22.4137324\tbest: 22.0531613 (272)\ttotal: 1.31s\tremaining: 413ms\n",
      "760:\tlearn: 12.1643434\ttest: 22.4086504\tbest: 22.0531613 (272)\ttotal: 1.31s\tremaining: 411ms\n",
      "761:\tlearn: 12.1581702\ttest: 22.4055642\tbest: 22.0531613 (272)\ttotal: 1.31s\tremaining: 410ms\n",
      "762:\tlearn: 12.1515567\ttest: 22.4084089\tbest: 22.0531613 (272)\ttotal: 1.31s\tremaining: 408ms\n",
      "763:\tlearn: 12.1467841\ttest: 22.4044734\tbest: 22.0531613 (272)\ttotal: 1.31s\tremaining: 406ms\n",
      "764:\tlearn: 12.1257471\ttest: 22.4033110\tbest: 22.0531613 (272)\ttotal: 1.32s\tremaining: 405ms\n",
      "765:\tlearn: 12.1233678\ttest: 22.4059098\tbest: 22.0531613 (272)\ttotal: 1.32s\tremaining: 403ms\n",
      "766:\tlearn: 12.1207700\ttest: 22.4049570\tbest: 22.0531613 (272)\ttotal: 1.32s\tremaining: 401ms\n",
      "767:\tlearn: 12.1132016\ttest: 22.4075539\tbest: 22.0531613 (272)\ttotal: 1.32s\tremaining: 399ms\n",
      "768:\tlearn: 12.1068796\ttest: 22.4099829\tbest: 22.0531613 (272)\ttotal: 1.32s\tremaining: 398ms\n",
      "769:\tlearn: 12.0979897\ttest: 22.4032788\tbest: 22.0531613 (272)\ttotal: 1.32s\tremaining: 396ms\n",
      "770:\tlearn: 12.0932113\ttest: 22.4042516\tbest: 22.0531613 (272)\ttotal: 1.33s\tremaining: 394ms\n",
      "771:\tlearn: 12.0910466\ttest: 22.4053561\tbest: 22.0531613 (272)\ttotal: 1.33s\tremaining: 392ms\n",
      "772:\tlearn: 12.0836326\ttest: 22.4052994\tbest: 22.0531613 (272)\ttotal: 1.33s\tremaining: 391ms\n",
      "773:\tlearn: 12.0780717\ttest: 22.4091034\tbest: 22.0531613 (272)\ttotal: 1.33s\tremaining: 389ms\n",
      "774:\tlearn: 12.0728160\ttest: 22.4071657\tbest: 22.0531613 (272)\ttotal: 1.33s\tremaining: 387ms\n",
      "775:\tlearn: 12.0670684\ttest: 22.4074528\tbest: 22.0531613 (272)\ttotal: 1.33s\tremaining: 385ms\n",
      "776:\tlearn: 12.0612277\ttest: 22.4068195\tbest: 22.0531613 (272)\ttotal: 1.34s\tremaining: 384ms\n",
      "777:\tlearn: 12.0562400\ttest: 22.4142430\tbest: 22.0531613 (272)\ttotal: 1.34s\tremaining: 382ms\n",
      "778:\tlearn: 12.0524586\ttest: 22.4135202\tbest: 22.0531613 (272)\ttotal: 1.34s\tremaining: 380ms\n",
      "779:\tlearn: 12.0427674\ttest: 22.4122474\tbest: 22.0531613 (272)\ttotal: 1.34s\tremaining: 378ms\n",
      "780:\tlearn: 12.0362710\ttest: 22.4111625\tbest: 22.0531613 (272)\ttotal: 1.34s\tremaining: 377ms\n",
      "781:\tlearn: 12.0266413\ttest: 22.4126543\tbest: 22.0531613 (272)\ttotal: 1.34s\tremaining: 375ms\n",
      "782:\tlearn: 12.0212922\ttest: 22.4151812\tbest: 22.0531613 (272)\ttotal: 1.35s\tremaining: 373ms\n",
      "783:\tlearn: 12.0102584\ttest: 22.4192058\tbest: 22.0531613 (272)\ttotal: 1.35s\tremaining: 371ms\n",
      "784:\tlearn: 12.0033465\ttest: 22.4234183\tbest: 22.0531613 (272)\ttotal: 1.35s\tremaining: 370ms\n",
      "785:\tlearn: 11.9963923\ttest: 22.4255467\tbest: 22.0531613 (272)\ttotal: 1.35s\tremaining: 368ms\n",
      "786:\tlearn: 11.9925714\ttest: 22.4281838\tbest: 22.0531613 (272)\ttotal: 1.35s\tremaining: 366ms\n",
      "787:\tlearn: 11.9868125\ttest: 22.4257214\tbest: 22.0531613 (272)\ttotal: 1.35s\tremaining: 364ms\n",
      "788:\tlearn: 11.9812531\ttest: 22.4288357\tbest: 22.0531613 (272)\ttotal: 1.36s\tremaining: 363ms\n",
      "789:\tlearn: 11.9735423\ttest: 22.4287211\tbest: 22.0531613 (272)\ttotal: 1.36s\tremaining: 361ms\n",
      "790:\tlearn: 11.9561376\ttest: 22.4344457\tbest: 22.0531613 (272)\ttotal: 1.36s\tremaining: 359ms\n",
      "791:\tlearn: 11.9499113\ttest: 22.4336883\tbest: 22.0531613 (272)\ttotal: 1.36s\tremaining: 358ms\n",
      "792:\tlearn: 11.9436444\ttest: 22.4321998\tbest: 22.0531613 (272)\ttotal: 1.36s\tremaining: 356ms\n",
      "793:\tlearn: 11.9334111\ttest: 22.4285700\tbest: 22.0531613 (272)\ttotal: 1.36s\tremaining: 354ms\n",
      "794:\tlearn: 11.9245516\ttest: 22.4233604\tbest: 22.0531613 (272)\ttotal: 1.37s\tremaining: 353ms\n",
      "795:\tlearn: 11.9107447\ttest: 22.4186440\tbest: 22.0531613 (272)\ttotal: 1.37s\tremaining: 351ms\n",
      "796:\tlearn: 11.9031037\ttest: 22.4204518\tbest: 22.0531613 (272)\ttotal: 1.37s\tremaining: 349ms\n",
      "797:\tlearn: 11.8964766\ttest: 22.4205706\tbest: 22.0531613 (272)\ttotal: 1.37s\tremaining: 347ms\n",
      "798:\tlearn: 11.8871170\ttest: 22.4163842\tbest: 22.0531613 (272)\ttotal: 1.37s\tremaining: 346ms\n",
      "799:\tlearn: 11.8803075\ttest: 22.4150133\tbest: 22.0531613 (272)\ttotal: 1.38s\tremaining: 344ms\n",
      "800:\tlearn: 11.8704766\ttest: 22.4165715\tbest: 22.0531613 (272)\ttotal: 1.38s\tremaining: 342ms\n",
      "801:\tlearn: 11.8683538\ttest: 22.4166974\tbest: 22.0531613 (272)\ttotal: 1.38s\tremaining: 341ms\n",
      "802:\tlearn: 11.8626446\ttest: 22.4190272\tbest: 22.0531613 (272)\ttotal: 1.38s\tremaining: 339ms\n",
      "803:\tlearn: 11.8575649\ttest: 22.4181974\tbest: 22.0531613 (272)\ttotal: 1.38s\tremaining: 337ms\n",
      "804:\tlearn: 11.8510715\ttest: 22.4189795\tbest: 22.0531613 (272)\ttotal: 1.38s\tremaining: 335ms\n",
      "805:\tlearn: 11.8508941\ttest: 22.4187883\tbest: 22.0531613 (272)\ttotal: 1.39s\tremaining: 334ms\n",
      "806:\tlearn: 11.8502260\ttest: 22.4186555\tbest: 22.0531613 (272)\ttotal: 1.39s\tremaining: 332ms\n",
      "807:\tlearn: 11.8385509\ttest: 22.4088453\tbest: 22.0531613 (272)\ttotal: 1.39s\tremaining: 330ms\n",
      "808:\tlearn: 11.8286988\ttest: 22.4097993\tbest: 22.0531613 (272)\ttotal: 1.39s\tremaining: 329ms\n",
      "809:\tlearn: 11.8254979\ttest: 22.4131319\tbest: 22.0531613 (272)\ttotal: 1.39s\tremaining: 327ms\n",
      "810:\tlearn: 11.8216501\ttest: 22.4126026\tbest: 22.0531613 (272)\ttotal: 1.4s\tremaining: 325ms\n",
      "811:\tlearn: 11.8060356\ttest: 22.4175650\tbest: 22.0531613 (272)\ttotal: 1.4s\tremaining: 324ms\n",
      "812:\tlearn: 11.7925952\ttest: 22.4234913\tbest: 22.0531613 (272)\ttotal: 1.4s\tremaining: 322ms\n",
      "813:\tlearn: 11.7892515\ttest: 22.4242861\tbest: 22.0531613 (272)\ttotal: 1.4s\tremaining: 320ms\n",
      "814:\tlearn: 11.7884414\ttest: 22.4245660\tbest: 22.0531613 (272)\ttotal: 1.4s\tremaining: 318ms\n",
      "815:\tlearn: 11.7810907\ttest: 22.4209584\tbest: 22.0531613 (272)\ttotal: 1.4s\tremaining: 317ms\n",
      "816:\tlearn: 11.7731724\ttest: 22.4230580\tbest: 22.0531613 (272)\ttotal: 1.41s\tremaining: 315ms\n",
      "817:\tlearn: 11.7663194\ttest: 22.4207454\tbest: 22.0531613 (272)\ttotal: 1.41s\tremaining: 313ms\n",
      "818:\tlearn: 11.7589214\ttest: 22.4211329\tbest: 22.0531613 (272)\ttotal: 1.41s\tremaining: 312ms\n",
      "819:\tlearn: 11.7541642\ttest: 22.4236666\tbest: 22.0531613 (272)\ttotal: 1.41s\tremaining: 310ms\n",
      "820:\tlearn: 11.7526712\ttest: 22.4234019\tbest: 22.0531613 (272)\ttotal: 1.41s\tremaining: 308ms\n",
      "821:\tlearn: 11.7505237\ttest: 22.4245842\tbest: 22.0531613 (272)\ttotal: 1.41s\tremaining: 306ms\n",
      "822:\tlearn: 11.7471874\ttest: 22.4256600\tbest: 22.0531613 (272)\ttotal: 1.42s\tremaining: 305ms\n",
      "823:\tlearn: 11.7393425\ttest: 22.4291214\tbest: 22.0531613 (272)\ttotal: 1.42s\tremaining: 303ms\n",
      "824:\tlearn: 11.7262991\ttest: 22.4365927\tbest: 22.0531613 (272)\ttotal: 1.42s\tremaining: 301ms\n",
      "825:\tlearn: 11.7176755\ttest: 22.4363367\tbest: 22.0531613 (272)\ttotal: 1.42s\tremaining: 300ms\n",
      "826:\tlearn: 11.7087229\ttest: 22.4349156\tbest: 22.0531613 (272)\ttotal: 1.42s\tremaining: 298ms\n",
      "827:\tlearn: 11.7068798\ttest: 22.4347741\tbest: 22.0531613 (272)\ttotal: 1.43s\tremaining: 296ms\n",
      "828:\tlearn: 11.6973809\ttest: 22.4320978\tbest: 22.0531613 (272)\ttotal: 1.43s\tremaining: 294ms\n",
      "829:\tlearn: 11.6812313\ttest: 22.4312735\tbest: 22.0531613 (272)\ttotal: 1.43s\tremaining: 293ms\n",
      "830:\tlearn: 11.6777872\ttest: 22.4333604\tbest: 22.0531613 (272)\ttotal: 1.43s\tremaining: 291ms\n",
      "831:\tlearn: 11.6641762\ttest: 22.4420823\tbest: 22.0531613 (272)\ttotal: 1.43s\tremaining: 289ms\n",
      "832:\tlearn: 11.6498810\ttest: 22.4463416\tbest: 22.0531613 (272)\ttotal: 1.43s\tremaining: 288ms\n",
      "833:\tlearn: 11.6405731\ttest: 22.4518113\tbest: 22.0531613 (272)\ttotal: 1.44s\tremaining: 286ms\n",
      "834:\tlearn: 11.6393651\ttest: 22.4561623\tbest: 22.0531613 (272)\ttotal: 1.44s\tremaining: 284ms\n",
      "835:\tlearn: 11.6309561\ttest: 22.4605413\tbest: 22.0531613 (272)\ttotal: 1.44s\tremaining: 282ms\n",
      "836:\tlearn: 11.6245081\ttest: 22.4671763\tbest: 22.0531613 (272)\ttotal: 1.44s\tremaining: 281ms\n",
      "837:\tlearn: 11.6148783\ttest: 22.4664376\tbest: 22.0531613 (272)\ttotal: 1.44s\tremaining: 279ms\n",
      "838:\tlearn: 11.6121405\ttest: 22.4704487\tbest: 22.0531613 (272)\ttotal: 1.44s\tremaining: 277ms\n",
      "839:\tlearn: 11.6036926\ttest: 22.4712303\tbest: 22.0531613 (272)\ttotal: 1.45s\tremaining: 276ms\n",
      "840:\tlearn: 11.5945533\ttest: 22.4730077\tbest: 22.0531613 (272)\ttotal: 1.45s\tremaining: 274ms\n",
      "841:\tlearn: 11.5925403\ttest: 22.4738736\tbest: 22.0531613 (272)\ttotal: 1.45s\tremaining: 272ms\n",
      "842:\tlearn: 11.5797482\ttest: 22.4696217\tbest: 22.0531613 (272)\ttotal: 1.45s\tremaining: 270ms\n",
      "843:\tlearn: 11.5694265\ttest: 22.4730076\tbest: 22.0531613 (272)\ttotal: 1.45s\tremaining: 269ms\n",
      "844:\tlearn: 11.5616442\ttest: 22.4817415\tbest: 22.0531613 (272)\ttotal: 1.46s\tremaining: 267ms\n",
      "845:\tlearn: 11.5567865\ttest: 22.4808334\tbest: 22.0531613 (272)\ttotal: 1.46s\tremaining: 265ms\n",
      "846:\tlearn: 11.5481237\ttest: 22.4816685\tbest: 22.0531613 (272)\ttotal: 1.46s\tremaining: 264ms\n",
      "847:\tlearn: 11.5375908\ttest: 22.4842671\tbest: 22.0531613 (272)\ttotal: 1.46s\tremaining: 262ms\n",
      "848:\tlearn: 11.5338284\ttest: 22.4852060\tbest: 22.0531613 (272)\ttotal: 1.46s\tremaining: 260ms\n",
      "849:\tlearn: 11.5280411\ttest: 22.4862299\tbest: 22.0531613 (272)\ttotal: 1.46s\tremaining: 258ms\n",
      "850:\tlearn: 11.5237747\ttest: 22.4910745\tbest: 22.0531613 (272)\ttotal: 1.47s\tremaining: 257ms\n",
      "851:\tlearn: 11.5153409\ttest: 22.4890232\tbest: 22.0531613 (272)\ttotal: 1.47s\tremaining: 255ms\n",
      "852:\tlearn: 11.5055199\ttest: 22.4914830\tbest: 22.0531613 (272)\ttotal: 1.47s\tremaining: 253ms\n",
      "853:\tlearn: 11.4973063\ttest: 22.4922171\tbest: 22.0531613 (272)\ttotal: 1.47s\tremaining: 252ms\n",
      "854:\tlearn: 11.4892263\ttest: 22.4929353\tbest: 22.0531613 (272)\ttotal: 1.47s\tremaining: 250ms\n",
      "855:\tlearn: 11.4856137\ttest: 22.4929025\tbest: 22.0531613 (272)\ttotal: 1.48s\tremaining: 248ms\n",
      "856:\tlearn: 11.4842293\ttest: 22.4962748\tbest: 22.0531613 (272)\ttotal: 1.48s\tremaining: 246ms\n",
      "857:\tlearn: 11.4781528\ttest: 22.4948077\tbest: 22.0531613 (272)\ttotal: 1.48s\tremaining: 245ms\n",
      "858:\tlearn: 11.4770843\ttest: 22.4989446\tbest: 22.0531613 (272)\ttotal: 1.48s\tremaining: 243ms\n",
      "859:\tlearn: 11.4672959\ttest: 22.4966341\tbest: 22.0531613 (272)\ttotal: 1.48s\tremaining: 241ms\n",
      "860:\tlearn: 11.4663031\ttest: 22.5006809\tbest: 22.0531613 (272)\ttotal: 1.48s\tremaining: 240ms\n",
      "861:\tlearn: 11.4616521\ttest: 22.5025567\tbest: 22.0531613 (272)\ttotal: 1.49s\tremaining: 238ms\n",
      "862:\tlearn: 11.4507217\ttest: 22.4991270\tbest: 22.0531613 (272)\ttotal: 1.49s\tremaining: 236ms\n",
      "863:\tlearn: 11.4486259\ttest: 22.5017768\tbest: 22.0531613 (272)\ttotal: 1.49s\tremaining: 234ms\n",
      "864:\tlearn: 11.4389510\ttest: 22.5009926\tbest: 22.0531613 (272)\ttotal: 1.49s\tremaining: 233ms\n",
      "865:\tlearn: 11.4267810\ttest: 22.5052398\tbest: 22.0531613 (272)\ttotal: 1.49s\tremaining: 231ms\n",
      "866:\tlearn: 11.4260892\ttest: 22.5057586\tbest: 22.0531613 (272)\ttotal: 1.5s\tremaining: 229ms\n",
      "867:\tlearn: 11.4145925\ttest: 22.5061209\tbest: 22.0531613 (272)\ttotal: 1.5s\tremaining: 228ms\n",
      "868:\tlearn: 11.4044479\ttest: 22.5086737\tbest: 22.0531613 (272)\ttotal: 1.5s\tremaining: 226ms\n",
      "869:\tlearn: 11.4035071\ttest: 22.5082466\tbest: 22.0531613 (272)\ttotal: 1.5s\tremaining: 224ms\n",
      "870:\tlearn: 11.3925490\ttest: 22.5058006\tbest: 22.0531613 (272)\ttotal: 1.5s\tremaining: 222ms\n",
      "871:\tlearn: 11.3864981\ttest: 22.5071648\tbest: 22.0531613 (272)\ttotal: 1.5s\tremaining: 221ms\n",
      "872:\tlearn: 11.3793551\ttest: 22.5029253\tbest: 22.0531613 (272)\ttotal: 1.5s\tremaining: 219ms\n",
      "873:\tlearn: 11.3677949\ttest: 22.4996746\tbest: 22.0531613 (272)\ttotal: 1.51s\tremaining: 217ms\n",
      "874:\tlearn: 11.3634885\ttest: 22.4968120\tbest: 22.0531613 (272)\ttotal: 1.51s\tremaining: 216ms\n",
      "875:\tlearn: 11.3542556\ttest: 22.4994526\tbest: 22.0531613 (272)\ttotal: 1.51s\tremaining: 214ms\n",
      "876:\tlearn: 11.3457273\ttest: 22.4989419\tbest: 22.0531613 (272)\ttotal: 1.51s\tremaining: 212ms\n",
      "877:\tlearn: 11.3433376\ttest: 22.4983341\tbest: 22.0531613 (272)\ttotal: 1.51s\tremaining: 210ms\n",
      "878:\tlearn: 11.3387947\ttest: 22.4945533\tbest: 22.0531613 (272)\ttotal: 1.51s\tremaining: 209ms\n",
      "879:\tlearn: 11.3336760\ttest: 22.4914853\tbest: 22.0531613 (272)\ttotal: 1.52s\tremaining: 207ms\n",
      "880:\tlearn: 11.3289722\ttest: 22.4931297\tbest: 22.0531613 (272)\ttotal: 1.52s\tremaining: 205ms\n",
      "881:\tlearn: 11.3213602\ttest: 22.4937396\tbest: 22.0531613 (272)\ttotal: 1.52s\tremaining: 203ms\n",
      "882:\tlearn: 11.3121018\ttest: 22.4904800\tbest: 22.0531613 (272)\ttotal: 1.52s\tremaining: 202ms\n",
      "883:\tlearn: 11.3113430\ttest: 22.4910938\tbest: 22.0531613 (272)\ttotal: 1.52s\tremaining: 200ms\n",
      "884:\tlearn: 11.2985855\ttest: 22.4973180\tbest: 22.0531613 (272)\ttotal: 1.52s\tremaining: 198ms\n",
      "885:\tlearn: 11.2948358\ttest: 22.4931729\tbest: 22.0531613 (272)\ttotal: 1.53s\tremaining: 196ms\n",
      "886:\tlearn: 11.2893818\ttest: 22.4947503\tbest: 22.0531613 (272)\ttotal: 1.53s\tremaining: 195ms\n",
      "887:\tlearn: 11.2802314\ttest: 22.4913781\tbest: 22.0531613 (272)\ttotal: 1.53s\tremaining: 193ms\n",
      "888:\tlearn: 11.2801346\ttest: 22.4907415\tbest: 22.0531613 (272)\ttotal: 1.53s\tremaining: 191ms\n",
      "889:\tlearn: 11.2713145\ttest: 22.4937855\tbest: 22.0531613 (272)\ttotal: 1.53s\tremaining: 190ms\n",
      "890:\tlearn: 11.2689870\ttest: 22.4973885\tbest: 22.0531613 (272)\ttotal: 1.53s\tremaining: 188ms\n",
      "891:\tlearn: 11.2670586\ttest: 22.4962750\tbest: 22.0531613 (272)\ttotal: 1.54s\tremaining: 186ms\n",
      "892:\tlearn: 11.2567779\ttest: 22.5021755\tbest: 22.0531613 (272)\ttotal: 1.54s\tremaining: 184ms\n",
      "893:\tlearn: 11.2501922\ttest: 22.4995408\tbest: 22.0531613 (272)\ttotal: 1.54s\tremaining: 183ms\n",
      "894:\tlearn: 11.2440577\ttest: 22.4983009\tbest: 22.0531613 (272)\ttotal: 1.54s\tremaining: 181ms\n",
      "895:\tlearn: 11.2380714\ttest: 22.4976454\tbest: 22.0531613 (272)\ttotal: 1.54s\tremaining: 179ms\n",
      "896:\tlearn: 11.2347396\ttest: 22.4971709\tbest: 22.0531613 (272)\ttotal: 1.55s\tremaining: 178ms\n",
      "897:\tlearn: 11.2268446\ttest: 22.4944138\tbest: 22.0531613 (272)\ttotal: 1.55s\tremaining: 176ms\n",
      "898:\tlearn: 11.2197394\ttest: 22.4968207\tbest: 22.0531613 (272)\ttotal: 1.55s\tremaining: 174ms\n",
      "899:\tlearn: 11.2172199\ttest: 22.4972180\tbest: 22.0531613 (272)\ttotal: 1.55s\tremaining: 172ms\n",
      "900:\tlearn: 11.2135541\ttest: 22.4982362\tbest: 22.0531613 (272)\ttotal: 1.55s\tremaining: 171ms\n",
      "901:\tlearn: 11.2051924\ttest: 22.4969182\tbest: 22.0531613 (272)\ttotal: 1.56s\tremaining: 169ms\n",
      "902:\tlearn: 11.2031780\ttest: 22.4983525\tbest: 22.0531613 (272)\ttotal: 1.56s\tremaining: 167ms\n",
      "903:\tlearn: 11.1995991\ttest: 22.4990833\tbest: 22.0531613 (272)\ttotal: 1.56s\tremaining: 166ms\n",
      "904:\tlearn: 11.1959120\ttest: 22.4988397\tbest: 22.0531613 (272)\ttotal: 1.56s\tremaining: 164ms\n",
      "905:\tlearn: 11.1937834\ttest: 22.5022570\tbest: 22.0531613 (272)\ttotal: 1.56s\tremaining: 162ms\n",
      "906:\tlearn: 11.1860557\ttest: 22.5043274\tbest: 22.0531613 (272)\ttotal: 1.56s\tremaining: 160ms\n",
      "907:\tlearn: 11.1782065\ttest: 22.5060421\tbest: 22.0531613 (272)\ttotal: 1.57s\tremaining: 159ms\n",
      "908:\tlearn: 11.1719969\ttest: 22.5102988\tbest: 22.0531613 (272)\ttotal: 1.57s\tremaining: 157ms\n",
      "909:\tlearn: 11.1667348\ttest: 22.5070106\tbest: 22.0531613 (272)\ttotal: 1.57s\tremaining: 155ms\n",
      "910:\tlearn: 11.1566037\ttest: 22.5051641\tbest: 22.0531613 (272)\ttotal: 1.57s\tremaining: 154ms\n",
      "911:\tlearn: 11.1365619\ttest: 22.5010031\tbest: 22.0531613 (272)\ttotal: 1.57s\tremaining: 152ms\n",
      "912:\tlearn: 11.1325756\ttest: 22.5075022\tbest: 22.0531613 (272)\ttotal: 1.58s\tremaining: 150ms\n",
      "913:\tlearn: 11.1300975\ttest: 22.5076856\tbest: 22.0531613 (272)\ttotal: 1.58s\tremaining: 148ms\n",
      "914:\tlearn: 11.1233137\ttest: 22.5079498\tbest: 22.0531613 (272)\ttotal: 1.58s\tremaining: 147ms\n",
      "915:\tlearn: 11.1189807\ttest: 22.5063392\tbest: 22.0531613 (272)\ttotal: 1.58s\tremaining: 145ms\n",
      "916:\tlearn: 11.1138288\ttest: 22.5112899\tbest: 22.0531613 (272)\ttotal: 1.58s\tremaining: 143ms\n",
      "917:\tlearn: 11.1085917\ttest: 22.5085526\tbest: 22.0531613 (272)\ttotal: 1.58s\tremaining: 142ms\n",
      "918:\tlearn: 11.1023673\ttest: 22.5122145\tbest: 22.0531613 (272)\ttotal: 1.59s\tremaining: 140ms\n",
      "919:\tlearn: 11.0967819\ttest: 22.5105343\tbest: 22.0531613 (272)\ttotal: 1.59s\tremaining: 138ms\n",
      "920:\tlearn: 11.0966978\ttest: 22.5107334\tbest: 22.0531613 (272)\ttotal: 1.59s\tremaining: 136ms\n",
      "921:\tlearn: 11.0835114\ttest: 22.5081502\tbest: 22.0531613 (272)\ttotal: 1.59s\tremaining: 135ms\n",
      "922:\tlearn: 11.0727623\ttest: 22.5086946\tbest: 22.0531613 (272)\ttotal: 1.59s\tremaining: 133ms\n",
      "923:\tlearn: 11.0698553\ttest: 22.5101882\tbest: 22.0531613 (272)\ttotal: 1.59s\tremaining: 131ms\n",
      "924:\tlearn: 11.0645919\ttest: 22.5115963\tbest: 22.0531613 (272)\ttotal: 1.6s\tremaining: 129ms\n",
      "925:\tlearn: 11.0586565\ttest: 22.5100211\tbest: 22.0531613 (272)\ttotal: 1.6s\tremaining: 128ms\n",
      "926:\tlearn: 11.0564493\ttest: 22.5085817\tbest: 22.0531613 (272)\ttotal: 1.6s\tremaining: 126ms\n",
      "927:\tlearn: 11.0445260\ttest: 22.5127797\tbest: 22.0531613 (272)\ttotal: 1.6s\tremaining: 124ms\n",
      "928:\tlearn: 11.0421377\ttest: 22.5154492\tbest: 22.0531613 (272)\ttotal: 1.6s\tremaining: 123ms\n",
      "929:\tlearn: 11.0326516\ttest: 22.5189188\tbest: 22.0531613 (272)\ttotal: 1.6s\tremaining: 121ms\n",
      "930:\tlearn: 11.0249599\ttest: 22.5217465\tbest: 22.0531613 (272)\ttotal: 1.61s\tremaining: 119ms\n",
      "931:\tlearn: 11.0247381\ttest: 22.5219973\tbest: 22.0531613 (272)\ttotal: 1.61s\tremaining: 117ms\n",
      "932:\tlearn: 11.0076257\ttest: 22.5281276\tbest: 22.0531613 (272)\ttotal: 1.61s\tremaining: 116ms\n",
      "933:\tlearn: 10.9984004\ttest: 22.5287896\tbest: 22.0531613 (272)\ttotal: 1.61s\tremaining: 114ms\n",
      "934:\tlearn: 10.9908088\ttest: 22.5238577\tbest: 22.0531613 (272)\ttotal: 1.61s\tremaining: 112ms\n",
      "935:\tlearn: 10.9866791\ttest: 22.5224771\tbest: 22.0531613 (272)\ttotal: 1.62s\tremaining: 111ms\n",
      "936:\tlearn: 10.9789110\ttest: 22.5226821\tbest: 22.0531613 (272)\ttotal: 1.62s\tremaining: 109ms\n",
      "937:\tlearn: 10.9699423\ttest: 22.5228786\tbest: 22.0531613 (272)\ttotal: 1.62s\tremaining: 107ms\n",
      "938:\tlearn: 10.9631886\ttest: 22.5212764\tbest: 22.0531613 (272)\ttotal: 1.62s\tremaining: 105ms\n",
      "939:\tlearn: 10.9524291\ttest: 22.5255738\tbest: 22.0531613 (272)\ttotal: 1.62s\tremaining: 104ms\n",
      "940:\tlearn: 10.9488520\ttest: 22.5248035\tbest: 22.0531613 (272)\ttotal: 1.63s\tremaining: 102ms\n",
      "941:\tlearn: 10.9464797\ttest: 22.5271103\tbest: 22.0531613 (272)\ttotal: 1.63s\tremaining: 100ms\n",
      "942:\tlearn: 10.9388258\ttest: 22.5262600\tbest: 22.0531613 (272)\ttotal: 1.63s\tremaining: 98.5ms\n",
      "943:\tlearn: 10.9338938\ttest: 22.5272746\tbest: 22.0531613 (272)\ttotal: 1.63s\tremaining: 96.8ms\n",
      "944:\tlearn: 10.9309274\ttest: 22.5259731\tbest: 22.0531613 (272)\ttotal: 1.63s\tremaining: 95ms\n",
      "945:\tlearn: 10.9258742\ttest: 22.5263916\tbest: 22.0531613 (272)\ttotal: 1.63s\tremaining: 93.3ms\n",
      "946:\tlearn: 10.9127167\ttest: 22.5278094\tbest: 22.0531613 (272)\ttotal: 1.64s\tremaining: 91.6ms\n",
      "947:\tlearn: 10.9038436\ttest: 22.5264349\tbest: 22.0531613 (272)\ttotal: 1.64s\tremaining: 89.8ms\n",
      "948:\tlearn: 10.9022800\ttest: 22.5260032\tbest: 22.0531613 (272)\ttotal: 1.64s\tremaining: 88.1ms\n",
      "949:\tlearn: 10.8928235\ttest: 22.5253472\tbest: 22.0531613 (272)\ttotal: 1.64s\tremaining: 86.4ms\n",
      "950:\tlearn: 10.8883288\ttest: 22.5266270\tbest: 22.0531613 (272)\ttotal: 1.64s\tremaining: 84.7ms\n",
      "951:\tlearn: 10.8818634\ttest: 22.5216308\tbest: 22.0531613 (272)\ttotal: 1.64s\tremaining: 82.9ms\n",
      "952:\tlearn: 10.8781520\ttest: 22.5231878\tbest: 22.0531613 (272)\ttotal: 1.65s\tremaining: 81.2ms\n",
      "953:\tlearn: 10.8754265\ttest: 22.5254486\tbest: 22.0531613 (272)\ttotal: 1.65s\tremaining: 79.5ms\n",
      "954:\tlearn: 10.8718665\ttest: 22.5245450\tbest: 22.0531613 (272)\ttotal: 1.65s\tremaining: 77.7ms\n",
      "955:\tlearn: 10.8612525\ttest: 22.5275321\tbest: 22.0531613 (272)\ttotal: 1.65s\tremaining: 76ms\n",
      "956:\tlearn: 10.8562697\ttest: 22.5259009\tbest: 22.0531613 (272)\ttotal: 1.65s\tremaining: 74.3ms\n",
      "957:\tlearn: 10.8499406\ttest: 22.5304642\tbest: 22.0531613 (272)\ttotal: 1.66s\tremaining: 72.6ms\n",
      "958:\tlearn: 10.8419145\ttest: 22.5313295\tbest: 22.0531613 (272)\ttotal: 1.66s\tremaining: 70.8ms\n",
      "959:\tlearn: 10.8296362\ttest: 22.5386577\tbest: 22.0531613 (272)\ttotal: 1.66s\tremaining: 69.1ms\n",
      "960:\tlearn: 10.8282647\ttest: 22.5399342\tbest: 22.0531613 (272)\ttotal: 1.66s\tremaining: 67.4ms\n",
      "961:\tlearn: 10.8265593\ttest: 22.5428549\tbest: 22.0531613 (272)\ttotal: 1.66s\tremaining: 65.6ms\n",
      "962:\tlearn: 10.8175847\ttest: 22.5442671\tbest: 22.0531613 (272)\ttotal: 1.66s\tremaining: 63.9ms\n",
      "963:\tlearn: 10.8010515\ttest: 22.5405328\tbest: 22.0531613 (272)\ttotal: 1.67s\tremaining: 62.2ms\n",
      "964:\tlearn: 10.7935211\ttest: 22.5415941\tbest: 22.0531613 (272)\ttotal: 1.67s\tremaining: 60.5ms\n",
      "965:\tlearn: 10.7879908\ttest: 22.5460568\tbest: 22.0531613 (272)\ttotal: 1.67s\tremaining: 58.7ms\n",
      "966:\tlearn: 10.7808877\ttest: 22.5455419\tbest: 22.0531613 (272)\ttotal: 1.67s\tremaining: 57ms\n",
      "967:\tlearn: 10.7731244\ttest: 22.5445717\tbest: 22.0531613 (272)\ttotal: 1.67s\tremaining: 55.3ms\n",
      "968:\tlearn: 10.7675427\ttest: 22.5422814\tbest: 22.0531613 (272)\ttotal: 1.67s\tremaining: 53.5ms\n",
      "969:\tlearn: 10.7658434\ttest: 22.5436191\tbest: 22.0531613 (272)\ttotal: 1.68s\tremaining: 51.8ms\n",
      "970:\tlearn: 10.7578268\ttest: 22.5428507\tbest: 22.0531613 (272)\ttotal: 1.68s\tremaining: 50.1ms\n",
      "971:\tlearn: 10.7546194\ttest: 22.5425113\tbest: 22.0531613 (272)\ttotal: 1.68s\tremaining: 48.4ms\n",
      "972:\tlearn: 10.7472605\ttest: 22.5357955\tbest: 22.0531613 (272)\ttotal: 1.68s\tremaining: 46.6ms\n",
      "973:\tlearn: 10.7438963\ttest: 22.5330226\tbest: 22.0531613 (272)\ttotal: 1.68s\tremaining: 44.9ms\n",
      "974:\tlearn: 10.7360068\ttest: 22.5344592\tbest: 22.0531613 (272)\ttotal: 1.68s\tremaining: 43.2ms\n",
      "975:\tlearn: 10.7346745\ttest: 22.5316729\tbest: 22.0531613 (272)\ttotal: 1.68s\tremaining: 41.4ms\n",
      "976:\tlearn: 10.7336276\ttest: 22.5330250\tbest: 22.0531613 (272)\ttotal: 1.69s\tremaining: 39.7ms\n",
      "977:\tlearn: 10.7231660\ttest: 22.5182926\tbest: 22.0531613 (272)\ttotal: 1.69s\tremaining: 38ms\n",
      "978:\tlearn: 10.7206817\ttest: 22.5186506\tbest: 22.0531613 (272)\ttotal: 1.69s\tremaining: 36.3ms\n",
      "979:\tlearn: 10.7095001\ttest: 22.5250367\tbest: 22.0531613 (272)\ttotal: 1.69s\tremaining: 34.5ms\n",
      "980:\tlearn: 10.6991323\ttest: 22.5255527\tbest: 22.0531613 (272)\ttotal: 1.69s\tremaining: 32.8ms\n",
      "981:\tlearn: 10.6914237\ttest: 22.5292617\tbest: 22.0531613 (272)\ttotal: 1.7s\tremaining: 31.1ms\n",
      "982:\tlearn: 10.6886171\ttest: 22.5302147\tbest: 22.0531613 (272)\ttotal: 1.7s\tremaining: 29.4ms\n",
      "983:\tlearn: 10.6868569\ttest: 22.5301628\tbest: 22.0531613 (272)\ttotal: 1.7s\tremaining: 27.6ms\n",
      "984:\tlearn: 10.6834256\ttest: 22.5293506\tbest: 22.0531613 (272)\ttotal: 1.7s\tremaining: 25.9ms\n",
      "985:\tlearn: 10.6723627\ttest: 22.5311629\tbest: 22.0531613 (272)\ttotal: 1.7s\tremaining: 24.2ms\n",
      "986:\tlearn: 10.6603474\ttest: 22.5391079\tbest: 22.0531613 (272)\ttotal: 1.7s\tremaining: 22.4ms\n",
      "987:\tlearn: 10.6566423\ttest: 22.5393957\tbest: 22.0531613 (272)\ttotal: 1.71s\tremaining: 20.7ms\n",
      "988:\tlearn: 10.6499628\ttest: 22.5453377\tbest: 22.0531613 (272)\ttotal: 1.71s\tremaining: 19ms\n",
      "989:\tlearn: 10.6445234\ttest: 22.5490443\tbest: 22.0531613 (272)\ttotal: 1.71s\tremaining: 17.3ms\n",
      "990:\tlearn: 10.6418798\ttest: 22.5478716\tbest: 22.0531613 (272)\ttotal: 1.71s\tremaining: 15.5ms\n",
      "991:\tlearn: 10.6375985\ttest: 22.5501793\tbest: 22.0531613 (272)\ttotal: 1.71s\tremaining: 13.8ms\n",
      "992:\tlearn: 10.6295242\ttest: 22.5494538\tbest: 22.0531613 (272)\ttotal: 1.71s\tremaining: 12.1ms\n",
      "993:\tlearn: 10.6234945\ttest: 22.5495506\tbest: 22.0531613 (272)\ttotal: 1.71s\tremaining: 10.3ms\n",
      "994:\tlearn: 10.6150709\ttest: 22.5528820\tbest: 22.0531613 (272)\ttotal: 1.72s\tremaining: 8.62ms\n",
      "995:\tlearn: 10.6119408\ttest: 22.5538419\tbest: 22.0531613 (272)\ttotal: 1.72s\tremaining: 6.9ms\n",
      "996:\tlearn: 10.6008976\ttest: 22.5573036\tbest: 22.0531613 (272)\ttotal: 1.72s\tremaining: 5.17ms\n",
      "997:\tlearn: 10.5902402\ttest: 22.5543681\tbest: 22.0531613 (272)\ttotal: 1.72s\tremaining: 3.45ms\n",
      "998:\tlearn: 10.5884388\ttest: 22.5522151\tbest: 22.0531613 (272)\ttotal: 1.72s\tremaining: 1.72ms\n",
      "999:\tlearn: 10.5803727\ttest: 22.5537516\tbest: 22.0531613 (272)\ttotal: 1.72s\tremaining: 0us\n",
      "\n",
      "bestTest = 22.05316127\n",
      "bestIteration = 272\n",
      "\n",
      "Shrink model to first 273 iterations.\n"
     ]
    },
    {
     "data": {
      "text/plain": [
       "<catboost.core.CatBoostRegressor at 0x1c66a294f70>"
      ]
     },
     "execution_count": 122,
     "metadata": {},
     "output_type": "execute_result"
    }
   ],
   "source": [
    "catboostModel.fit(X_train, y_train,\n",
    "eval_set=(X_valid, y_valid),\n",
    "    plot=True\n",
    ")"
   ]
  },
  {
   "cell_type": "code",
   "execution_count": 123,
   "metadata": {},
   "outputs": [
    {
     "data": {
      "text/plain": [
       "{'Taining MAE': 10.501919592610724,\n",
       " 'Valid MAE': 13.399901824206609,\n",
       " 'Training R^2': 0.8029317409622692,\n",
       " 'Valid R^2': 0.6734976979410927,\n",
       " 'Training Explained Variance': 0.802931742268851,\n",
       " 'Valid Explained Variance': 0.6741445823002359}"
      ]
     },
     "execution_count": 123,
     "metadata": {},
     "output_type": "execute_result"
    }
   ],
   "source": [
    "# no hyperparameters initial fit\n",
    "display_scores(catboostModel)"
   ]
  },
  {
   "cell_type": "markdown",
   "metadata": {},
   "source": [
    "#### CatBoostRegressor performed best of models trained.  Proceed with hyperparameter training"
   ]
  },
  {
   "cell_type": "markdown",
   "metadata": {},
   "source": [
    "##### use gridsearch cv to optimize hyperparameters"
   ]
  },
  {
   "cell_type": "code",
   "execution_count": 89,
   "metadata": {},
   "outputs": [],
   "source": [
    "model = CatBoostRegressor(random_state=42, logging_level='Silent')\n",
    "parameters = {'depth' : [6,8,10],\n",
    "              'learning_rate' : [0.01, 0.05, 0.1],\n",
    "              'iterations'    : [30, 50, 100]\n",
    "              }\n",
    "grid = GridSearchCV(estimator=model, param_grid=parameters, cv=20, n_jobs=-1)"
   ]
  },
  {
   "cell_type": "code",
   "execution_count": 90,
   "metadata": {},
   "outputs": [
    {
     "data": {
      "text/plain": [
       "GridSearchCV(cv=20,\n",
       "             estimator=<catboost.core.CatBoostRegressor object at 0x000001C6659D6280>,\n",
       "             n_jobs=-1,\n",
       "             param_grid={'depth': [6, 8, 10], 'iterations': [30, 50, 100],\n",
       "                         'learning_rate': [0.01, 0.05, 0.1]})"
      ]
     },
     "execution_count": 90,
     "metadata": {},
     "output_type": "execute_result"
    }
   ],
   "source": [
    "grid.fit(X_train, y_train)"
   ]
  },
  {
   "cell_type": "code",
   "execution_count": 91,
   "metadata": {},
   "outputs": [
    {
     "data": {
      "text/plain": [
       "{'depth': 8, 'iterations': 100, 'learning_rate': 0.1}"
      ]
     },
     "execution_count": 91,
     "metadata": {},
     "output_type": "execute_result"
    }
   ],
   "source": [
    "grid.best_params_"
   ]
  },
  {
   "cell_type": "code",
   "execution_count": 92,
   "metadata": {},
   "outputs": [
    {
     "data": {
      "text/plain": [
       "{'Taining MAE': 10.426482999454686,\n",
       " 'Valid MAE': 13.515024109165024,\n",
       " 'Training R^2': 0.8088634514254747,\n",
       " 'Valid R^2': 0.6705061253695628,\n",
       " 'Training Explained Variance': 0.808863944281316,\n",
       " 'Valid Explained Variance': 0.6711118968205291}"
      ]
     },
     "execution_count": 92,
     "metadata": {},
     "output_type": "execute_result"
    }
   ],
   "source": [
    "display_scores(grid)"
   ]
  },
  {
   "cell_type": "markdown",
   "metadata": {},
   "source": [
    "##### no significant improvement employing gridSearch"
   ]
  },
  {
   "cell_type": "markdown",
   "metadata": {},
   "source": [
    "#### Employing Optuna package to tune hyperparameters"
   ]
  },
  {
   "cell_type": "code",
   "execution_count": 95,
   "metadata": {},
   "outputs": [],
   "source": [
    "\n",
    "# {'learning_rate': 0.018000000000000002, 'depth': 6, 'l2_leaf_reg': 5.5, 'min_child_samples': 16, 'iterations': 1000} best performing\n",
    "def objective(trial):\n",
    "    param = {}\n",
    "    param['learning_rate'] = trial.suggest_discrete_uniform(\"learning_rate\", 0.001, 0.02, 0.001)\n",
    "    param['depth'] = trial.suggest_int('depth', 6, 15)\n",
    "    param['l2_leaf_reg'] = trial.suggest_discrete_uniform('l2_leaf_reg', 1.0, 5.5, 0.5)\n",
    "    param['min_child_samples'] = trial.suggest_categorical('min_child_samples', [1, 4, 8, 16, 32])\n",
    "    param['grow_policy'] = 'Depthwise'\n",
    "    param['iterations'] = trial.suggest_categorical('iterations', [30,100,300,1000])\n",
    "    param['eval_metric'] = 'R2'\n",
    "    param['od_type'] = 'Iter'\n",
    "    param['od_wait'] = 20\n",
    "    param['random_state'] = RANDOM_SEED\n",
    "    param['logging_level'] = 'Silent'\n",
    "    \n",
    "    regressor = CatBoostRegressor(**param)\n",
    "\n",
    "    regressor.fit(X_train.copy(), y_train.copy(),\n",
    "                  eval_set=[(X_valid.copy(), y_valid.copy())])\n",
    "    loss = r2_score(y_valid, regressor.predict(X_valid.copy()))\n",
    "    # loss = mean_squared_error(y_valid, regressor.predict(X_valid.copy()))\n",
    "    return loss"
   ]
  },
  {
   "cell_type": "code",
   "execution_count": null,
   "metadata": {},
   "outputs": [],
   "source": [
    "%%time\n",
    "\n",
    "study = optuna.create_study(study_name=f'catboost-seed{RANDOM_SEED}', direction='maximize')\n",
    "study.optimize(objective, n_trials=200, n_jobs=1, show_progress_bar=True)"
   ]
  },
  {
   "cell_type": "code",
   "execution_count": 97,
   "metadata": {},
   "outputs": [
    {
     "data": {
      "text/plain": [
       "{'learning_rate': 0.018000000000000002,\n",
       " 'depth': 6,\n",
       " 'l2_leaf_reg': 5.5,\n",
       " 'min_child_samples': 16,\n",
       " 'iterations': 1000}"
      ]
     },
     "execution_count": 97,
     "metadata": {},
     "output_type": "execute_result"
    }
   ],
   "source": [
    "study.best_params"
   ]
  },
  {
   "cell_type": "code",
   "execution_count": 98,
   "metadata": {},
   "outputs": [],
   "source": [
    "super_model = CatBoostRegressor(\n",
    "  random_seed=42,\n",
    "  logging_level='Silent',\n",
    "  learning_rate=0.018000000000000002, \n",
    "  depth=6, \n",
    "  l2_leaf_reg=5.5,\n",
    "  min_child_samples=16,\n",
    "  iterations=1000\n",
    ")"
   ]
  },
  {
   "cell_type": "code",
   "execution_count": 99,
   "metadata": {},
   "outputs": [
    {
     "data": {
      "application/vnd.jupyter.widget-view+json": {
       "model_id": "63bb2b9d78814528bb41d43ba812977c",
       "version_major": 2,
       "version_minor": 0
      },
      "text/plain": [
       "MetricVisualizer(layout=Layout(align_self='stretch', height='500px'))"
      ]
     },
     "metadata": {},
     "output_type": "display_data"
    }
   ],
   "source": [
    "super_model.fit(\n",
    "    X_train, y_train,\n",
    "    eval_set=(X_valid, y_valid),\n",
    "    plot=True\n",
    ");"
   ]
  },
  {
   "cell_type": "code",
   "execution_count": 100,
   "metadata": {},
   "outputs": [
    {
     "data": {
      "text/plain": [
       "{'Taining MAE': 11.077103736961925,\n",
       " 'Valid MAE': 13.355171027592336,\n",
       " 'Training R^2': 0.7809286380331671,\n",
       " 'Valid R^2': 0.6808977677212158,\n",
       " 'Training Explained Variance': 0.7809286681281253,\n",
       " 'Valid Explained Variance': 0.6815504560599298}"
      ]
     },
     "execution_count": 100,
     "metadata": {},
     "output_type": "execute_result"
    }
   ],
   "source": [
    "display_scores(super_model)"
   ]
  },
  {
   "cell_type": "code",
   "execution_count": 101,
   "metadata": {},
   "outputs": [],
   "source": [
    "def display_scoresTest_Data(model):\n",
    "    train_preds = model.predict(X_train)\n",
    "    test_preds = model.predict(X_test)\n",
    "    scores = {\n",
    "        \"Taining MAE\": mean_absolute_error(y_train, train_preds),\n",
    "        'Test MAE': mean_absolute_error(y_test, test_preds),\n",
    "        \"Training R^2\": r2_score(y_train, train_preds),\n",
    "        \"Test R^2\": r2_score(y_test, test_preds),\n",
    "        \"Training Explained Variance\": explained_variance_score(y_train, train_preds),\n",
    "        \"Test Explained Variance\": explained_variance_score(y_test, test_preds)\n",
    "    }\n",
    "    return scores"
   ]
  },
  {
   "cell_type": "markdown",
   "metadata": {},
   "source": [
    "##### Original untuned score compared to optuna score:\n",
    "##### no significant improvement"
   ]
  },
  {
   "cell_type": "code",
   "execution_count": 102,
   "metadata": {},
   "outputs": [
    {
     "data": {
      "text/plain": [
       "{'Taining MAE': 11.077103736961925,\n",
       " 'Test MAE': 13.000704637990045,\n",
       " 'Training R^2': 0.7809286380331671,\n",
       " 'Test R^2': 0.6895432891862343,\n",
       " 'Training Explained Variance': 0.7809286681281253,\n",
       " 'Test Explained Variance': 0.6897771598343734}"
      ]
     },
     "execution_count": 102,
     "metadata": {},
     "output_type": "execute_result"
    }
   ],
   "source": [
    "display_scoresTest_Data(super_model)"
   ]
  },
  {
   "cell_type": "code",
   "execution_count": 124,
   "metadata": {},
   "outputs": [
    {
     "data": {
      "text/plain": [
       "{'Taining MAE': 10.501919592610724,\n",
       " 'Test MAE': 12.830619933089665,\n",
       " 'Training R^2': 0.8029317409622692,\n",
       " 'Test R^2': 0.6918281117624554,\n",
       " 'Training Explained Variance': 0.802931742268851,\n",
       " 'Test Explained Variance': 0.6919549186967575}"
      ]
     },
     "execution_count": 124,
     "metadata": {},
     "output_type": "execute_result"
    }
   ],
   "source": [
    "display_scoresTest_Data(catboostModel)"
   ]
  },
  {
   "cell_type": "markdown",
   "metadata": {},
   "source": [
    "#### Unoptimized catboostModel is performing the best of models attempted"
   ]
  },
  {
   "cell_type": "code",
   "execution_count": 125,
   "metadata": {},
   "outputs": [],
   "source": [
    "# save model\n",
    "catboostModel.save_model(fname='CBModel', format='cbm')"
   ]
  },
  {
   "cell_type": "code",
   "execution_count": 126,
   "metadata": {},
   "outputs": [
    {
     "data": {
      "text/plain": [
       "<catboost.core.CatBoostRegressor at 0x1c66a5566d0>"
      ]
     },
     "execution_count": 126,
     "metadata": {},
     "output_type": "execute_result"
    }
   ],
   "source": [
    "# test load model\n",
    "cbmodel = CatBoostRegressor()\n",
    "cbmodel.load_model('cbmodel')"
   ]
  },
  {
   "cell_type": "code",
   "execution_count": 127,
   "metadata": {},
   "outputs": [
    {
     "data": {
      "text/plain": [
       "{'Taining MAE': 10.501919592610724,\n",
       " 'Valid MAE': 13.399901824206609,\n",
       " 'Training R^2': 0.8029317409622692,\n",
       " 'Valid R^2': 0.6734976979410927,\n",
       " 'Training Explained Variance': 0.802931742268851,\n",
       " 'Valid Explained Variance': 0.6741445823002359}"
      ]
     },
     "execution_count": 127,
     "metadata": {},
     "output_type": "execute_result"
    }
   ],
   "source": [
    "display_scores(cbmodel)"
   ]
  },
  {
   "cell_type": "code",
   "execution_count": null,
   "metadata": {},
   "outputs": [],
   "source": []
  }
 ],
 "metadata": {
  "interpreter": {
   "hash": "73c7822d59a7f19048bcb8d1d48edb56502e79c2df4b59ec3fbde37f04654ca5"
  },
  "kernelspec": {
   "display_name": "Python 3.9.6 64-bit",
   "language": "python",
   "name": "python3"
  },
  "language_info": {
   "codemirror_mode": {
    "name": "ipython",
    "version": 3
   },
   "file_extension": ".py",
   "mimetype": "text/x-python",
   "name": "python",
   "nbconvert_exporter": "python",
   "pygments_lexer": "ipython3",
   "version": "3.9.7"
  },
  "orig_nbformat": 4
 },
 "nbformat": 4,
 "nbformat_minor": 2
}
